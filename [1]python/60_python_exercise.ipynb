{
  "cells": [
    {
      "cell_type": "markdown",
      "id": "759d04ba",
      "metadata": {
        "id": "759d04ba"
      },
      "source": [
        "**1-Write a Python program to calculate the length of a string using 2 ways"
      ]
    },
    {
      "cell_type": "code",
      "execution_count": null,
      "id": "e434c950",
      "metadata": {
        "colab": {
          "base_uri": "https://localhost:8080/"
        },
        "id": "e434c950",
        "outputId": "f69ac2d4-7f58-4d00-b4b5-a724e71d570c"
      },
      "outputs": [
        {
          "output_type": "stream",
          "name": "stdout",
          "text": [
            "Enter the number of the element of the list :Ahmed Essam\n",
            "The length of the list :  11\n"
          ]
        }
      ],
      "source": [
        "str = input(\"Enter the string :\")\n",
        "count = 0\n",
        "\n",
        "for char in range(len(str)):\n",
        "  count +=1\n",
        "print(\"The length of the list : \",count)"
      ]
    },
    {
      "cell_type": "code",
      "execution_count": null,
      "id": "7a2dfa32",
      "metadata": {
        "colab": {
          "base_uri": "https://localhost:8080/"
        },
        "id": "7a2dfa32",
        "outputId": "ea22cb48-24f7-4097-ff04-126ddc0c89c2"
      },
      "outputs": [
        {
          "output_type": "stream",
          "name": "stdout",
          "text": [
            "Enter the number of the element of the list :Ahmed Essam\n",
            "The length of the list :  11\n"
          ]
        }
      ],
      "source": [
        "str = input(\"Enter the string :\")\n",
        "\n",
        "print(\"The length of the list : \",len(str))"
      ]
    },
    {
      "cell_type": "markdown",
      "id": "d7cc9da7",
      "metadata": {
        "id": "d7cc9da7"
      },
      "source": [
        "**2-Write a Python program to get a string made of the first 2 and last 2 characters of a given string. If the string length is less than 2, return the empty string instead (\"##Sample String : 'w3resource'\n",
        "Expected Result : 'w3ce'\n",
        "##Sample String : 'w3'\n",
        "Expected Result : 'w3w3'\n",
        "##Sample String : ' w'\n",
        "Expected Result : Empty String)"
      ]
    },
    {
      "cell_type": "code",
      "execution_count": null,
      "id": "dafa9dd8",
      "metadata": {
        "colab": {
          "base_uri": "https://localhost:8080/"
        },
        "id": "dafa9dd8",
        "outputId": "b9b16ef3-5f87-49e4-bc70-10ba92c14058"
      },
      "outputs": [
        {
          "output_type": "stream",
          "name": "stdout",
          "text": [
            "Enter the number of the element of the list :W3\n",
            "W3W3\n"
          ]
        }
      ],
      "source": [
        "str = input(\"Enter the string :\")\n",
        "\n",
        "if len(str) < 2:\n",
        "  print(\"\")\n",
        "else:\n",
        "  print(str[0:2]+str[-2::])\n"
      ]
    },
    {
      "cell_type": "markdown",
      "id": "1534f956",
      "metadata": {
        "id": "1534f956"
      },
      "source": [
        "**3-Write a Python program to add 'ing' at the end of a given string (length should be at least 3). If the given string already ends with 'ing', add 'ly' instead. If the string length of the given string is less than 3, leave it unchanged. (Sample String : 'abc'\n",
        "Expected Result : 'abcing')"
      ]
    },
    {
      "cell_type": "code",
      "execution_count": null,
      "id": "7ff8cec4",
      "metadata": {
        "colab": {
          "base_uri": "https://localhost:8080/"
        },
        "id": "7ff8cec4",
        "outputId": "83188a15-8814-4b7f-f794-e20b6f213c35"
      },
      "outputs": [
        {
          "output_type": "stream",
          "name": "stdout",
          "text": [
            "Enter the string :aaing\n",
            "aaingly\n"
          ]
        }
      ],
      "source": [
        "str = input(\"Enter the string :\")\n",
        "\n",
        "if len(str) < 3:\n",
        "  print(str)\n",
        "elif str[-3::] == \"ing\":\n",
        "  print(str+\"ly\")\n",
        "else:\n",
        "  print(str+\"ing\")"
      ]
    },
    {
      "cell_type": "markdown",
      "id": "1c0a6627",
      "metadata": {
        "id": "1c0a6627"
      },
      "source": [
        "**4-Write a Python function that takes a list of words and return the longest word and the length of the longest one\n",
        "(Longest word: Exercises\n",
        "Length of the longest word: 9)"
      ]
    },
    {
      "cell_type": "code",
      "execution_count": null,
      "id": "397341d9",
      "metadata": {
        "colab": {
          "base_uri": "https://localhost:8080/"
        },
        "id": "397341d9",
        "outputId": "55b49747-fc99-4e37-db82-4c1d62c1afc9"
      },
      "outputs": [
        {
          "output_type": "stream",
          "name": "stdout",
          "text": [
            "Enter the number of the element of the list :5\n",
            "Enter the element of the list : Ahmed Essam\n",
            "Enter the element of the list : Amir\n",
            "Enter the element of the list : Moaz amin\n",
            "Enter the element of the list : Abdelrahman farag\n",
            "Enter the element of the list : Almoatasem Mohamed\n",
            "The longest Word is : Almoatasem Mohamed and its length is : 18\n"
          ]
        }
      ],
      "source": [
        "N = int(input(\"Enter the number of the element of the list :\"))\n",
        "X=[]\n",
        "\n",
        "for i in range(N):\n",
        "  E = input(\"Enter the element of the list : \")\n",
        "  X.append(E)\n",
        "  longest_Word = 0\n",
        "\n",
        "  for word in X:\n",
        "    if len(word) > longest_Word:\n",
        "      longest_w = word\n",
        "      longest_Word = len(word)\n",
        "\n",
        "print(f\"The longest Word is : {longest_w} and its length is : {longest_Word}\")\n"
      ]
    },
    {
      "cell_type": "markdown",
      "id": "53a03a6a",
      "metadata": {
        "id": "53a03a6a"
      },
      "source": [
        "**5-Write a Python program to change a given string to a newly string where the first and last chars have been exchanged using 2 ways (Sample String:abca  Expected Result:ebce)"
      ]
    },
    {
      "cell_type": "code",
      "execution_count": null,
      "id": "fd327d2a",
      "metadata": {
        "colab": {
          "base_uri": "https://localhost:8080/"
        },
        "id": "fd327d2a",
        "outputId": "deae0a55-aee2-4960-a58c-2976beb37320"
      },
      "outputs": [
        {
          "output_type": "stream",
          "name": "stdout",
          "text": [
            "Enter the string : dhmeA\n",
            "Ahmed\n"
          ]
        }
      ],
      "source": [
        "str = input(\"Enter the string : \")\n",
        "if len(str) <= 1:\n",
        "  print(str)\n",
        "else:\n",
        "  print(str[-1]+str[1:-1]+str[0])\n"
      ]
    },
    {
      "cell_type": "code",
      "execution_count": null,
      "id": "285788b4",
      "metadata": {
        "colab": {
          "base_uri": "https://localhost:8080/"
        },
        "id": "285788b4",
        "outputId": "394fd203-ee3d-4f3d-d5ac-add88243fa49"
      },
      "outputs": [
        {
          "output_type": "stream",
          "name": "stdout",
          "text": [
            "Enter the string : dhmeA\n",
            "Ahmed\n"
          ]
        }
      ],
      "source": [
        "str = input(\"Enter the string : \")\n",
        "if len(str) <= 1:\n",
        "  print(str)\n",
        "\n",
        "x = list(str)\n",
        "c=x[0]\n",
        "x[0]=x[-1]\n",
        "x[-1]=c\n",
        "\n",
        "res= \"\".join(x)\n",
        "\n",
        "print(res)"
      ]
    },
    {
      "cell_type": "markdown",
      "id": "25f89808",
      "metadata": {
        "id": "25f89808"
      },
      "source": [
        "**6-Write a Python program to remove characters that have odd index values in a given string (Sample String:abca Expected Result:ac)"
      ]
    },
    {
      "cell_type": "code",
      "source": [
        "str = input(\"Enter the string : \")\n",
        "res = \"\"\n",
        "\n",
        "for char in range(len(str)):\n",
        "    if char %2 == 0:\n",
        "\n",
        "        res += str[char]\n",
        "print(res)"
      ],
      "metadata": {
        "colab": {
          "base_uri": "https://localhost:8080/"
        },
        "id": "9Ex9YT9HzMS3",
        "outputId": "eceae235-b933-48f3-ad7a-d7ac813db73c"
      },
      "id": "9Ex9YT9HzMS3",
      "execution_count": null,
      "outputs": [
        {
          "output_type": "stream",
          "name": "stdout",
          "text": [
            "Enter the string : asdfgh\n",
            "adg\n"
          ]
        }
      ]
    },
    {
      "cell_type": "code",
      "execution_count": null,
      "id": "05959bd7",
      "metadata": {
        "colab": {
          "base_uri": "https://localhost:8080/"
        },
        "id": "05959bd7",
        "outputId": "db639d22-7304-4fd2-bd51-1aae1025c434"
      },
      "outputs": [
        {
          "output_type": "stream",
          "name": "stdout",
          "text": [
            "Enter the string : asdfgh\n",
            "Result :  adg\n"
          ]
        }
      ],
      "source": [
        "str = input(\"Enter the string : \")\n",
        "res = \"\"\n",
        "for index, char in enumerate(str):\n",
        "    if index % 2 == 0:\n",
        "        res += char\n",
        "\n",
        "print(\"Result : \", res)"
      ]
    },
    {
      "cell_type": "markdown",
      "id": "eb16e898",
      "metadata": {
        "id": "eb16e898"
      },
      "source": [
        "**7-Write a Python program to count the occurrences of each word in a given sentence (Sample String:amr and ahmed are frindes but amr is the tallest Expected Result:2)"
      ]
    },
    {
      "cell_type": "code",
      "execution_count": null,
      "id": "01ce6cf5",
      "metadata": {
        "id": "01ce6cf5",
        "colab": {
          "base_uri": "https://localhost:8080/"
        },
        "outputId": "5fcc9b6d-29a2-4e79-b282-ba4552275683"
      },
      "outputs": [
        {
          "output_type": "stream",
          "name": "stdout",
          "text": [
            "Enter the string : amr and ahmed are frindes but amr is the tallest\n",
            "count of The amr word :  2\n",
            "count of The and word :  1\n",
            "count of The ahmed word :  1\n",
            "count of The are word :  1\n",
            "count of The frindes word :  1\n",
            "count of The but word :  1\n",
            "count of The amr word :  2\n",
            "count of The is word :  1\n",
            "count of The the word :  1\n",
            "count of The tallest word :  1\n",
            "\n",
            "the maximum word is :  2\n"
          ]
        }
      ],
      "source": [
        "str = input(\"Enter the string : \")\n",
        "x = str.split()\n",
        "c = 0\n",
        "\n",
        "for i in range(len(x)):\n",
        "    count = 0\n",
        "    for j in range(len(x)):\n",
        "        if x[i] == x[j]:\n",
        "            count += 1\n",
        "        if count > c:\n",
        "            c = count\n",
        "    print(f\"count of The {x[i]} word : \", count)\n",
        "print()\n",
        "print(\"the maximum word is : \",c)"
      ]
    },
    {
      "cell_type": "markdown",
      "id": "4e8125f1",
      "metadata": {
        "id": "4e8125f1"
      },
      "source": [
        "**8-Write a Python script that takes input from the user and displays that input back in upper and lower cases"
      ]
    },
    {
      "cell_type": "code",
      "execution_count": null,
      "id": "66c8f778",
      "metadata": {
        "colab": {
          "base_uri": "https://localhost:8080/"
        },
        "id": "66c8f778",
        "outputId": "e64ee281-4da5-4336-feaa-c642881f459f"
      },
      "outputs": [
        {
          "output_type": "stream",
          "name": "stdout",
          "text": [
            "Enter the string : AHmed\n",
            "the upper of the string :  AHMED\n",
            "the lower of the string :  ahmed\n"
          ]
        }
      ],
      "source": [
        "str = input(\"Enter the string : \")\n",
        "\n",
        "print(\"the upper of the string : \",str.upper())\n",
        "\n",
        "print(\"the lower of the string : \",str.lower())"
      ]
    },
    {
      "cell_type": "markdown",
      "id": "fcd68aa1",
      "metadata": {
        "id": "fcd68aa1"
      },
      "source": [
        "**9-Write a Python function to reverse a string if its length is a multiple of 4"
      ]
    },
    {
      "cell_type": "code",
      "execution_count": null,
      "id": "0671a931",
      "metadata": {
        "colab": {
          "base_uri": "https://localhost:8080/"
        },
        "id": "0671a931",
        "outputId": "6abc09e3-3d6a-423a-99bc-d9e0a1905b00"
      },
      "outputs": [
        {
          "output_type": "stream",
          "name": "stdout",
          "text": [
            "Enter the string : AboEssam\n",
            "massEobA\n"
          ]
        }
      ],
      "source": [
        "str = input(\"Enter the string : \")\n",
        "\n",
        "if len(str) %4 == 0:\n",
        "  print(str[::-1])\n",
        "else:\n",
        "  print(str)"
      ]
    },
    {
      "cell_type": "markdown",
      "id": "b577c68d",
      "metadata": {
        "id": "b577c68d"
      },
      "source": [
        "**10- Write a Python program to remove a newline in Python"
      ]
    },
    {
      "cell_type": "code",
      "execution_count": null,
      "id": "e0c6525a",
      "metadata": {
        "colab": {
          "base_uri": "https://localhost:8080/"
        },
        "id": "e0c6525a",
        "outputId": "38bcc95e-1ed4-4ba6-d7e5-fef1ef5e4dc9"
      },
      "outputs": [
        {
          "output_type": "stream",
          "name": "stdout",
          "text": [
            "Messi is the history\n"
          ]
        }
      ],
      "source": [
        "str =(\"Messi is \\nthe history\")\n",
        "print(str.replace(\"\\n\",\"\"))"
      ]
    },
    {
      "cell_type": "markdown",
      "id": "80db5ae0",
      "metadata": {
        "id": "80db5ae0"
      },
      "source": [
        "**11-Write a Python program to check whether a string starts with specified characters"
      ]
    },
    {
      "cell_type": "code",
      "execution_count": null,
      "id": "0cc4e03e",
      "metadata": {
        "id": "0cc4e03e",
        "colab": {
          "base_uri": "https://localhost:8080/"
        },
        "outputId": "973c7122-f420-432b-ca1c-ce42f55fb43c"
      },
      "outputs": [
        {
          "output_type": "stream",
          "name": "stdout",
          "text": [
            "Enter the string : Ahmed\n",
            "Enter the characters+ : As\n",
            "The string doesnt starts with a specified characters. \n"
          ]
        }
      ],
      "source": [
        "str = input(\"Enter the string : \")\n",
        "char = input(\"Enter the characters+ : \")\n",
        "\n",
        "if str[:len(char)] == char:\n",
        "  print(\"The string starts with a specified characters. \")\n",
        "else:\n",
        "    print(\"The string doesnt starts with a specified characters. \")\n"
      ]
    },
    {
      "cell_type": "markdown",
      "id": "593a68db",
      "metadata": {
        "id": "593a68db"
      },
      "source": [
        "**12- Write a Python program to add prefix text to all of the lines in a string"
      ]
    },
    {
      "cell_type": "code",
      "execution_count": null,
      "id": "d2e46ada",
      "metadata": {
        "id": "d2e46ada",
        "colab": {
          "base_uri": "https://localhost:8080/"
        },
        "outputId": "41b41c98-cbb1-49f1-a28f-8cb7e34b3040"
      },
      "outputs": [
        {
          "output_type": "stream",
          "name": "stdout",
          "text": [
            "Enter the prefix text :AA \n",
            "AA Messi is \n",
            "AA the history \n",
            "AA of football\n"
          ]
        }
      ],
      "source": [
        "str =(\"Messi is \\nthe history \\nof football\")\n",
        "pre_str=input(\"Enter the prefix text :\")\n",
        "for x in range(len(str)):\n",
        "  if str[x] == \"\\n\":\n",
        "    str=str[:x+1]+pre_str+str[x+1::]\n",
        "\n",
        "print(pre_str+str)"
      ]
    },
    {
      "cell_type": "markdown",
      "id": "86fa1543",
      "metadata": {
        "id": "86fa1543"
      },
      "source": [
        "**13-Write a Python program to print the following numbers up to 2 decimal places"
      ]
    },
    {
      "cell_type": "code",
      "source": [
        "number = 3.3449456\n",
        "\n",
        "rounded_number = round(number, 2)\n",
        "print(\"Number up to two decimal places:\", rounded_number)"
      ],
      "metadata": {
        "colab": {
          "base_uri": "https://localhost:8080/"
        },
        "id": "HvDh95uwQ10k",
        "outputId": "9de31975-246c-4b42-b641-4fc1e6e1eb6a"
      },
      "id": "HvDh95uwQ10k",
      "execution_count": null,
      "outputs": [
        {
          "output_type": "stream",
          "name": "stdout",
          "text": [
            "Number up to two decimal places: 3.34\n"
          ]
        }
      ]
    },
    {
      "cell_type": "markdown",
      "id": "452c0ab0",
      "metadata": {
        "id": "452c0ab0"
      },
      "source": [
        "**14-Write a Python program to print the following numbers up to 2 decimal places with a sign"
      ]
    },
    {
      "cell_type": "code",
      "execution_count": null,
      "id": "73e82479",
      "metadata": {
        "id": "73e82479",
        "colab": {
          "base_uri": "https://localhost:8080/"
        },
        "outputId": "c888bb9a-161d-4325-9d88-b8294b029ee0"
      },
      "outputs": [
        {
          "output_type": "stream",
          "name": "stdout",
          "text": [
            "Enter the number : -123.1259\n",
            "The number is -123.13\n"
          ]
        }
      ],
      "source": [
        "number = float(input(\"Enter the number : \"))\n",
        "r = round(number, 2)\n",
        "if r > 0:\n",
        "  print(f\"The number is +{r}\")\n",
        "else:\n",
        "  print(f\"The number is {r}\")"
      ]
    },
    {
      "cell_type": "markdown",
      "id": "32b1811a",
      "metadata": {
        "id": "32b1811a"
      },
      "source": [
        "**15-Write a Python program to display a number with a comma separator"
      ]
    },
    {
      "cell_type": "code",
      "execution_count": null,
      "id": "f30fc0b6",
      "metadata": {
        "id": "f30fc0b6",
        "colab": {
          "base_uri": "https://localhost:8080/"
        },
        "outputId": "f4633a08-56db-456b-d3d5-9f9466d1878e"
      },
      "outputs": [
        {
          "output_type": "stream",
          "name": "stdout",
          "text": [
            "Enter the number : 123456789\n",
            "123,456,789\n"
          ]
        }
      ],
      "source": [
        "number = int(input(\"Enter the number : \"))\n",
        "\n",
        "print(f\"{number:,d}\")"
      ]
    },
    {
      "cell_type": "markdown",
      "id": "0477f487",
      "metadata": {
        "id": "0477f487"
      },
      "source": [
        "**16-Write a Python program to reverse a string using 2 ways"
      ]
    },
    {
      "cell_type": "code",
      "source": [
        "str = input(\"Enter the string : \")\n",
        "x=list(reversed(str))\n",
        "c=\"\".join(x)\n",
        "print(c)"
      ],
      "metadata": {
        "colab": {
          "base_uri": "https://localhost:8080/"
        },
        "id": "lrVQ1-Ex5ZmP",
        "outputId": "acf54fa3-988c-4d3f-d6df-efd6c8816e54"
      },
      "id": "lrVQ1-Ex5ZmP",
      "execution_count": null,
      "outputs": [
        {
          "output_type": "stream",
          "name": "stdout",
          "text": [
            "Enter the string : jhgf\n",
            "fghj\n"
          ]
        }
      ]
    },
    {
      "cell_type": "code",
      "execution_count": null,
      "id": "aa8beec8",
      "metadata": {
        "id": "aa8beec8",
        "colab": {
          "base_uri": "https://localhost:8080/"
        },
        "outputId": "1d7756d6-788d-4759-cae6-08dc395515ed"
      },
      "outputs": [
        {
          "output_type": "stream",
          "name": "stdout",
          "text": [
            "Enter the string : sdfghjdrfty\n",
            "ytfrdjhgfds\n"
          ]
        }
      ],
      "source": [
        "str = input(\"Enter the string : \")\n",
        "print(str[::-1])"
      ]
    },
    {
      "cell_type": "markdown",
      "id": "5afc3166",
      "metadata": {
        "id": "5afc3166"
      },
      "source": [
        " **17-Write a Python program to count repeated characters in a string (hint:use dictionary)"
      ]
    },
    {
      "cell_type": "code",
      "execution_count": null,
      "id": "515a469c",
      "metadata": {
        "id": "515a469c",
        "colab": {
          "base_uri": "https://localhost:8080/"
        },
        "outputId": "db03537e-d4e3-4b92-c1e1-7dd59ec938f9"
      },
      "outputs": [
        {
          "output_type": "stream",
          "name": "stdout",
          "text": [
            "Enter the string : Ahmed Essama\n",
            "{'a': 3, 'h': 1, 'm': 2, 'e': 2, 'd': 1, ' ': 1, 's': 2}\n"
          ]
        }
      ],
      "source": [
        "str = input(\"Enter the string : \")\n",
        "str = str.lower()\n",
        "repeated_characters = {}\n",
        "\n",
        "for i in str:\n",
        "  if i in repeated_characters:\n",
        "    repeated_characters[i] +=1\n",
        "  else:\n",
        "    repeated_characters[i] =1\n",
        "\n",
        "print(repeated_characters)\n"
      ]
    },
    {
      "cell_type": "markdown",
      "id": "ae14e4e5",
      "metadata": {
        "id": "ae14e4e5"
      },
      "source": [
        "**18-Write a Python program to find the first non-repeating character in a given string"
      ]
    },
    {
      "cell_type": "code",
      "execution_count": null,
      "id": "d73778e5",
      "metadata": {
        "id": "d73778e5",
        "colab": {
          "base_uri": "https://localhost:8080/"
        },
        "outputId": "f693254e-bd36-46a6-d9cf-9934237dc288"
      },
      "outputs": [
        {
          "output_type": "stream",
          "name": "stdout",
          "text": [
            "Enter the string : Ahmed Essama\n",
            "the non-repeated character is :  h\n"
          ]
        }
      ],
      "source": [
        "str = input(\"Enter the string : \")\n",
        "str = str.lower()\n",
        "repeated_characters = {}\n",
        "\n",
        "for i in str:\n",
        "  if i in repeated_characters:\n",
        "    repeated_characters[i] +=1\n",
        "  else:\n",
        "    repeated_characters[i] =1\n",
        "\n",
        "for kay,Value in repeated_characters.items():\n",
        "  if Value == 1:\n",
        "    f = 1\n",
        "    break\n",
        "if f == 1:\n",
        "  print(\"the non-repeated character is : \",kay)"
      ]
    },
    {
      "cell_type": "markdown",
      "id": "3adf5669",
      "metadata": {
        "id": "3adf5669"
      },
      "source": [
        "**19-Write a Python program to remove spaces from a given string"
      ]
    },
    {
      "cell_type": "code",
      "execution_count": null,
      "id": "b4f22602",
      "metadata": {
        "id": "b4f22602",
        "colab": {
          "base_uri": "https://localhost:8080/"
        },
        "outputId": "b4004f2c-c6df-4c47-8686-df81d654965e"
      },
      "outputs": [
        {
          "output_type": "stream",
          "name": "stdout",
          "text": [
            "Enter the string : Ahmed Say Hello\n",
            "AhmedSayHello\n"
          ]
        }
      ],
      "source": [
        "str = input(\"Enter the string : \")\n",
        "print(str.replace(\" \",\"\"))"
      ]
    },
    {
      "cell_type": "markdown",
      "id": "734de60c",
      "metadata": {
        "id": "734de60c"
      },
      "source": [
        "**20-Write a Python program to count the number of non-empty substrings of a given string"
      ]
    },
    {
      "cell_type": "code",
      "execution_count": null,
      "id": "ef3f2274",
      "metadata": {
        "id": "ef3f2274",
        "colab": {
          "base_uri": "https://localhost:8080/"
        },
        "outputId": "517c1576-0a20-4049-b13b-a2844259e12f"
      },
      "outputs": [
        {
          "output_type": "stream",
          "name": "stdout",
          "text": [
            "Enter the string : abc\n",
            "6\n"
          ]
        }
      ],
      "source": [
        "str = input(\"Enter the string : \")\n",
        "x = len(str)\n",
        "\n",
        "print(int(x*(x+1)/2))"
      ]
    },
    {
      "cell_type": "markdown",
      "id": "509998e2",
      "metadata": {
        "id": "509998e2"
      },
      "source": [
        "**21-write a Python program to swap first and last element of any list."
      ]
    },
    {
      "cell_type": "code",
      "execution_count": null,
      "id": "68692d7f",
      "metadata": {
        "id": "68692d7f",
        "colab": {
          "base_uri": "https://localhost:8080/"
        },
        "outputId": "69aabdb6-09e2-463d-a416-3026989f19f6"
      },
      "outputs": [
        {
          "output_type": "stream",
          "name": "stdout",
          "text": [
            "Enter number of elements: 5\n",
            "Enter element: A\n",
            "Enter element: ms\n",
            "Enter element: 2\n",
            "Enter element: 6\n",
            "Enter element: 3\n",
            "['3', 'ms', '2', '6', 'A']\n"
          ]
        }
      ],
      "source": [
        "A = []\n",
        "N = int(input(\"Enter number of elements: \"))\n",
        "\n",
        "for i in range(N):\n",
        "  x = input(\"Enter element: \")\n",
        "  A.append(x)\n",
        "A[0],A[-1] = A[-1],A[0]\n",
        "\n",
        "print(A)"
      ]
    },
    {
      "cell_type": "markdown",
      "id": "959e0837",
      "metadata": {
        "id": "959e0837"
      },
      "source": [
        "**22-Given a list in Python and provided the positions of the elements, write a program to swap the two elements in the list.\n",
        "\n",
        "(Input : List = [23, 65, 19, 90], pos1 = 1, pos2 = 3\n",
        "Output : [19, 65, 23, 90])"
      ]
    },
    {
      "cell_type": "code",
      "execution_count": null,
      "id": "225d8c6d",
      "metadata": {
        "id": "225d8c6d",
        "colab": {
          "base_uri": "https://localhost:8080/"
        },
        "outputId": "a43236d8-e645-43fe-fc94-25bc4a858e0f"
      },
      "outputs": [
        {
          "output_type": "stream",
          "name": "stdout",
          "text": [
            "Enter number of elements: 4\n",
            "Enter element: 19\n",
            "Enter element: 65\n",
            "Enter element: 23\n",
            "Enter element: 90\n",
            "pos1 = 1\n",
            "pos2 = 3\n",
            "['19', '90', '23', '65']\n"
          ]
        }
      ],
      "source": [
        "A = []\n",
        "N = int(input(\"Enter number of elements: \"))\n",
        "\n",
        "for i in range(N):\n",
        "  x = input(\"Enter element: \")\n",
        "  A.append(x)\n",
        "c = int(input(\"pos1 = \"))\n",
        "d = int(input(\"pos2 = \"))\n",
        "A[c],A[d] = A[d],A[c]\n",
        "\n",
        "print(A)"
      ]
    },
    {
      "cell_type": "markdown",
      "id": "66fc6682",
      "metadata": {
        "id": "66fc6682"
      },
      "source": [
        "**23- search for the all ways to know the length of the list"
      ]
    },
    {
      "cell_type": "code",
      "source": [
        "from collections import Counter\n",
        "\n",
        "A = [\"Messi\",\"Hamada tolba\",\"ibrahim said\",\"Mohamed abotreka\",\"cr7\"]\n",
        "list_len = sum(Counter(A).values())\n",
        "\n",
        "print(list_len)"
      ],
      "metadata": {
        "colab": {
          "base_uri": "https://localhost:8080/"
        },
        "id": "cP5xx12Whqw0",
        "outputId": "d9195adf-a61b-4e9b-c900-cb6580158b56"
      },
      "id": "cP5xx12Whqw0",
      "execution_count": null,
      "outputs": [
        {
          "output_type": "stream",
          "name": "stdout",
          "text": [
            "5\n"
          ]
        }
      ]
    },
    {
      "cell_type": "code",
      "source": [
        "A = [\"Messi\",\"Hamada tolba\",\"ibrahim said\",\"Mohamed abotreka\",\"cr7\"]\n",
        "\n",
        "s = 0\n",
        "for i, a in enumerate(A):\n",
        "    s += 1\n",
        "print(s)"
      ],
      "metadata": {
        "colab": {
          "base_uri": "https://localhost:8080/"
        },
        "id": "BPiypUdkhYbE",
        "outputId": "ba9f771c-cc12-42bd-d58a-ea1d6c3e5ab1"
      },
      "id": "BPiypUdkhYbE",
      "execution_count": null,
      "outputs": [
        {
          "output_type": "stream",
          "name": "stdout",
          "text": [
            "5\n"
          ]
        }
      ]
    },
    {
      "cell_type": "code",
      "source": [
        "A = [\"Messi\",\"Hamada tolba\",\"ibrahim said\",\"Mohamed abotreka\",\"cr7\"]\n",
        "length = sum(1 for _ in A)\n",
        "\n",
        "print(length)"
      ],
      "metadata": {
        "colab": {
          "base_uri": "https://localhost:8080/"
        },
        "id": "kAAzcy18hCA2",
        "outputId": "fb3471a8-7ecf-4502-f93f-0d9c34d8b905"
      },
      "id": "kAAzcy18hCA2",
      "execution_count": null,
      "outputs": [
        {
          "output_type": "stream",
          "name": "stdout",
          "text": [
            "5\n"
          ]
        }
      ]
    },
    {
      "cell_type": "code",
      "source": [
        "A = [\"Messi\",\"Hamada tolba\",\"ibrahim said\",\"Mohamed abotreka\",\"cr7\"]\n",
        "list_len = sum(1 for i in A)\n",
        "\n",
        "print(list_len)"
      ],
      "metadata": {
        "colab": {
          "base_uri": "https://localhost:8080/"
        },
        "id": "VyGY4lcffg_V",
        "outputId": "66e5a56b-acd9-4a3f-985e-463289af7de8"
      },
      "id": "VyGY4lcffg_V",
      "execution_count": null,
      "outputs": [
        {
          "output_type": "stream",
          "name": "stdout",
          "text": [
            "5\n"
          ]
        }
      ]
    },
    {
      "cell_type": "code",
      "source": [
        "from operator import length_hint\n",
        "\n",
        "A = [\"Messi\",\"Hamada tolba\",\"ibrahim said\",\"Mohamed abotreka\",\"cr7\"]\n",
        "list_len_hint = length_hint(A)\n",
        "\n",
        "print(list_len_hint)"
      ],
      "metadata": {
        "colab": {
          "base_uri": "https://localhost:8080/"
        },
        "id": "nBBKOswneApF",
        "outputId": "9146b180-bce1-44df-cf50-af192aca7b2f"
      },
      "id": "nBBKOswneApF",
      "execution_count": null,
      "outputs": [
        {
          "output_type": "stream",
          "name": "stdout",
          "text": [
            "5\n"
          ]
        }
      ]
    },
    {
      "cell_type": "code",
      "source": [
        "A = [\"Messi\",\"Hamada tolba\",\"ibrahim said\",\"Mohamed abotreka\",\"cr7\"]\n",
        "counter = 0\n",
        "for i in A:\n",
        "  counter += 1\n",
        "\n",
        "print(counter)"
      ],
      "metadata": {
        "colab": {
          "base_uri": "https://localhost:8080/"
        },
        "id": "G3R2ae07diP5",
        "outputId": "f19654c1-7584-491a-832e-790455dc6ab1"
      },
      "id": "G3R2ae07diP5",
      "execution_count": null,
      "outputs": [
        {
          "output_type": "stream",
          "name": "stdout",
          "text": [
            "5\n"
          ]
        }
      ]
    },
    {
      "cell_type": "code",
      "execution_count": null,
      "id": "63ff8b43",
      "metadata": {
        "id": "63ff8b43",
        "colab": {
          "base_uri": "https://localhost:8080/"
        },
        "outputId": "34d9e8e0-dc91-4005-b9b2-13012655ef3b"
      },
      "outputs": [
        {
          "output_type": "stream",
          "name": "stdout",
          "text": [
            "5\n"
          ]
        }
      ],
      "source": [
        "A = [\"Messi\",\"Hamada tolba\",\"ibrahim said\",\"Mohamed abotreka\",\"cr7\"]\n",
        "\n",
        "print(len(A))"
      ]
    },
    {
      "cell_type": "markdown",
      "source": [
        "**24-write a Python code to find the Maximum number of list of numbers."
      ],
      "metadata": {
        "id": "h0ZXG3QgaSxw"
      },
      "id": "h0ZXG3QgaSxw"
    },
    {
      "cell_type": "code",
      "execution_count": null,
      "id": "15f342de",
      "metadata": {
        "id": "15f342de",
        "colab": {
          "base_uri": "https://localhost:8080/"
        },
        "outputId": "639d4e08-c93a-493e-d1cc-1ea72e7c512b"
      },
      "outputs": [
        {
          "output_type": "stream",
          "name": "stdout",
          "text": [
            "Enter number of elements: 5\n",
            "Enter element: 1\n",
            "Enter element: 2\n",
            "Enter element: 3\n",
            "Enter element: 5\n",
            "Enter element: 4\n",
            "5\n"
          ]
        }
      ],
      "source": [
        "A = []\n",
        "N = int(input(\"Enter number of elements: \"))\n",
        "\n",
        "for i in range(N):\n",
        "  x = int(input(\"Enter element: \"))\n",
        "  A.append(x)\n",
        "\n",
        "print(max(A))"
      ]
    },
    {
      "cell_type": "markdown",
      "source": [
        "**25-write a Python code to find the Minimum number of list of numbers."
      ],
      "metadata": {
        "id": "dzxoyKT8aYRk"
      },
      "id": "dzxoyKT8aYRk"
    },
    {
      "cell_type": "code",
      "execution_count": null,
      "id": "21f8cbd6",
      "metadata": {
        "id": "21f8cbd6",
        "colab": {
          "base_uri": "https://localhost:8080/"
        },
        "outputId": "7bfe899a-4e45-4c35-c340-51498dd6cb62"
      },
      "outputs": [
        {
          "output_type": "stream",
          "name": "stdout",
          "text": [
            "Enter number of elements: 5\n",
            "Enter element: 1\n",
            "Enter element: 2\n",
            "Enter element: 3\n",
            "Enter element: 0\n",
            "Enter element: 5\n",
            "0\n"
          ]
        }
      ],
      "source": [
        "A = []\n",
        "N = int(input(\"Enter number of elements: \"))\n",
        "\n",
        "for i in range(N):\n",
        "  x = int(input(\"Enter element: \"))\n",
        "  A.append(x)\n",
        "\n",
        "print(min(A))"
      ]
    },
    {
      "cell_type": "markdown",
      "id": "96822d96",
      "metadata": {
        "id": "96822d96"
      },
      "source": [
        "**26-search for if an elem is existing in list"
      ]
    },
    {
      "cell_type": "code",
      "execution_count": null,
      "id": "51ca5c9a",
      "metadata": {
        "id": "51ca5c9a",
        "colab": {
          "base_uri": "https://localhost:8080/"
        },
        "outputId": "afe0f446-adfe-42c6-aaa6-a77d94b6453c"
      },
      "outputs": [
        {
          "output_type": "stream",
          "name": "stdout",
          "text": [
            "Enter number of elements: 5\n",
            "Enter element: 12\n",
            "Enter element: asd\n",
            "Enter element: 36\n",
            "Enter element: 59\n",
            "Enter element: aerf\n",
            "Enter the elem you serching for : 36\n",
            "exest\n"
          ]
        }
      ],
      "source": [
        "A = []\n",
        "N = int(input(\"Enter number of elements: \"))\n",
        "\n",
        "for i in range(N):\n",
        "  x = input(\"Enter element: \")\n",
        "  A.append(x)\n",
        "\n",
        "elem = input(\"Enter the elem you serching for : \")\n",
        "\n",
        "if elem in A:\n",
        "  print(\"exest\")\n",
        "else:\n",
        "  print(\"doesnt exest\")"
      ]
    },
    {
      "cell_type": "markdown",
      "id": "d9557da7",
      "metadata": {
        "id": "d9557da7"
      },
      "source": [
        "**27- clear python list using different ways"
      ]
    },
    {
      "cell_type": "code",
      "source": [
        "A = []\n",
        "N = int(input(\"Enter number of elements: \"))\n",
        "\n",
        "for i in range(N):\n",
        "  x = input(\"Enter element: \")\n",
        "  A.append(x)\n",
        "\n",
        "print(A)\n",
        "\n",
        "del A[:]\n",
        "print(A)"
      ],
      "metadata": {
        "colab": {
          "base_uri": "https://localhost:8080/"
        },
        "id": "ATEdSrHojB24",
        "outputId": "45815668-b28a-45eb-ba98-cf330f47950d"
      },
      "id": "ATEdSrHojB24",
      "execution_count": null,
      "outputs": [
        {
          "output_type": "stream",
          "name": "stdout",
          "text": [
            "Enter number of elements: 5\n",
            "Enter element: 1\n",
            "Enter element: 2\n",
            "Enter element: 3\n",
            "Enter element: 4\n",
            "Enter element: asd\n",
            "['1', '2', '3', '4', 'asd']\n",
            "[]\n"
          ]
        }
      ]
    },
    {
      "cell_type": "code",
      "execution_count": null,
      "id": "b69858a3",
      "metadata": {
        "id": "b69858a3",
        "colab": {
          "base_uri": "https://localhost:8080/"
        },
        "outputId": "e08f1ebd-81fe-4b1e-ec5e-7ef44df4a54e"
      },
      "outputs": [
        {
          "output_type": "stream",
          "name": "stdout",
          "text": [
            "Enter number of elements: 5\n",
            "Enter element: as\n",
            "Enter element: 5\n",
            "Enter element: dwe\n",
            "Enter element: 561\n",
            "Enter element: 616s\n",
            "['as', '5', 'dwe', '561', '616s']\n",
            "[]\n"
          ]
        }
      ],
      "source": [
        "A = []\n",
        "N = int(input(\"Enter number of elements: \"))\n",
        "\n",
        "for i in range(N):\n",
        "  x = input(\"Enter element: \")\n",
        "  A.append(x)\n",
        "\n",
        "print(A)\n",
        "A.clear()\n",
        "print(A)\n"
      ]
    },
    {
      "cell_type": "markdown",
      "id": "52160e88",
      "metadata": {
        "id": "52160e88"
      },
      "source": [
        "**28-remove duplicated elements from a list"
      ]
    },
    {
      "cell_type": "code",
      "execution_count": null,
      "id": "5e362228",
      "metadata": {
        "id": "5e362228",
        "colab": {
          "base_uri": "https://localhost:8080/"
        },
        "outputId": "e1254f3b-6217-4585-c7b9-2b0fc04bf7af"
      },
      "outputs": [
        {
          "output_type": "stream",
          "name": "stdout",
          "text": [
            "Enter number of elements: 5\n",
            "Enter element: 1\n",
            "Enter element: oerifho\n",
            "Enter element: 1\n",
            "Enter element: iuei\n",
            "Enter element: oerifho\n",
            "['1', 'oerifho', 'iuei']\n"
          ]
        }
      ],
      "source": [
        "A = []\n",
        "N = int(input(\"Enter number of elements: \"))\n",
        "\n",
        "for i in range(N):\n",
        "    x = input(\"Enter element: \")\n",
        "    A.append(x)\n",
        "\n",
        "un_duplicated_element = []\n",
        "\n",
        "for element in A:\n",
        "  if element not in un_duplicated_element:\n",
        "    un_duplicated_element.append(element)\n",
        "\n",
        "A = un_duplicated_element\n",
        "print(A)"
      ]
    },
    {
      "cell_type": "markdown",
      "id": "282337f7",
      "metadata": {
        "id": "282337f7"
      },
      "source": [
        "**29-Given list values and keys list, convert these values to key value pairs in form of list of dictionaries. (Input : test_list = [“Gfg”, 3, “is”, 8], key_list = [“name”, “id”]\n",
        "Output : [{‘name’: ‘Gfg’, ‘id’: 3}, {‘name’: ‘is’, ‘id’: 8}])"
      ]
    },
    {
      "cell_type": "code",
      "execution_count": null,
      "id": "4d4e2d28",
      "metadata": {
        "id": "4d4e2d28",
        "colab": {
          "base_uri": "https://localhost:8080/"
        },
        "outputId": "840d7cb3-95ea-4284-e40c-8cd64fe0fcc8"
      },
      "outputs": [
        {
          "output_type": "stream",
          "name": "stdout",
          "text": [
            "[{'name': 'Gfg', 'id': 3}, {'name': 'is', 'id': 8}]\n"
          ]
        }
      ],
      "source": [
        "test_list = [\"Gfg\", 3,'is', 8]\n",
        "\n",
        "key_list = [\"name\",\"id\"]\n",
        "\n",
        "keys_and_values = [{key_list[0]:test_list[0],key_list[1]:test_list[1]},{key_list[0]:test_list[2],key_list[1]:test_list[3]}]\n",
        "\n",
        "print(keys_and_values)\n"
      ]
    },
    {
      "cell_type": "markdown",
      "id": "c26b6e9f",
      "metadata": {
        "id": "c26b6e9f"
      },
      "source": [
        "**30-write a python program to count unique values inside a list using different ways"
      ]
    },
    {
      "cell_type": "code",
      "source": [
        "my_list = [1, 2, 2, 3, 4, 4, 5]\n",
        "\n",
        "unique_values = set(my_list)\n",
        "\n",
        "count = len(unique_values)\n",
        "\n",
        "print(count)"
      ],
      "metadata": {
        "colab": {
          "base_uri": "https://localhost:8080/"
        },
        "id": "jZ0J9WqzZFmj",
        "outputId": "2710265f-9794-4e6b-8020-b21eb3fa6b24"
      },
      "id": "jZ0J9WqzZFmj",
      "execution_count": null,
      "outputs": [
        {
          "output_type": "stream",
          "name": "stdout",
          "text": [
            "5\n"
          ]
        }
      ]
    },
    {
      "cell_type": "code",
      "execution_count": null,
      "id": "72132667",
      "metadata": {
        "id": "72132667",
        "colab": {
          "base_uri": "https://localhost:8080/"
        },
        "outputId": "84bb3bf6-ac0f-40e9-d475-e22b409cf5d4"
      },
      "outputs": [
        {
          "output_type": "stream",
          "name": "stdout",
          "text": [
            "5\n"
          ]
        }
      ],
      "source": [
        "A = [1, 2, 2, 3, 4, 4, 5]\n",
        "\n",
        "unique_values = []\n",
        "for i in range(len(A)):\n",
        "  if A[i] not in unique_values:\n",
        "    unique_values.append(A[i])\n",
        "\n",
        "count = len(unique_values)\n",
        "\n",
        "print(count)"
      ]
    },
    {
      "cell_type": "markdown",
      "id": "fed6677c",
      "metadata": {
        "id": "fed6677c"
      },
      "source": [
        "**31-write a python program Extract all elements with Frequency greater than K (Input : test_list = [4, 6, 4, 3, 3, 4, 3, 4, 3, 8], K = 3\n",
        "Output : [4, 3] )"
      ]
    },
    {
      "cell_type": "code",
      "execution_count": null,
      "id": "d81f3f9d",
      "metadata": {
        "id": "d81f3f9d",
        "colab": {
          "base_uri": "https://localhost:8080/"
        },
        "outputId": "264367d2-3891-4a3c-df3c-c7f7db3e2d58"
      },
      "outputs": [
        {
          "output_type": "stream",
          "name": "stdout",
          "text": [
            "Enter the frequency : 3\n",
            "[4, 3]\n"
          ]
        }
      ],
      "source": [
        "test_list = [4, 6, 4, 3, 3, 4, 3, 4, 3, 8]\n",
        "\n",
        "repeated_characters = {}\n",
        "frequency = int(input(\"Enter the frequency : \"))\n",
        "for i in test_list:\n",
        "  if i in repeated_characters:\n",
        "    repeated_characters[i] +=1\n",
        "  else:\n",
        "    repeated_characters[i] =1\n",
        "\n",
        "s = list(repeated_characters.keys())\n",
        "c = list(repeated_characters.values())\n",
        "x = []\n",
        "\n",
        "for key,value in repeated_characters.items():\n",
        "  if value > frequency:\n",
        "        x.append(key)\n",
        "\n",
        "print(x)"
      ]
    },
    {
      "cell_type": "markdown",
      "id": "caca5224",
      "metadata": {
        "id": "caca5224"
      },
      "source": [
        "**32-write a python program to find the Strongest Neighbour (Input: 1 2 2 3 4 5\n",
        "Output: 2 2 3 4 5)"
      ]
    },
    {
      "cell_type": "code",
      "execution_count": null,
      "id": "39fbd9b2",
      "metadata": {
        "id": "39fbd9b2",
        "colab": {
          "base_uri": "https://localhost:8080/"
        },
        "outputId": "2099f36d-d8c6-4e3d-a629-6a514bec82cd"
      },
      "outputs": [
        {
          "output_type": "stream",
          "name": "stdout",
          "text": [
            "Enter number of elements: 6\n",
            "Enter element: 1\n",
            "Enter element: 2\n",
            "Enter element: 2\n",
            "Enter element: 3\n",
            "Enter element: 4\n",
            "Enter element: 5\n",
            "2 2 3 4 5 "
          ]
        }
      ],
      "source": [
        "A = []\n",
        "N = int(input(\"Enter number of elements: \"))\n",
        "\n",
        "for i in range(N):\n",
        "    x = int(input(\"Enter element: \"))\n",
        "    A.append(x)\n",
        "\n",
        "for i in range(N):\n",
        "  if A[i] < A[i+1]:\n",
        "    A.remove(A[i])\n",
        "    break\n",
        "\n",
        "for i in A:\n",
        "  print(i,end=\" \")\n"
      ]
    },
    {
      "cell_type": "markdown",
      "id": "a9fa8baf",
      "metadata": {
        "id": "a9fa8baf"
      },
      "source": [
        "**33-write a Python Program to print all Possible Combinations from the three Digits (Input: [1, 2, 3]\n",
        "Output:\n",
        "1 2 3 ##\n",
        "1 3 2 ##\n",
        "2 1 3 ##\n",
        "2 3 1 ##\n",
        "3 1 2 ##\n",
        "3 2 1)"
      ]
    },
    {
      "cell_type": "code",
      "source": [
        "digits = [1, 2, 3]\n",
        "\n",
        "for i in range(3):\n",
        "    for j in range(3):\n",
        "        for k in range(3):\n",
        "            if i != j and i != k and j != k:\n",
        "                print(digits[i], digits[j], digits[k],end=\" ## \")"
      ],
      "metadata": {
        "colab": {
          "base_uri": "https://localhost:8080/"
        },
        "id": "xuibWIqSn3Iz",
        "outputId": "4e0f9279-7dcc-46ca-dce8-ae679176e9a5"
      },
      "id": "xuibWIqSn3Iz",
      "execution_count": null,
      "outputs": [
        {
          "output_type": "stream",
          "name": "stdout",
          "text": [
            "1 2 3 ## 1 3 2 ## 2 1 3 ## 2 3 1 ## 3 1 2 ## 3 2 1 ## "
          ]
        }
      ]
    },
    {
      "cell_type": "markdown",
      "id": "5288bb89",
      "metadata": {
        "id": "5288bb89"
      },
      "source": [
        "**34-write a Python program to find all the Combinations in the list with the given condition\n",
        "(Input: test_list = [1,2,3]\n",
        "Output:[1], [1, 2], [1, 2, 3], [1, 3]\n",
        "[2], [2, 3], [3])"
      ]
    },
    {
      "cell_type": "code",
      "source": [
        "test_list = [1, 2, 3]\n",
        "\n",
        "combinations = []\n",
        "\n",
        "for i in range(len(test_list)):\n",
        "    sublist = []\n",
        "    for j in range(i, len(test_list)):\n",
        "        sublist.append(test_list[j])\n",
        "        combinations.append(sublist.copy())\n",
        "\n",
        "for combo in combinations:\n",
        "    print(combo,end=\" \")"
      ],
      "metadata": {
        "colab": {
          "base_uri": "https://localhost:8080/"
        },
        "id": "c5HWcfcPvOwm",
        "outputId": "bce598ee-d388-4d94-f930-ffd267ddd87d"
      },
      "id": "c5HWcfcPvOwm",
      "execution_count": null,
      "outputs": [
        {
          "output_type": "stream",
          "name": "stdout",
          "text": [
            "[1] [1, 2] [1, 2, 3] [2] [2, 3] [3] "
          ]
        }
      ]
    },
    {
      "cell_type": "code",
      "source": [
        "test_list = [1, 2, 3]\n",
        "combinations = []\n",
        "\n",
        "for i in range(len(test_list)):\n",
        "    for j in range(i + 1, len(test_list) + 1):\n",
        "        combinations.append(test_list[i:j])\n",
        "\n",
        "for combo in combinations:\n",
        "    print(list(combo),end= \" \")"
      ],
      "metadata": {
        "colab": {
          "base_uri": "https://localhost:8080/"
        },
        "id": "JDu2aSEksbtw",
        "outputId": "d20f6bd2-aa1e-46c5-c67a-a134894ddb6b"
      },
      "id": "JDu2aSEksbtw",
      "execution_count": null,
      "outputs": [
        {
          "output_type": "stream",
          "name": "stdout",
          "text": [
            "[1] [1, 2] [1, 2, 3] [2] [2, 3] [3] "
          ]
        }
      ]
    },
    {
      "cell_type": "markdown",
      "id": "39973705",
      "metadata": {
        "id": "39973705"
      },
      "source": [
        "**35-write a Python program to get all unique combinations of two Lists (List_1 = [\"a\",\"b\"]\n",
        "List_2 = [1,2]\n",
        "Unique_combination = [[('a',1),('b',2)],[('a',2),('b',1)]] )"
      ]
    },
    {
      "cell_type": "code",
      "execution_count": null,
      "id": "8c4ba22b",
      "metadata": {
        "id": "8c4ba22b",
        "colab": {
          "base_uri": "https://localhost:8080/"
        },
        "outputId": "c2cd9d4e-4463-4f1f-930b-bc4baccecbab"
      },
      "outputs": [
        {
          "output_type": "stream",
          "name": "stdout",
          "text": [
            "[[('a', 1), ('b', 2)], [('a', 2), ('b', 1)]]\n"
          ]
        }
      ],
      "source": [
        "list_1 = [\"a\",\"b\"]\n",
        "list_2 = [1,2]\n",
        "new_list = []\n",
        "for i in list_1:\n",
        "  for j in list_2:\n",
        "        if i != j :\n",
        "          new_list.append((i, j))\n",
        "new_list[1],new_list[2] = new_list[2],new_list[1]\n",
        "new_list[1],new_list[3] = new_list[3],new_list[1]\n",
        "res_1 = new_list[:2]\n",
        "res_2 = new_list[2::]\n",
        "\n",
        "\n",
        "print([(res_1)]+[(res_2)])\n"
      ]
    },
    {
      "cell_type": "markdown",
      "id": "25199af5",
      "metadata": {
        "id": "25199af5"
      },
      "source": [
        "**36-Remove all the occurrences of an element from a list in Python (Input : 1 1 2 3 4 5 1 2 1\n",
        "\n",
        "**Output : 2 3 4 5 2)"
      ]
    },
    {
      "cell_type": "code",
      "execution_count": null,
      "id": "6dc4c2ba",
      "metadata": {
        "id": "6dc4c2ba",
        "colab": {
          "base_uri": "https://localhost:8080/"
        },
        "outputId": "82276d38-6b13-4d55-d7dd-e4cead02b908"
      },
      "outputs": [
        {
          "output_type": "stream",
          "name": "stdout",
          "text": [
            "3 4 5 4\n"
          ]
        }
      ],
      "source": [
        "A = [ 1 , 1 , 3 , 4 , 5 , 1 ,4 ,1]\n",
        "repeated_characters = {}\n",
        "\n",
        "for i in A:\n",
        "  if i in repeated_characters:\n",
        "    repeated_characters[i] +=1\n",
        "  else:\n",
        "    repeated_characters[i] =1\n",
        "\n",
        "s = list(repeated_characters.keys())\n",
        "c = list(repeated_characters.values())\n",
        "\n",
        "max_frequency = max(repeated_characters.values())\n",
        "\n",
        "\n",
        "most_frequent_elements = [key for key, value in repeated_characters.items() if value == max_frequency]\n",
        "\n",
        "while most_frequent_elements[0] in A:\n",
        "    A.remove(most_frequent_elements[0])\n",
        "M = \" \".join(map(str,A))\n",
        "print(M)"
      ]
    },
    {
      "cell_type": "markdown",
      "id": "bf1a3c93",
      "metadata": {
        "id": "bf1a3c93"
      },
      "source": [
        "**37-write a python program to Replace index elements with elements in Other List (The original list 1 is : [‘Gfg’, ‘is’, ‘best’] The original list 2 is : [0, 1, 2, 1, 0, 0, 0, 2, 1, 1, 2, 0] The lists after index elements replacements is : [‘Gfg’, ‘is’, ‘best’, ‘is’, ‘Gfg’, ‘Gfg’, ‘Gfg’, ‘best’, ‘is’, ‘is’, ‘best’, ‘Gfg’])"
      ]
    },
    {
      "cell_type": "code",
      "execution_count": 3,
      "id": "fdd66a71",
      "metadata": {
        "id": "fdd66a71",
        "colab": {
          "base_uri": "https://localhost:8080/"
        },
        "outputId": "f09e832d-88f1-49b2-881d-6430825f51de"
      },
      "outputs": [
        {
          "output_type": "stream",
          "name": "stdout",
          "text": [
            "['Gfg', 'is', 'best', 'is', 'Gfg', 'Gfg', 'Gfg', 'best', 'is', 'is', 'best', 'Gfg']\n"
          ]
        }
      ],
      "source": [
        "original_list_1 = [\"Gfg\",\"is\",\"best\"]\n",
        "original_list_2 = [0, 1, 2, 1, 0, 0, 0, 2, 1, 1, 2, 0]\n",
        "\n",
        "for i in range(len(original_list_2)):\n",
        "  if original_list_2[i] == 0:\n",
        "    original_list_2[i] = original_list_1[0]\n",
        "  elif original_list_2[i] == 1:\n",
        "    original_list_2[i] = original_list_1[1]\n",
        "  else:\n",
        "    original_list_2[i] = original_list_1[2]\n",
        "\n",
        "print(original_list_2)"
      ]
    },
    {
      "cell_type": "markdown",
      "id": "af0f56e8",
      "metadata": {
        "id": "af0f56e8"
      },
      "source": [
        "**38- write python program to Retain records with N occurrences of K(Input : test_list = [(4, 5, 5, 4), (5, 4, 3)], K = 5, N = 2\n",
        "Output : [(4, 5, 5, 4)]\n",
        "Input : test_list = [(4, 5, 5, 4), (5, 4, 3)], K = 5, N = 3\n",
        "Output : [] )"
      ]
    },
    {
      "cell_type": "code",
      "source": [
        "test_list = [(4, 5, 5, 4), (5, 4, 3)]\n",
        "k = int(input(\"enter the number you searching for : \"))\n",
        "n = int(input(\"Enter the number of occurrences : \"))\n",
        "res = []\n",
        "for tup in test_list:\n",
        "    count = 0\n",
        "    for element in tup:\n",
        "        if element == k:\n",
        "            count += 1\n",
        "    if count == n:\n",
        "       res.append(tup)\n",
        "\n",
        "print(res)"
      ],
      "metadata": {
        "colab": {
          "base_uri": "https://localhost:8080/"
        },
        "id": "GjgsusOxeCuL",
        "outputId": "ca06c7cc-d1c5-4dfd-86b6-0f581254c83c"
      },
      "id": "GjgsusOxeCuL",
      "execution_count": 26,
      "outputs": [
        {
          "output_type": "stream",
          "name": "stdout",
          "text": [
            "enter the number you searching for : 5\n",
            "Enter the number of occurrences : 2\n",
            "[(4, 5, 5, 4)]\n"
          ]
        }
      ]
    },
    {
      "cell_type": "code",
      "execution_count": 27,
      "id": "67b06671",
      "metadata": {
        "id": "67b06671",
        "colab": {
          "base_uri": "https://localhost:8080/"
        },
        "outputId": "e950c57a-1f60-476d-9cfe-0519d294c7d5"
      },
      "outputs": [
        {
          "output_type": "stream",
          "name": "stdout",
          "text": [
            "enter the number you searching for : 5\n",
            "Enter the number of occurrences : 3\n",
            "[]\n"
          ]
        }
      ],
      "source": [
        "test_list = [(4,5,5,4),(5,4,3)]\n",
        "k = int(input(\"enter the number you searching for : \"))\n",
        "n = int(input(\"Enter the number of occurrences : \"))\n",
        "res = []\n",
        "\n",
        "for tup in test_list:\n",
        "  count = 0\n",
        "  for j in tup:\n",
        "    if j == k:\n",
        "      count += 1\n",
        "  if count == n:\n",
        "    res.append(tup)\n",
        "\n",
        "print(res)"
      ]
    },
    {
      "cell_type": "markdown",
      "id": "de76f183",
      "metadata": {
        "id": "de76f183"
      },
      "source": [
        "**39-write a Python Program to Sort the list according to the column using lambda\n",
        "array = [[1, 3, 3], [2, 1, 2], [3, 2, 1]]\n",
        "Output :\n",
        "Sorted array specific to column 0, [[1, 3, 3], [2, 1, 2], [3, 2, 1]]\n",
        "Sorted array specific to column 1, [[2, 1, 2], [3, 2, 1], [1, 3, 3]]\n",
        "Sorted array specific to column 2, [[3, 2, 1], [2, 1, 2], [1, 3, 3]]"
      ]
    },
    {
      "cell_type": "code",
      "source": [
        "array = [[1, 3, 3], [2, 1, 2], [3, 2, 1]]\n",
        "\n",
        "array.sort(key=lambda x: x[0])\n",
        "print(\"Sorted array specific to column 0:\", array)\n",
        "\n",
        "array.sort(key=lambda x: x[1])\n",
        "print(\"Sorted array specific to column 1:\", array)\n",
        "\n",
        "array.sort(key=lambda x: x[2])\n",
        "print(\"Sorted array specific to column 2:\", array)"
      ],
      "metadata": {
        "colab": {
          "base_uri": "https://localhost:8080/"
        },
        "id": "LESLMEdtinbs",
        "outputId": "e45b4d8d-9feb-4705-8ad5-4d636db83cbb"
      },
      "id": "LESLMEdtinbs",
      "execution_count": 34,
      "outputs": [
        {
          "output_type": "stream",
          "name": "stdout",
          "text": [
            "Sorted array specific to column 0: [[1, 3, 3], [2, 1, 2], [3, 2, 1]]\n",
            "Sorted array specific to column 1: [[2, 1, 2], [3, 2, 1], [1, 3, 3]]\n",
            "Sorted array specific to column 2: [[3, 2, 1], [2, 1, 2], [1, 3, 3]]\n"
          ]
        }
      ]
    },
    {
      "cell_type": "markdown",
      "source": [
        "**40- write a program to Sort Python Dictionaries by Key or Value\n",
        "Input:\n",
        "{'ravi': 10, 'rajnish': 9, 'sanjeev': 15, 'yash': 2, 'suraj': 32}\n",
        "Output:\n",
        "{'rajnish': 9, 'ravi': 10, 'sanjeev': 15, 'suraj': 32, 'yash': 2}\n"
      ],
      "metadata": {
        "id": "3dk_WkTsLPAC"
      },
      "id": "3dk_WkTsLPAC"
    },
    {
      "cell_type": "code",
      "execution_count": 38,
      "id": "d2e7b31f",
      "metadata": {
        "id": "d2e7b31f",
        "colab": {
          "base_uri": "https://localhost:8080/"
        },
        "outputId": "52bd1b56-645c-4799-adc4-f3fcbe5c1f42"
      },
      "outputs": [
        {
          "output_type": "stream",
          "name": "stdout",
          "text": [
            "{'rajnish': 9, 'ravi': 10, 'sanjeev': 15, 'suraj': 32, 'yash': 2}\n"
          ]
        }
      ],
      "source": [
        "input_dict = {'ravi': 10, 'rajnish': 9, 'sanjeev': 15, 'yash': 2, 'suraj': 32}\n",
        "\n",
        "\n",
        "sorted_items = sorted(input_dict.items())\n",
        "sorted_dict_by_key = dict(sorted_items)\n",
        "\n",
        "print(sorted_dict_by_key)"
      ]
    },
    {
      "cell_type": "markdown",
      "id": "ec63c23a",
      "metadata": {
        "id": "ec63c23a"
      },
      "source": [
        "**41-write python program to Remove keys with Values Greater than K ( Including mixed values )\n",
        "nput : test_dict = {‘Gfg’ : 3, ‘is’ : 7, ‘best’ : 10, ‘for’ : 6, ‘geeks’ : ‘CS’},\n",
        "K = 7\n",
        "Output : {‘Gfg’ : 3, ‘for’ : 6, ‘geeks’ : ‘CS’}"
      ]
    },
    {
      "cell_type": "code",
      "execution_count": 36,
      "id": "e39c3a40",
      "metadata": {
        "id": "e39c3a40",
        "colab": {
          "base_uri": "https://localhost:8080/"
        },
        "outputId": "43bd1305-e744-4228-9526-b99e8d56d653"
      },
      "outputs": [
        {
          "output_type": "stream",
          "name": "stdout",
          "text": [
            "{'Gfg': 3, 'for': 6, 'geeks': 'CS'}\n"
          ]
        }
      ],
      "source": [
        "d = {\"Gfg\" : 3, \"is\" : 7, \"best\" : 10, \"for\" : 6, \"geeks\" : \"CS\"}\n",
        "k = 7\n",
        "key_found = None\n",
        "key_removed = []\n",
        "\n",
        "for key,value in d.items():\n",
        "  if isinstance(value,int) and value >= k:\n",
        "    key_removed.append(key)\n",
        "for key in key_removed:\n",
        "  del d[key]\n",
        "print(d)"
      ]
    },
    {
      "cell_type": "markdown",
      "id": "f143f0fe",
      "metadata": {
        "id": "f143f0fe"
      },
      "source": [
        "**42-Write a Python program to concatenate the following dictionaries to create a new one\n",
        "\n",
        "Sample Dictionary :\n",
        "dic1={1:10, 2:20}\n",
        "dic2={3:30, 4:40}\n",
        "dic3={5:50,6:60}\n",
        "Expected Result : {1: 10, 2: 20, 3: 30, 4: 40, 5: 50, 6: 60}"
      ]
    },
    {
      "cell_type": "code",
      "execution_count": null,
      "id": "74ffdfea",
      "metadata": {
        "id": "74ffdfea",
        "colab": {
          "base_uri": "https://localhost:8080/"
        },
        "outputId": "a45be224-3f2a-49fd-d503-aba768aff909"
      },
      "outputs": [
        {
          "output_type": "stream",
          "name": "stdout",
          "text": [
            "{1: 10, 2: 20, 3: 30, 4: 40, 5: 50, 6: 60}\n"
          ]
        }
      ],
      "source": [
        "dic1={1:10, 2:20}\n",
        "dic2={3:30, 4:40}\n",
        "dic3={5:50,6:60}\n",
        "\n",
        "dic1.update(dic2)\n",
        "dic1.update(dic3)\n",
        "\n",
        "print(dic1)"
      ]
    },
    {
      "cell_type": "markdown",
      "id": "fb04c93c",
      "metadata": {
        "id": "fb04c93c"
      },
      "source": [
        "**43-Write a Python program to iterate over dictionaries using for loops"
      ]
    },
    {
      "cell_type": "code",
      "execution_count": null,
      "id": "6aebc470",
      "metadata": {
        "id": "6aebc470",
        "colab": {
          "base_uri": "https://localhost:8080/"
        },
        "outputId": "5856fc29-edbe-4d79-fbef-5a72da3199b3"
      },
      "outputs": [
        {
          "output_type": "stream",
          "name": "stdout",
          "text": [
            "1 --> Ahmed\n",
            "2 --> Say\n",
            "3 --> today is the day\n"
          ]
        }
      ],
      "source": [
        "d = {1:\"Ahmed\",2:\"Say\",3:\"today is the day\"}\n",
        "\n",
        "for key,value in d.items():\n",
        "    print(key,'-->',value)"
      ]
    },
    {
      "cell_type": "markdown",
      "id": "5f491a9d",
      "metadata": {
        "id": "5f491a9d"
      },
      "source": [
        "**44- Write a Python script to merge two Python dictionaries"
      ]
    },
    {
      "cell_type": "code",
      "execution_count": null,
      "id": "b8a14028",
      "metadata": {
        "id": "b8a14028",
        "colab": {
          "base_uri": "https://localhost:8080/"
        },
        "outputId": "d06207df-41ab-49ae-c48e-9ed8e7a4aa10"
      },
      "outputs": [
        {
          "output_type": "stream",
          "name": "stdout",
          "text": [
            "{1: 'Ahmed', 2: 'say', 3: 'why', 4: '123'}\n"
          ]
        }
      ],
      "source": [
        "d1 = {1:\"Ahmed\", 2:\"say\"}\n",
        "d2 = {3:\"why\", 4:\"123\"}\n",
        "d1.update(d2)\n",
        "print(d1)"
      ]
    },
    {
      "cell_type": "markdown",
      "id": "216fc72d",
      "metadata": {
        "id": "216fc72d"
      },
      "source": [
        "**45-Write a Python program to get the maximum and minimum values of a dictionary values"
      ]
    },
    {
      "cell_type": "code",
      "execution_count": 40,
      "id": "d6883f5f",
      "metadata": {
        "id": "d6883f5f",
        "colab": {
          "base_uri": "https://localhost:8080/"
        },
        "outputId": "13f0e304-8878-414f-ca4d-88021c15b431"
      },
      "outputs": [
        {
          "output_type": "stream",
          "name": "stdout",
          "text": [
            "16\n",
            "1\n"
          ]
        }
      ],
      "source": [
        "d = {1: 1, 2: 4, 3: 9, 4: 16}\n",
        "l = list(d.values())\n",
        "\n",
        "\n",
        "max_value = max(l)\n",
        "min_value = min(l)\n",
        "\n",
        "print(max_value)\n",
        "print(min_value)"
      ]
    },
    {
      "cell_type": "markdown",
      "id": "b6a53011",
      "metadata": {
        "id": "b6a53011"
      },
      "source": [
        "**46- Write a Python program to drop empty items from a given dictionary.\n",
        "Original Dictionary:\n",
        "{'c1': 'Red', 'c2': 'Green', 'c3': None}\n",
        "New Dictionary after dropping empty items:\n",
        "{'c1': 'Red', 'c2': 'Green'}"
      ]
    },
    {
      "cell_type": "code",
      "execution_count": 43,
      "id": "b5c6fecf",
      "metadata": {
        "id": "b5c6fecf",
        "colab": {
          "base_uri": "https://localhost:8080/"
        },
        "outputId": "13a1d668-cfe8-4870-c1d2-bdf554a8b7df"
      },
      "outputs": [
        {
          "output_type": "stream",
          "name": "stdout",
          "text": [
            "{'c1': 'Red', 'c2': 'Green'}\n"
          ]
        }
      ],
      "source": [
        "d = {'c1': 'Red', 'c2': 'Green', 'c3': None}\n",
        "\n",
        "keys_to_remove = []\n",
        "\n",
        "for key, value in d.items():\n",
        "    if value is None:\n",
        "        keys_to_remove.append(key)\n",
        "\n",
        "for key in keys_to_remove:\n",
        "    del d[key]\n",
        "\n",
        "print(d)"
      ]
    },
    {
      "cell_type": "markdown",
      "id": "46d718c7",
      "metadata": {
        "id": "46d718c7"
      },
      "source": [
        "**47-Write a Python program to create a tuple of numbers and print one item"
      ]
    },
    {
      "cell_type": "code",
      "execution_count": 41,
      "id": "13216ff5",
      "metadata": {
        "id": "13216ff5",
        "colab": {
          "base_uri": "https://localhost:8080/"
        },
        "outputId": "644dbe33-7cb2-4eb6-f709-794eaa40ef5f"
      },
      "outputs": [
        {
          "output_type": "stream",
          "name": "stdout",
          "text": [
            "3\n"
          ]
        }
      ],
      "source": [
        "t = (4,3,1,2)\n",
        "\n",
        "print(t[1])"
      ]
    },
    {
      "cell_type": "markdown",
      "id": "2be5b56b",
      "metadata": {
        "id": "2be5b56b"
      },
      "source": [
        "**48-Write a Python program to unpack a tuple into several variables"
      ]
    },
    {
      "cell_type": "code",
      "execution_count": null,
      "id": "595f44be",
      "metadata": {
        "id": "595f44be",
        "colab": {
          "base_uri": "https://localhost:8080/"
        },
        "outputId": "aab9e0df-6bdc-4975-9413-0e6aa4089192"
      },
      "outputs": [
        {
          "output_type": "stream",
          "name": "stdout",
          "text": [
            "1\n",
            "2\n",
            "3\n"
          ]
        }
      ],
      "source": [
        "t = (1,2,3)\n",
        "\n",
        "a,b,c = t\n",
        "\n",
        "print(a)\n",
        "print(b)\n",
        "print(c)"
      ]
    },
    {
      "cell_type": "markdown",
      "id": "392388a7",
      "metadata": {
        "id": "392388a7"
      },
      "source": [
        "**49-Write a Python program to add an item to a tuple"
      ]
    },
    {
      "cell_type": "code",
      "execution_count": null,
      "id": "54cc092e",
      "metadata": {
        "id": "54cc092e",
        "colab": {
          "base_uri": "https://localhost:8080/"
        },
        "outputId": "46fdfc28-859f-49cf-a922-cb27844d27ec"
      },
      "outputs": [
        {
          "output_type": "stream",
          "name": "stdout",
          "text": [
            "4\n",
            "(1, 2, 3, 4)\n"
          ]
        }
      ],
      "source": [
        "t = (1,2,3)\n",
        "\n",
        "x = int(input())\n",
        "\n",
        "new = t+(x,)\n",
        "\n",
        "print(new)"
      ]
    },
    {
      "cell_type": "markdown",
      "id": "3e8fd124",
      "metadata": {
        "id": "3e8fd124"
      },
      "source": [
        "**50-Write a Python program to convert a tuple to a string"
      ]
    },
    {
      "cell_type": "code",
      "execution_count": null,
      "id": "92a71ddc",
      "metadata": {
        "id": "92a71ddc",
        "colab": {
          "base_uri": "https://localhost:8080/"
        },
        "outputId": "b63a0364-829b-4f2e-a58f-1a9a625ca6fd"
      },
      "outputs": [
        {
          "output_type": "stream",
          "name": "stdout",
          "text": [
            "<class 'str'> 123\n"
          ]
        }
      ],
      "source": [
        "t = (1,2,3)\n",
        "\n",
        "x = \"\".join(map(str,t))\n",
        "\n",
        "print(type(x),x)"
      ]
    },
    {
      "cell_type": "markdown",
      "id": "f4f64ef4",
      "metadata": {
        "id": "f4f64ef4"
      },
      "source": [
        "**51-Write a Python program to convert a list to a tuple"
      ]
    },
    {
      "cell_type": "code",
      "execution_count": null,
      "id": "210d56d3",
      "metadata": {
        "id": "210d56d3",
        "colab": {
          "base_uri": "https://localhost:8080/"
        },
        "outputId": "5d916f71-eaf4-4bf4-bb5e-6425eacfcd46"
      },
      "outputs": [
        {
          "output_type": "stream",
          "name": "stdout",
          "text": [
            "(1, 2, 3, 4, 5)\n"
          ]
        }
      ],
      "source": [
        "l = [1,2,3,4,5]\n",
        "\n",
        "t = tuple(l)\n",
        "\n",
        "print(t)"
      ]
    },
    {
      "cell_type": "markdown",
      "id": "b1e00ef7",
      "metadata": {
        "id": "b1e00ef7"
      },
      "source": [
        "**52-Write a Python program to reverse a tuple"
      ]
    },
    {
      "cell_type": "code",
      "source": [
        "t = (1,2,3,4,5)\n",
        "print(t[::-1])"
      ],
      "metadata": {
        "colab": {
          "base_uri": "https://localhost:8080/"
        },
        "id": "Yka2tj8KToxT",
        "outputId": "238b262d-9885-479f-d55f-95b101f73c14"
      },
      "id": "Yka2tj8KToxT",
      "execution_count": null,
      "outputs": [
        {
          "output_type": "stream",
          "name": "stdout",
          "text": [
            "(5, 4, 3, 2, 1)\n"
          ]
        }
      ]
    },
    {
      "cell_type": "code",
      "execution_count": null,
      "id": "f45bfdc7",
      "metadata": {
        "id": "f45bfdc7",
        "colab": {
          "base_uri": "https://localhost:8080/"
        },
        "outputId": "a720a6a2-3e0f-474b-b96a-cd4b4dbde958"
      },
      "outputs": [
        {
          "output_type": "stream",
          "name": "stdout",
          "text": [
            "(5, 4, 3, 2, 1)\n"
          ]
        }
      ],
      "source": [
        "t = (1,2,3,4,5)\n",
        "\n",
        "l = list(t)\n",
        "n = list(reversed(l))\n",
        "\n",
        "m = tuple(n)\n",
        "\n",
        "print(m)"
      ]
    },
    {
      "cell_type": "markdown",
      "id": "3cd347d1",
      "metadata": {
        "id": "3cd347d1"
      },
      "source": [
        "**53-Write a Python program to replace the last value of tuples in a list.\n",
        "Sample list: [(10, 20, 40), (40, 50, 60), (70, 80, 90)]\n",
        "Expected Output: [(10, 20, 100), (40, 50, 100), (70, 80, 100)]"
      ]
    },
    {
      "cell_type": "code",
      "execution_count": 4,
      "id": "3c4a2a4c",
      "metadata": {
        "id": "3c4a2a4c",
        "colab": {
          "base_uri": "https://localhost:8080/"
        },
        "outputId": "13c5a162-abd3-43f7-fd85-7705a8e85440"
      },
      "outputs": [
        {
          "output_type": "stream",
          "name": "stdout",
          "text": [
            "[(10, 20, 100), (40, 50, 100), (70, 80, 100)]\n"
          ]
        }
      ],
      "source": [
        "sample_value = [(10, 20, 40), (40, 50, 60), (70, 80, 90)]\n",
        "new_sample_value = []\n",
        "\n",
        "for tup in sample_value:\n",
        "    modified_tup = []\n",
        "    for value in tup:\n",
        "        if value == tup[-1]:\n",
        "            modified_tup.append(100)\n",
        "        else:\n",
        "            modified_tup.append(value)\n",
        "    new_sample_value.append(tuple(modified_tup))\n",
        "\n",
        "print(new_sample_value)"
      ]
    },
    {
      "cell_type": "markdown",
      "id": "76bb7b39",
      "metadata": {
        "id": "76bb7b39"
      },
      "source": [
        "**54-Write a Python program to convert a given string list to a tuple\n",
        "Original string: python 3.0\n",
        "<class 'str'>\n",
        "Convert the said string to a tuple:\n",
        "('p', 'y', 't', 'h', 'o', 'n', '3', '.', '0')"
      ]
    },
    {
      "cell_type": "code",
      "execution_count": 6,
      "id": "51951937",
      "metadata": {
        "id": "51951937",
        "colab": {
          "base_uri": "https://localhost:8080/"
        },
        "outputId": "f72fe3bf-4338-4fb3-abbb-11877519718e"
      },
      "outputs": [
        {
          "output_type": "stream",
          "name": "stdout",
          "text": [
            "('p', 'y', 't', 'h', 'o', 'n', ' ', '3', '.', '0', ' ', '<', 'c', 'l', 'a', 's', 's', ' ', \"'\", 's', 't', 'r', \"'\", '>')\n"
          ]
        }
      ],
      "source": [
        "original_str = \"python 3.0 <class 'str'>\"\n",
        "\n",
        "original_tup = tuple(original_str)\n",
        "\n",
        "print(original_tup)"
      ]
    },
    {
      "cell_type": "markdown",
      "id": "5a1d5d97",
      "metadata": {
        "id": "5a1d5d97"
      },
      "source": [
        "**55-Write a Python program to calculate the average value of the numbers in a given tuple of tuples"
      ]
    },
    {
      "cell_type": "code",
      "execution_count": 7,
      "id": "834e7992",
      "metadata": {
        "id": "834e7992",
        "colab": {
          "base_uri": "https://localhost:8080/"
        },
        "outputId": "22450703-0484-474c-9df8-df92695b4238"
      },
      "outputs": [
        {
          "output_type": "stream",
          "name": "stdout",
          "text": [
            "5.0\n"
          ]
        }
      ],
      "source": [
        "tuple_of_tuples = ((1, 2, 3), (4, 5, 6), (7, 8, 9))\n",
        "\n",
        "total_sum = 0\n",
        "total_count = 0\n",
        "\n",
        "for tup in tuple_of_tuples:\n",
        "    for number in tup:\n",
        "        total_sum += number\n",
        "        total_count += 1\n",
        "\n",
        "if total_count > 0:\n",
        "    average = total_sum / total_count\n",
        "else:\n",
        "    average = 0\n",
        "\n",
        "print(average)"
      ]
    },
    {
      "cell_type": "markdown",
      "id": "51edab9c",
      "metadata": {
        "id": "51edab9c"
      },
      "source": [
        "**56-Write a Python program to add member(s) to a set."
      ]
    },
    {
      "cell_type": "code",
      "execution_count": null,
      "id": "2b65df79",
      "metadata": {
        "id": "2b65df79",
        "colab": {
          "base_uri": "https://localhost:8080/"
        },
        "outputId": "95773a42-0d77-4b5d-f026-3933e4055e48"
      },
      "outputs": [
        {
          "output_type": "stream",
          "name": "stdout",
          "text": [
            "{1, 2, 3, 4, 5, 6}\n"
          ]
        }
      ],
      "source": [
        "s = {1,2,3}\n",
        "\n",
        "s.add(4)\n",
        "\n",
        "s.update([5,6])\n",
        "\n",
        "print(s)"
      ]
    },
    {
      "cell_type": "markdown",
      "id": "965590cc",
      "metadata": {
        "id": "965590cc"
      },
      "source": [
        "**57-Write a Python program to remove an item from a set if it is present in the set."
      ]
    },
    {
      "cell_type": "code",
      "execution_count": 12,
      "id": "866bab28",
      "metadata": {
        "id": "866bab28",
        "colab": {
          "base_uri": "https://localhost:8080/"
        },
        "outputId": "1682cc2a-09ce-4af0-83b9-b850af4d7956"
      },
      "outputs": [
        {
          "output_type": "stream",
          "name": "stdout",
          "text": [
            "5\n",
            "[1, 2, 4, 6, 7, 8]\n"
          ]
        }
      ],
      "source": [
        "original_list = [ 1 , 2 , 5 , 4 , 5 , 6 , 7 , 8 ]\n",
        "\n",
        "k = int(input())\n",
        "\n",
        "new_list = []\n",
        "\n",
        "for item in original_list:\n",
        "    if item != k:\n",
        "        new_list.append(item)\n",
        "\n",
        "original_list = new_list\n",
        "\n",
        "print(original_list)"
      ]
    },
    {
      "cell_type": "markdown",
      "id": "2b7cfed1",
      "metadata": {
        "id": "2b7cfed1"
      },
      "source": [
        "**58-Write a Python program to create an intersection,union,difference and symmetric difference of sets"
      ]
    },
    {
      "cell_type": "code",
      "execution_count": 16,
      "id": "7f94b7fe",
      "metadata": {
        "id": "7f94b7fe",
        "colab": {
          "base_uri": "https://localhost:8080/"
        },
        "outputId": "d1bb242f-1bf6-48be-bc6b-78eb8b439f5f"
      },
      "outputs": [
        {
          "output_type": "stream",
          "name": "stdout",
          "text": [
            "{3, 4, 5}\n",
            "{1, 2, 3, 4, 5, 6, 7}\n",
            "{1, 2}\n",
            "{6, 7}\n",
            "{1, 2, 6, 7}\n"
          ]
        }
      ],
      "source": [
        "set1 = {1, 2, 3, 4, 5}\n",
        "set2 = {3, 4, 5, 6, 7}\n",
        "\n",
        "intersection = set1.intersection(set2)\n",
        "\n",
        "union = set1.union(set2)\n",
        "\n",
        "difference_1 = set1.difference(set2)\n",
        "difference_2 = set2.difference(set1)\n",
        "\n",
        "symmetric_difference_1 = set1.symmetric_difference(set2)\n",
        "\n",
        "print(intersection)\n",
        "print(union)\n",
        "print(difference_1)\n",
        "print(difference_2)\n",
        "print(symmetric_difference_1)"
      ]
    },
    {
      "cell_type": "markdown",
      "id": "b94931e2",
      "metadata": {
        "id": "b94931e2"
      },
      "source": [
        "**59-Write a Python program to find the maximum and minimum values in a set"
      ]
    },
    {
      "cell_type": "code",
      "execution_count": 17,
      "id": "203f9600",
      "metadata": {
        "id": "203f9600",
        "colab": {
          "base_uri": "https://localhost:8080/"
        },
        "outputId": "39d114ee-105a-45c9-820c-f22ddc9b2f0d"
      },
      "outputs": [
        {
          "output_type": "stream",
          "name": "stdout",
          "text": [
            "5\n",
            "1\n"
          ]
        }
      ],
      "source": [
        "s = { 1 , 2 , 3 , 4 , 5 }\n",
        "\n",
        "maximum = max(s)\n",
        "minimum = min(s)\n",
        "\n",
        "print(maximum)\n",
        "print(minimum)"
      ]
    },
    {
      "cell_type": "markdown",
      "id": "255fd554",
      "metadata": {
        "id": "255fd554"
      },
      "source": [
        "**60- Write a Python program that finds all pairs of elements in a list whose sum is equal to a given value."
      ]
    },
    {
      "cell_type": "code",
      "execution_count": 1,
      "id": "c2d94e1f",
      "metadata": {
        "id": "c2d94e1f",
        "colab": {
          "base_uri": "https://localhost:8080/"
        },
        "outputId": "22fa58a1-8877-47fb-e9d2-f83861664c83"
      },
      "outputs": [
        {
          "output_type": "stream",
          "name": "stdout",
          "text": [
            "Enter number of elements: 5\n",
            "Enter element: 2\n",
            "Enter element: 6\n",
            "Enter element: 4\n",
            "Enter element: 3\n",
            "Enter element: 8\n",
            "Enter the target sum : 10\n",
            "Pairs with sum 10 are: [(2, 8), (6, 4)]\n"
          ]
        }
      ],
      "source": [
        "A = []\n",
        "N = int(input(\"Enter number of elements: \"))\n",
        "\n",
        "for i in range(N):\n",
        "    x = int(input(\"Enter element: \"))\n",
        "    A.append(x)\n",
        "\n",
        "\n",
        "target_sum = int(input(\"Enter the target sum : \"))\n",
        "\n",
        "pairs = []\n",
        "\n",
        "for i in range(len(A)):\n",
        "    for j in range(i + 1, len(A)):\n",
        "        if A[i] + A[j] == target_sum:\n",
        "            pairs.append((A[i], A[j]))\n",
        "\n",
        "if pairs:\n",
        "    print(\"Pairs with sum\", target_sum, \"are:\", pairs)\n",
        "else:\n",
        "    print(\"No pairs found with sum\", target_sum)"
      ]
    }
  ],
  "metadata": {
    "kernelspec": {
      "display_name": "Python 3 (ipykernel)",
      "language": "python",
      "name": "python3"
    },
    "language_info": {
      "codemirror_mode": {
        "name": "ipython",
        "version": 3
      },
      "file_extension": ".py",
      "mimetype": "text/x-python",
      "name": "python",
      "nbconvert_exporter": "python",
      "pygments_lexer": "ipython3",
      "version": "3.9.7"
    },
    "colab": {
      "provenance": []
    }
  },
  "nbformat": 4,
  "nbformat_minor": 5
}