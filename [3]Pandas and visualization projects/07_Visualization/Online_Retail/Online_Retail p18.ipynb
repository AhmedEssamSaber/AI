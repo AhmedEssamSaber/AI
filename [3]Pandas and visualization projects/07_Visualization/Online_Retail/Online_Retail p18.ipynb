{
 "cells": [
  {
   "cell_type": "markdown",
   "metadata": {},
   "source": [
    "# Online Retails Purchase"
   ]
  },
  {
   "cell_type": "markdown",
   "metadata": {},
   "source": [
    "### Introduction:\n",
    "\n",
    "\n",
    "\n",
    "### Step 1. Import the necessary libraries"
   ]
  },
  {
   "cell_type": "code",
   "execution_count": 1,
   "metadata": {},
   "outputs": [],
   "source": [
    "import pandas as pd\n",
    "import numpy as np\n",
    "from matplotlib import pyplot as plt"
   ]
  },
  {
   "cell_type": "markdown",
   "metadata": {},
   "source": [
    "### Step 2. Import the dataset from this [address](https://raw.githubusercontent.com/guipsamora/pandas_exercises/master/07_Visualization/Online_Retail/Online_Retail.csv). "
   ]
  },
  {
   "cell_type": "markdown",
   "metadata": {},
   "source": [
    "### Step 3. Assign it to a variable called online_rt\n",
    "Note: if you receive a utf-8 decode error, set `encoding = 'latin1'` in `pd.read_csv()`."
   ]
  },
  {
   "cell_type": "code",
   "execution_count": 3,
   "metadata": {},
   "outputs": [
    {
     "data": {
      "text/html": [
       "<div>\n",
       "<style scoped>\n",
       "    .dataframe tbody tr th:only-of-type {\n",
       "        vertical-align: middle;\n",
       "    }\n",
       "\n",
       "    .dataframe tbody tr th {\n",
       "        vertical-align: top;\n",
       "    }\n",
       "\n",
       "    .dataframe thead th {\n",
       "        text-align: right;\n",
       "    }\n",
       "</style>\n",
       "<table border=\"1\" class=\"dataframe\">\n",
       "  <thead>\n",
       "    <tr style=\"text-align: right;\">\n",
       "      <th></th>\n",
       "      <th>InvoiceNo</th>\n",
       "      <th>StockCode</th>\n",
       "      <th>Description</th>\n",
       "      <th>Quantity</th>\n",
       "      <th>InvoiceDate</th>\n",
       "      <th>UnitPrice</th>\n",
       "      <th>CustomerID</th>\n",
       "      <th>Country</th>\n",
       "    </tr>\n",
       "  </thead>\n",
       "  <tbody>\n",
       "    <tr>\n",
       "      <th>387447</th>\n",
       "      <td>570288</td>\n",
       "      <td>21034</td>\n",
       "      <td>REX CASH+CARRY JUMBO SHOPPER</td>\n",
       "      <td>1</td>\n",
       "      <td>10/10/11 11:47</td>\n",
       "      <td>0.95</td>\n",
       "      <td>16960.0</td>\n",
       "      <td>United Kingdom</td>\n",
       "    </tr>\n",
       "    <tr>\n",
       "      <th>344473</th>\n",
       "      <td>567074</td>\n",
       "      <td>20914</td>\n",
       "      <td>SET/5 RED RETROSPOT LID GLASS BOWLS</td>\n",
       "      <td>4</td>\n",
       "      <td>9/16/11 12:22</td>\n",
       "      <td>2.95</td>\n",
       "      <td>17068.0</td>\n",
       "      <td>United Kingdom</td>\n",
       "    </tr>\n",
       "    <tr>\n",
       "      <th>12311</th>\n",
       "      <td>537374</td>\n",
       "      <td>72799F</td>\n",
       "      <td>IVORY PILLAR CANDLE GOLD FLOCK</td>\n",
       "      <td>2</td>\n",
       "      <td>12/6/10 12:55</td>\n",
       "      <td>2.95</td>\n",
       "      <td>17259.0</td>\n",
       "      <td>United Kingdom</td>\n",
       "    </tr>\n",
       "  </tbody>\n",
       "</table>\n",
       "</div>"
      ],
      "text/plain": [
       "       InvoiceNo StockCode                          Description  Quantity  \\\n",
       "387447    570288     21034         REX CASH+CARRY JUMBO SHOPPER         1   \n",
       "344473    567074     20914  SET/5 RED RETROSPOT LID GLASS BOWLS         4   \n",
       "12311     537374    72799F       IVORY PILLAR CANDLE GOLD FLOCK         2   \n",
       "\n",
       "           InvoiceDate  UnitPrice  CustomerID         Country  \n",
       "387447  10/10/11 11:47       0.95     16960.0  United Kingdom  \n",
       "344473   9/16/11 12:22       2.95     17068.0  United Kingdom  \n",
       "12311    12/6/10 12:55       2.95     17259.0  United Kingdom  "
      ]
     },
     "execution_count": 3,
     "metadata": {},
     "output_type": "execute_result"
    }
   ],
   "source": [
    "online_rt = pd.read_csv('https://raw.githubusercontent.com/guipsamora/pandas_exercises/master/07_Visualization/Online_Retail/Online_Retail.csv', encoding = 'latin1')\n",
    "online_rt.sample(3)"
   ]
  },
  {
   "cell_type": "markdown",
   "metadata": {},
   "source": [
    "### Step 4. Create a histogram with the 10 countries that have the most 'Quantity' ordered except UK"
   ]
  },
  {
   "cell_type": "code",
   "execution_count": 18,
   "metadata": {},
   "outputs": [
    {
     "name": "stderr",
     "output_type": "stream",
     "text": [
      "C:\\Users\\Ahmed\\AppData\\Local\\Temp\\ipykernel_7228\\3396303329.py:1: FutureWarning: The default value of numeric_only in DataFrameGroupBy.sum is deprecated. In a future version, numeric_only will default to False. Either specify numeric_only or select only columns which should be valid for the function.\n",
      "  d = online_rt.groupby('Country').sum()\n"
     ]
    },
    {
     "data": {
      "image/png": "[encoded data removed]",
      "text/plain": [
       "<Figure size 1000x600 with 1 Axes>"
      ]
     },
     "metadata": {},
     "output_type": "display_data"
    }
   ],
   "source": [
    "d = online_rt.groupby('Country').sum()\n",
    "d = d.sort_values(by = 'Quantity', ascending=False)[1:11]\n",
    "\n",
    "plt.figure(figsize=(10,6))\n",
    "plt.bar(d.index, d['Quantity'])\n",
    "plt.xlabel('Countries')\n",
    "plt.ylabel('Quantites')\n",
    "plt.show()"
   ]
  },
  {
   "cell_type": "markdown",
   "metadata": {},
   "source": [
    "### Step 5.  Exclude negative Quantity entries"
   ]
  },
  {
   "cell_type": "code",
   "execution_count": 19,
   "metadata": {},
   "outputs": [],
   "source": [
    "online_rt = online_rt[online_rt['Quantity'] >= 0]"
   ]
  },
  {
   "cell_type": "markdown",
   "metadata": {},
   "source": [
    "### Step 6. Create a scatterplot with the Quantity per UnitPrice by CustomerID for the top 3 Countries (except UK)"
   ]
  },
  {
   "cell_type": "code",
   "execution_count": 25,
   "metadata": {},
   "outputs": [
    {
     "name": "stderr",
     "output_type": "stream",
     "text": [
      "C:\\Users\\Ahmed\\AppData\\Local\\Temp\\ipykernel_7228\\229332678.py:1: FutureWarning: The default value of numeric_only in DataFrameGroupBy.sum is deprecated. In a future version, numeric_only will default to False. Either specify numeric_only or select only columns which should be valid for the function.\n",
      "  d = online_rt.groupby(['CustomerID', 'Country']).sum()\n"
     ]
    },
    {
     "data": {
      "image/png": "[encoded data removed]",
      "text/plain": [
       "<Figure size 640x480 with 1 Axes>"
      ]
     },
     "metadata": {},
     "output_type": "display_data"
    }
   ],
   "source": [
    "d = online_rt.groupby(['CustomerID', 'Country']).sum()\n",
    "d = d[d['UnitPrice'] > 0]\n",
    "d['Country'] = d.index.get_level_values(1) \n",
    "top_countries =  ['Netherlands', 'EIRE', 'Germany']\n",
    "d = d[d['Country'].isin(top_countries)]\n",
    "\n",
    "plt.scatter(d['Quantity'], d['UnitPrice'])\n",
    "plt.title('Top 3 Countries With Quantity Per Unit Price', fontdict={'fontsize' : 20})\n",
    "plt.xlabel('Quantity', fontdict={'fontsize' : 11})\n",
    "plt.ylabel('Unit Price', fontdict={'fontsize' : 11})\n",
    "plt.show()"
   ]
  },
  {
   "cell_type": "markdown",
   "metadata": {},
   "source": [
    "### Step 7. Investigate why the previous results look so uninformative.\n",
    "\n",
    "This section might seem a bit tedious to go through. But I've thought of it as some kind of a simulation of problems one might encounter when dealing with data and other people. Besides there is a prize at the end (i.e. Section 8).\n",
    "\n",
    "(But feel free to jump right ahead into Section 8 if you want; it doesn't require that you finish this section.)\n",
    "\n",
    "#### Step 7.1 Look at the first line of code in Step 6. And try to figure out if it leads to any kind of problem.\n",
    "##### Step 7.1.1 Display the first few rows of that DataFrame."
   ]
  },
  {
   "cell_type": "code",
   "execution_count": 35,
   "metadata": {},
   "outputs": [
    {
     "name": "stderr",
     "output_type": "stream",
     "text": [
      "C:\\Users\\Ahmed\\AppData\\Local\\Temp\\ipykernel_7228\\1791148644.py:1: FutureWarning: The default value of numeric_only in DataFrameGroupBy.sum is deprecated. In a future version, numeric_only will default to False. Either specify numeric_only or select only columns which should be valid for the function.\n",
      "  d = online_rt.groupby(['CustomerID', 'Country']).sum()\n"
     ]
    },
    {
     "data": {
      "text/html": [
       "<div>\n",
       "<style scoped>\n",
       "    .dataframe tbody tr th:only-of-type {\n",
       "        vertical-align: middle;\n",
       "    }\n",
       "\n",
       "    .dataframe tbody tr th {\n",
       "        vertical-align: top;\n",
       "    }\n",
       "\n",
       "    .dataframe thead th {\n",
       "        text-align: right;\n",
       "    }\n",
       "</style>\n",
       "<table border=\"1\" class=\"dataframe\">\n",
       "  <thead>\n",
       "    <tr style=\"text-align: right;\">\n",
       "      <th></th>\n",
       "      <th></th>\n",
       "      <th>Quantity</th>\n",
       "      <th>UnitPrice</th>\n",
       "    </tr>\n",
       "    <tr>\n",
       "      <th>CustomerID</th>\n",
       "      <th>Country</th>\n",
       "      <th></th>\n",
       "      <th></th>\n",
       "    </tr>\n",
       "  </thead>\n",
       "  <tbody>\n",
       "    <tr>\n",
       "      <th>12346.0</th>\n",
       "      <th>United Kingdom</th>\n",
       "      <td>74215</td>\n",
       "      <td>1.04</td>\n",
       "    </tr>\n",
       "    <tr>\n",
       "      <th>12347.0</th>\n",
       "      <th>Iceland</th>\n",
       "      <td>2458</td>\n",
       "      <td>481.21</td>\n",
       "    </tr>\n",
       "    <tr>\n",
       "      <th>12348.0</th>\n",
       "      <th>Finland</th>\n",
       "      <td>2341</td>\n",
       "      <td>178.71</td>\n",
       "    </tr>\n",
       "    <tr>\n",
       "      <th>12349.0</th>\n",
       "      <th>Italy</th>\n",
       "      <td>631</td>\n",
       "      <td>605.10</td>\n",
       "    </tr>\n",
       "    <tr>\n",
       "      <th>12350.0</th>\n",
       "      <th>Norway</th>\n",
       "      <td>197</td>\n",
       "      <td>65.30</td>\n",
       "    </tr>\n",
       "  </tbody>\n",
       "</table>\n",
       "</div>"
      ],
      "text/plain": [
       "                           Quantity  UnitPrice\n",
       "CustomerID Country                            \n",
       "12346.0    United Kingdom     74215       1.04\n",
       "12347.0    Iceland             2458     481.21\n",
       "12348.0    Finland             2341     178.71\n",
       "12349.0    Italy                631     605.10\n",
       "12350.0    Norway               197      65.30"
      ]
     },
     "execution_count": 35,
     "metadata": {},
     "output_type": "execute_result"
    }
   ],
   "source": [
    "d = online_rt.groupby(['CustomerID', 'Country']).sum()\n",
    "d.head()"
   ]
  },
  {
   "cell_type": "markdown",
   "metadata": {},
   "source": [
    "##### Step 7.1.2 Think about what that piece of code does and display the dtype of `UnitPrice`"
   ]
  },
  {
   "cell_type": "code",
   "execution_count": 36,
   "metadata": {},
   "outputs": [
    {
     "data": {
      "text/plain": [
       "dtype('float64')"
      ]
     },
     "execution_count": 36,
     "metadata": {},
     "output_type": "execute_result"
    }
   ],
   "source": [
    "d['UnitPrice'].dtype"
   ]
  },
  {
   "cell_type": "markdown",
   "metadata": {},
   "source": [
    "##### Step 7.1.3 Pull data from `online_rt`for `CustomerID`s 12346.0 and 12347.0."
   ]
  },
  {
   "cell_type": "code",
   "execution_count": 37,
   "metadata": {},
   "outputs": [
    {
     "data": {
      "text/html": [
       "<div>\n",
       "<style scoped>\n",
       "    .dataframe tbody tr th:only-of-type {\n",
       "        vertical-align: middle;\n",
       "    }\n",
       "\n",
       "    .dataframe tbody tr th {\n",
       "        vertical-align: top;\n",
       "    }\n",
       "\n",
       "    .dataframe thead th {\n",
       "        text-align: right;\n",
       "    }\n",
       "</style>\n",
       "<table border=\"1\" class=\"dataframe\">\n",
       "  <thead>\n",
       "    <tr style=\"text-align: right;\">\n",
       "      <th></th>\n",
       "      <th>InvoiceNo</th>\n",
       "      <th>StockCode</th>\n",
       "      <th>Description</th>\n",
       "      <th>Quantity</th>\n",
       "      <th>InvoiceDate</th>\n",
       "      <th>UnitPrice</th>\n",
       "      <th>CustomerID</th>\n",
       "      <th>Country</th>\n",
       "    </tr>\n",
       "  </thead>\n",
       "  <tbody>\n",
       "    <tr>\n",
       "      <th>61619</th>\n",
       "      <td>541431</td>\n",
       "      <td>23166</td>\n",
       "      <td>MEDIUM CERAMIC TOP STORAGE JAR</td>\n",
       "      <td>74215</td>\n",
       "      <td>1/18/11 10:01</td>\n",
       "      <td>1.04</td>\n",
       "      <td>12346.0</td>\n",
       "      <td>United Kingdom</td>\n",
       "    </tr>\n",
       "  </tbody>\n",
       "</table>\n",
       "</div>"
      ],
      "text/plain": [
       "      InvoiceNo StockCode                     Description  Quantity  \\\n",
       "61619    541431     23166  MEDIUM CERAMIC TOP STORAGE JAR     74215   \n",
       "\n",
       "         InvoiceDate  UnitPrice  CustomerID         Country  \n",
       "61619  1/18/11 10:01       1.04     12346.0  United Kingdom  "
      ]
     },
     "execution_count": 37,
     "metadata": {},
     "output_type": "execute_result"
    }
   ],
   "source": [
    "online_rt[(online_rt['CustomerID'] == 12346.0)]"
   ]
  },
  {
   "cell_type": "code",
   "execution_count": 38,
   "metadata": {},
   "outputs": [
    {
     "data": {
      "text/html": [
       "<div>\n",
       "<style scoped>\n",
       "    .dataframe tbody tr th:only-of-type {\n",
       "        vertical-align: middle;\n",
       "    }\n",
       "\n",
       "    .dataframe tbody tr th {\n",
       "        vertical-align: top;\n",
       "    }\n",
       "\n",
       "    .dataframe thead th {\n",
       "        text-align: right;\n",
       "    }\n",
       "</style>\n",
       "<table border=\"1\" class=\"dataframe\">\n",
       "  <thead>\n",
       "    <tr style=\"text-align: right;\">\n",
       "      <th></th>\n",
       "      <th>InvoiceNo</th>\n",
       "      <th>StockCode</th>\n",
       "      <th>Description</th>\n",
       "      <th>Quantity</th>\n",
       "      <th>InvoiceDate</th>\n",
       "      <th>UnitPrice</th>\n",
       "      <th>CustomerID</th>\n",
       "      <th>Country</th>\n",
       "    </tr>\n",
       "  </thead>\n",
       "  <tbody>\n",
       "    <tr>\n",
       "      <th>14938</th>\n",
       "      <td>537626</td>\n",
       "      <td>85116</td>\n",
       "      <td>BLACK CANDELABRA T-LIGHT HOLDER</td>\n",
       "      <td>12</td>\n",
       "      <td>12/7/10 14:57</td>\n",
       "      <td>2.10</td>\n",
       "      <td>12347.0</td>\n",
       "      <td>Iceland</td>\n",
       "    </tr>\n",
       "    <tr>\n",
       "      <th>14939</th>\n",
       "      <td>537626</td>\n",
       "      <td>22375</td>\n",
       "      <td>AIRLINE BAG VINTAGE JET SET BROWN</td>\n",
       "      <td>4</td>\n",
       "      <td>12/7/10 14:57</td>\n",
       "      <td>4.25</td>\n",
       "      <td>12347.0</td>\n",
       "      <td>Iceland</td>\n",
       "    </tr>\n",
       "    <tr>\n",
       "      <th>14940</th>\n",
       "      <td>537626</td>\n",
       "      <td>71477</td>\n",
       "      <td>COLOUR GLASS. STAR T-LIGHT HOLDER</td>\n",
       "      <td>12</td>\n",
       "      <td>12/7/10 14:57</td>\n",
       "      <td>3.25</td>\n",
       "      <td>12347.0</td>\n",
       "      <td>Iceland</td>\n",
       "    </tr>\n",
       "    <tr>\n",
       "      <th>14941</th>\n",
       "      <td>537626</td>\n",
       "      <td>22492</td>\n",
       "      <td>MINI PAINT SET VINTAGE</td>\n",
       "      <td>36</td>\n",
       "      <td>12/7/10 14:57</td>\n",
       "      <td>0.65</td>\n",
       "      <td>12347.0</td>\n",
       "      <td>Iceland</td>\n",
       "    </tr>\n",
       "    <tr>\n",
       "      <th>14942</th>\n",
       "      <td>537626</td>\n",
       "      <td>22771</td>\n",
       "      <td>CLEAR DRAWER KNOB ACRYLIC EDWARDIAN</td>\n",
       "      <td>12</td>\n",
       "      <td>12/7/10 14:57</td>\n",
       "      <td>1.25</td>\n",
       "      <td>12347.0</td>\n",
       "      <td>Iceland</td>\n",
       "    </tr>\n",
       "    <tr>\n",
       "      <th>...</th>\n",
       "      <td>...</td>\n",
       "      <td>...</td>\n",
       "      <td>...</td>\n",
       "      <td>...</td>\n",
       "      <td>...</td>\n",
       "      <td>...</td>\n",
       "      <td>...</td>\n",
       "      <td>...</td>\n",
       "    </tr>\n",
       "    <tr>\n",
       "      <th>535010</th>\n",
       "      <td>581180</td>\n",
       "      <td>20719</td>\n",
       "      <td>WOODLAND CHARLOTTE BAG</td>\n",
       "      <td>10</td>\n",
       "      <td>12/7/11 15:52</td>\n",
       "      <td>0.85</td>\n",
       "      <td>12347.0</td>\n",
       "      <td>Iceland</td>\n",
       "    </tr>\n",
       "    <tr>\n",
       "      <th>535011</th>\n",
       "      <td>581180</td>\n",
       "      <td>21265</td>\n",
       "      <td>PINK GOOSE FEATHER TREE 60CM</td>\n",
       "      <td>12</td>\n",
       "      <td>12/7/11 15:52</td>\n",
       "      <td>1.95</td>\n",
       "      <td>12347.0</td>\n",
       "      <td>Iceland</td>\n",
       "    </tr>\n",
       "    <tr>\n",
       "      <th>535012</th>\n",
       "      <td>581180</td>\n",
       "      <td>23271</td>\n",
       "      <td>CHRISTMAS TABLE SILVER CANDLE SPIKE</td>\n",
       "      <td>16</td>\n",
       "      <td>12/7/11 15:52</td>\n",
       "      <td>0.83</td>\n",
       "      <td>12347.0</td>\n",
       "      <td>Iceland</td>\n",
       "    </tr>\n",
       "    <tr>\n",
       "      <th>535013</th>\n",
       "      <td>581180</td>\n",
       "      <td>23506</td>\n",
       "      <td>MINI PLAYING CARDS SPACEBOY</td>\n",
       "      <td>20</td>\n",
       "      <td>12/7/11 15:52</td>\n",
       "      <td>0.42</td>\n",
       "      <td>12347.0</td>\n",
       "      <td>Iceland</td>\n",
       "    </tr>\n",
       "    <tr>\n",
       "      <th>535014</th>\n",
       "      <td>581180</td>\n",
       "      <td>23508</td>\n",
       "      <td>MINI PLAYING CARDS DOLLY GIRL</td>\n",
       "      <td>20</td>\n",
       "      <td>12/7/11 15:52</td>\n",
       "      <td>0.42</td>\n",
       "      <td>12347.0</td>\n",
       "      <td>Iceland</td>\n",
       "    </tr>\n",
       "  </tbody>\n",
       "</table>\n",
       "<p>182 rows × 8 columns</p>\n",
       "</div>"
      ],
      "text/plain": [
       "       InvoiceNo StockCode                          Description  Quantity  \\\n",
       "14938     537626     85116      BLACK CANDELABRA T-LIGHT HOLDER        12   \n",
       "14939     537626     22375    AIRLINE BAG VINTAGE JET SET BROWN         4   \n",
       "14940     537626     71477    COLOUR GLASS. STAR T-LIGHT HOLDER        12   \n",
       "14941     537626     22492              MINI PAINT SET VINTAGE         36   \n",
       "14942     537626     22771  CLEAR DRAWER KNOB ACRYLIC EDWARDIAN        12   \n",
       "...          ...       ...                                  ...       ...   \n",
       "535010    581180     20719               WOODLAND CHARLOTTE BAG        10   \n",
       "535011    581180     21265         PINK GOOSE FEATHER TREE 60CM        12   \n",
       "535012    581180     23271  CHRISTMAS TABLE SILVER CANDLE SPIKE        16   \n",
       "535013    581180     23506         MINI PLAYING CARDS SPACEBOY         20   \n",
       "535014    581180     23508       MINI PLAYING CARDS DOLLY GIRL         20   \n",
       "\n",
       "          InvoiceDate  UnitPrice  CustomerID  Country  \n",
       "14938   12/7/10 14:57       2.10     12347.0  Iceland  \n",
       "14939   12/7/10 14:57       4.25     12347.0  Iceland  \n",
       "14940   12/7/10 14:57       3.25     12347.0  Iceland  \n",
       "14941   12/7/10 14:57       0.65     12347.0  Iceland  \n",
       "14942   12/7/10 14:57       1.25     12347.0  Iceland  \n",
       "...               ...        ...         ...      ...  \n",
       "535010  12/7/11 15:52       0.85     12347.0  Iceland  \n",
       "535011  12/7/11 15:52       1.95     12347.0  Iceland  \n",
       "535012  12/7/11 15:52       0.83     12347.0  Iceland  \n",
       "535013  12/7/11 15:52       0.42     12347.0  Iceland  \n",
       "535014  12/7/11 15:52       0.42     12347.0  Iceland  \n",
       "\n",
       "[182 rows x 8 columns]"
      ]
     },
     "execution_count": 38,
     "metadata": {},
     "output_type": "execute_result"
    }
   ],
   "source": [
    "online_rt[(online_rt['CustomerID'] == 12347.0)]"
   ]
  },
  {
   "cell_type": "markdown",
   "metadata": {},
   "source": [
    "#### Step 7.2 Reinterpreting the initial problem.\n",
    "\n",
    "To reiterate the question that we were dealing with:  \n",
    "\"Create a scatterplot with the Quantity per UnitPrice by CustomerID for the top 3 Countries\"\n",
    "\n",
    "The question is open to a set of different interpretations.\n",
    "We need to disambiguate.\n",
    "\n",
    "We could do a single plot by looking at all the data from the top 3 countries.\n",
    "Or we could do one plot per country. To keep things consistent with the rest of the exercise,\n",
    "let's stick to the latter oprion. So that's settled.\n",
    "\n",
    "But \"top 3 countries\" with respect to what? Two answers suggest themselves:\n",
    "Total sales volume (i.e. total quantity sold) or total sales (i.e. revenue).\n",
    "This exercise goes for sales volume, so let's stick to that.\n",
    "\n",
    "##### Step 7.2.1 Find out the top 3 countries in terms of sales volume."
   ]
  },
  {
   "cell_type": "code",
   "execution_count": 40,
   "metadata": {},
   "outputs": [
    {
     "data": {
      "text/plain": [
       "Country\n",
       "United Kingdom    4733819\n",
       "Netherlands        200937\n",
       "EIRE               147447\n",
       "Name: Quantity, dtype: int64"
      ]
     },
     "execution_count": 40,
     "metadata": {},
     "output_type": "execute_result"
    }
   ],
   "source": [
    "online_rt.groupby('Country').Quantity.sum().sort_values(ascending=False)[0:3]"
   ]
  },
  {
   "cell_type": "markdown",
   "metadata": {},
   "source": [
    "##### Step 7.2.2 \n",
    "\n",
    "Now that we have the top 3 countries, we can focus on the rest of the problem:  \n",
    "\"Quantity per UnitPrice by CustomerID\".  \n",
    "We need to unpack that.\n",
    "\n",
    "\"by CustomerID\" part is easy. That means we're going to be plotting one dot per CustomerID's on our plot. In other words, we're going to be grouping by CustomerID.\n",
    "\n",
    "\"Quantity per UnitPrice\" is trickier. Here's what we know:  \n",
    "*One axis will represent a Quantity assigned to a given customer. This is easy; we can just plot the total  Quantity for each customer.  \n",
    "*The other axis will represent a UnitPrice assigned to a given customer. Remember a single customer can have any number of orders with different prices, so summing up prices isn't quite helpful. Besides it's not quite clear what we mean when we say \"unit price per customer\"; it sounds like price of the customer! A reasonable alternative is that we assign each customer the average amount each has paid per item. So let's settle that question in that manner.\n",
    "\n",
    "#### Step 7.3 Modify, select and plot data\n",
    "##### Step 7.3.1 Add a column to online_rt called `Revenue` calculate the revenue (Quantity * UnitPrice) from each sale.\n",
    "We will use this later to figure out an average price per customer."
   ]
  },
  {
   "cell_type": "code",
   "execution_count": 41,
   "metadata": {},
   "outputs": [
    {
     "data": {
      "text/html": [
       "<div>\n",
       "<style scoped>\n",
       "    .dataframe tbody tr th:only-of-type {\n",
       "        vertical-align: middle;\n",
       "    }\n",
       "\n",
       "    .dataframe tbody tr th {\n",
       "        vertical-align: top;\n",
       "    }\n",
       "\n",
       "    .dataframe thead th {\n",
       "        text-align: right;\n",
       "    }\n",
       "</style>\n",
       "<table border=\"1\" class=\"dataframe\">\n",
       "  <thead>\n",
       "    <tr style=\"text-align: right;\">\n",
       "      <th></th>\n",
       "      <th>InvoiceNo</th>\n",
       "      <th>StockCode</th>\n",
       "      <th>Description</th>\n",
       "      <th>Quantity</th>\n",
       "      <th>InvoiceDate</th>\n",
       "      <th>UnitPrice</th>\n",
       "      <th>CustomerID</th>\n",
       "      <th>Country</th>\n",
       "      <th>Revenue</th>\n",
       "    </tr>\n",
       "  </thead>\n",
       "  <tbody>\n",
       "    <tr>\n",
       "      <th>0</th>\n",
       "      <td>536365</td>\n",
       "      <td>85123A</td>\n",
       "      <td>WHITE HANGING HEART T-LIGHT HOLDER</td>\n",
       "      <td>6</td>\n",
       "      <td>12/1/10 8:26</td>\n",
       "      <td>2.55</td>\n",
       "      <td>17850.0</td>\n",
       "      <td>United Kingdom</td>\n",
       "      <td>15.30</td>\n",
       "    </tr>\n",
       "    <tr>\n",
       "      <th>1</th>\n",
       "      <td>536365</td>\n",
       "      <td>71053</td>\n",
       "      <td>WHITE METAL LANTERN</td>\n",
       "      <td>6</td>\n",
       "      <td>12/1/10 8:26</td>\n",
       "      <td>3.39</td>\n",
       "      <td>17850.0</td>\n",
       "      <td>United Kingdom</td>\n",
       "      <td>20.34</td>\n",
       "    </tr>\n",
       "    <tr>\n",
       "      <th>2</th>\n",
       "      <td>536365</td>\n",
       "      <td>84406B</td>\n",
       "      <td>CREAM CUPID HEARTS COAT HANGER</td>\n",
       "      <td>8</td>\n",
       "      <td>12/1/10 8:26</td>\n",
       "      <td>2.75</td>\n",
       "      <td>17850.0</td>\n",
       "      <td>United Kingdom</td>\n",
       "      <td>22.00</td>\n",
       "    </tr>\n",
       "    <tr>\n",
       "      <th>3</th>\n",
       "      <td>536365</td>\n",
       "      <td>84029G</td>\n",
       "      <td>KNITTED UNION FLAG HOT WATER BOTTLE</td>\n",
       "      <td>6</td>\n",
       "      <td>12/1/10 8:26</td>\n",
       "      <td>3.39</td>\n",
       "      <td>17850.0</td>\n",
       "      <td>United Kingdom</td>\n",
       "      <td>20.34</td>\n",
       "    </tr>\n",
       "    <tr>\n",
       "      <th>4</th>\n",
       "      <td>536365</td>\n",
       "      <td>84029E</td>\n",
       "      <td>RED WOOLLY HOTTIE WHITE HEART.</td>\n",
       "      <td>6</td>\n",
       "      <td>12/1/10 8:26</td>\n",
       "      <td>3.39</td>\n",
       "      <td>17850.0</td>\n",
       "      <td>United Kingdom</td>\n",
       "      <td>20.34</td>\n",
       "    </tr>\n",
       "  </tbody>\n",
       "</table>\n",
       "</div>"
      ],
      "text/plain": [
       "  InvoiceNo StockCode                          Description  Quantity  \\\n",
       "0    536365    85123A   WHITE HANGING HEART T-LIGHT HOLDER         6   \n",
       "1    536365     71053                  WHITE METAL LANTERN         6   \n",
       "2    536365    84406B       CREAM CUPID HEARTS COAT HANGER         8   \n",
       "3    536365    84029G  KNITTED UNION FLAG HOT WATER BOTTLE         6   \n",
       "4    536365    84029E       RED WOOLLY HOTTIE WHITE HEART.         6   \n",
       "\n",
       "    InvoiceDate  UnitPrice  CustomerID         Country  Revenue  \n",
       "0  12/1/10 8:26       2.55     17850.0  United Kingdom    15.30  \n",
       "1  12/1/10 8:26       3.39     17850.0  United Kingdom    20.34  \n",
       "2  12/1/10 8:26       2.75     17850.0  United Kingdom    22.00  \n",
       "3  12/1/10 8:26       3.39     17850.0  United Kingdom    20.34  \n",
       "4  12/1/10 8:26       3.39     17850.0  United Kingdom    20.34  "
      ]
     },
     "execution_count": 41,
     "metadata": {},
     "output_type": "execute_result"
    }
   ],
   "source": [
    "online_rt['Revenue'] = online_rt['Quantity'] * online_rt['UnitPrice']\n",
    "online_rt.head()"
   ]
  },
  {
   "cell_type": "markdown",
   "metadata": {},
   "source": [
    "##### Step 7.3.2 Group by `CustomerID` and `Country` and find out the average price (`AvgPrice`) each customer spends per unit."
   ]
  },
  {
   "cell_type": "code",
   "execution_count": 48,
   "metadata": {},
   "outputs": [
    {
     "name": "stderr",
     "output_type": "stream",
     "text": [
      "C:\\Users\\Ahmed\\AppData\\Local\\Temp\\ipykernel_7228\\2902840050.py:2: FutureWarning: Indexing with multiple keys (implicitly converted to a tuple of keys) will be deprecated, use a list instead.\n",
      "  x2 = x['Quantity','Revenue'].agg('sum')\n"
     ]
    },
    {
     "data": {
      "text/html": [
       "<div>\n",
       "<style scoped>\n",
       "    .dataframe tbody tr th:only-of-type {\n",
       "        vertical-align: middle;\n",
       "    }\n",
       "\n",
       "    .dataframe tbody tr th {\n",
       "        vertical-align: top;\n",
       "    }\n",
       "\n",
       "    .dataframe thead th {\n",
       "        text-align: right;\n",
       "    }\n",
       "</style>\n",
       "<table border=\"1\" class=\"dataframe\">\n",
       "  <thead>\n",
       "    <tr style=\"text-align: right;\">\n",
       "      <th></th>\n",
       "      <th></th>\n",
       "      <th>Quantity</th>\n",
       "      <th>Revenue</th>\n",
       "      <th>AvgPrice</th>\n",
       "    </tr>\n",
       "    <tr>\n",
       "      <th>CustomerID</th>\n",
       "      <th>Country</th>\n",
       "      <th></th>\n",
       "      <th></th>\n",
       "      <th></th>\n",
       "    </tr>\n",
       "  </thead>\n",
       "  <tbody>\n",
       "    <tr>\n",
       "      <th>12346.0</th>\n",
       "      <th>United Kingdom</th>\n",
       "      <td>74215</td>\n",
       "      <td>77183.60</td>\n",
       "      <td>1.040000</td>\n",
       "    </tr>\n",
       "    <tr>\n",
       "      <th>12347.0</th>\n",
       "      <th>Iceland</th>\n",
       "      <td>2458</td>\n",
       "      <td>4310.00</td>\n",
       "      <td>1.753458</td>\n",
       "    </tr>\n",
       "    <tr>\n",
       "      <th>12348.0</th>\n",
       "      <th>Finland</th>\n",
       "      <td>2341</td>\n",
       "      <td>1797.24</td>\n",
       "      <td>0.767723</td>\n",
       "    </tr>\n",
       "    <tr>\n",
       "      <th>12349.0</th>\n",
       "      <th>Italy</th>\n",
       "      <td>631</td>\n",
       "      <td>1757.55</td>\n",
       "      <td>2.785341</td>\n",
       "    </tr>\n",
       "    <tr>\n",
       "      <th>12350.0</th>\n",
       "      <th>Norway</th>\n",
       "      <td>197</td>\n",
       "      <td>334.40</td>\n",
       "      <td>1.697462</td>\n",
       "    </tr>\n",
       "  </tbody>\n",
       "</table>\n",
       "</div>"
      ],
      "text/plain": [
       "                           Quantity   Revenue  AvgPrice\n",
       "CustomerID Country                                     \n",
       "12346.0    United Kingdom     74215  77183.60  1.040000\n",
       "12347.0    Iceland             2458   4310.00  1.753458\n",
       "12348.0    Finland             2341   1797.24  0.767723\n",
       "12349.0    Italy                631   1757.55  2.785341\n",
       "12350.0    Norway               197    334.40  1.697462"
      ]
     },
     "execution_count": 48,
     "metadata": {},
     "output_type": "execute_result"
    }
   ],
   "source": [
    "x = online_rt.groupby(['CustomerID','Country'])\n",
    "x2 = x['Quantity','Revenue'].agg('sum')\n",
    "x2['AvgPrice'] = x2.Revenue / x2.Quantity\n",
    "x2.head()"
   ]
  },
  {
   "cell_type": "markdown",
   "metadata": {},
   "source": [
    "##### Step 7.3.3 Plot"
   ]
  },
  {
   "cell_type": "code",
   "execution_count": 49,
   "metadata": {},
   "outputs": [
    {
     "data": {
      "text/plain": [
       "<matplotlib.collections.PathCollection at 0x1c64d2f09d0>"
      ]
     },
     "execution_count": 49,
     "metadata": {},
     "output_type": "execute_result"
    },
    {
     "data": {
      "image/png": "[encoded data removed]",
      "text/plain": [
       "<Figure size 640x480 with 1 Axes>"
      ]
     },
     "metadata": {},
     "output_type": "display_data"
    }
   ],
   "source": [
    "plt.scatter(x2.Quantity, x2.AvgPrice)"
   ]
  }
 ],
 "metadata": {
  "kernelspec": {
   "display_name": "Python 3",
   "language": "python",
   "name": "python3"
  },
  "language_info": {
   "codemirror_mode": {
    "name": "ipython",
    "version": 3
   },
   "file_extension": ".py",
   "mimetype": "text/x-python",
   "name": "python",
   "nbconvert_exporter": "python",
   "pygments_lexer": "ipython3",
   "version": "3.11.4"
  }
 },
 "nbformat": 4,
 "nbformat_minor": 1
}
