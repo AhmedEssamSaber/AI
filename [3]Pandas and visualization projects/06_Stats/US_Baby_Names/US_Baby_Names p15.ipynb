{
 "cells": [
  {
   "cell_type": "markdown",
   "metadata": {},
   "source": [
    "# US - Baby Names"
   ]
  },
  {
   "cell_type": "markdown",
   "metadata": {},
   "source": [
    "### Introduction:\n",
    "\n",
    "We are going to use a subset of [US Baby Names](https://www.kaggle.com/kaggle/us-baby-names) from Kaggle.  \n",
    "In the file it will be names from 2004 until 2014\n",
    "\n",
    "\n",
    "### Step 1. Import the necessary libraries"
   ]
  },
  {
   "cell_type": "code",
   "execution_count": 47,
   "metadata": {
    "collapsed": false
   },
   "outputs": [],
   "source": [
    "import pandas as pd"
   ]
  },
  {
   "cell_type": "markdown",
   "metadata": {},
   "source": [
    "### Step 2. Import the dataset from this [address](https://raw.githubusercontent.com/guipsamora/pandas_exercises/master/06_Stats/US_Baby_Names/US_Baby_Names_right.csv). "
   ]
  },
  {
   "cell_type": "markdown",
   "metadata": {},
   "source": [
    "### Step 3. Assign it to a variable called baby_names."
   ]
  },
  {
   "cell_type": "code",
   "execution_count": 48,
   "metadata": {
    "collapsed": false
   },
   "outputs": [],
   "source": [
    "baby_names = pd.read_csv('https://raw.githubusercontent.com/guipsamora/pandas_exercises/master/06_Stats/US_Baby_Names/US_Baby_Names_right.csv')"
   ]
  },
  {
   "cell_type": "markdown",
   "metadata": {},
   "source": [
    "### Step 4. See the first 10 entries"
   ]
  },
  {
   "cell_type": "code",
   "execution_count": 49,
   "metadata": {
    "collapsed": false
   },
   "outputs": [
    {
     "data": {
      "text/html": [
       "<div>\n",
       "<style scoped>\n",
       "    .dataframe tbody tr th:only-of-type {\n",
       "        vertical-align: middle;\n",
       "    }\n",
       "\n",
       "    .dataframe tbody tr th {\n",
       "        vertical-align: top;\n",
       "    }\n",
       "\n",
       "    .dataframe thead th {\n",
       "        text-align: right;\n",
       "    }\n",
       "</style>\n",
       "<table border=\"1\" class=\"dataframe\">\n",
       "  <thead>\n",
       "    <tr style=\"text-align: right;\">\n",
       "      <th></th>\n",
       "      <th>Unnamed: 0</th>\n",
       "      <th>Id</th>\n",
       "      <th>Name</th>\n",
       "      <th>Year</th>\n",
       "      <th>Gender</th>\n",
       "      <th>State</th>\n",
       "      <th>Count</th>\n",
       "    </tr>\n",
       "  </thead>\n",
       "  <tbody>\n",
       "    <tr>\n",
       "      <th>0</th>\n",
       "      <td>11349</td>\n",
       "      <td>11350</td>\n",
       "      <td>Emma</td>\n",
       "      <td>2004</td>\n",
       "      <td>F</td>\n",
       "      <td>AK</td>\n",
       "      <td>62</td>\n",
       "    </tr>\n",
       "    <tr>\n",
       "      <th>1</th>\n",
       "      <td>11350</td>\n",
       "      <td>11351</td>\n",
       "      <td>Madison</td>\n",
       "      <td>2004</td>\n",
       "      <td>F</td>\n",
       "      <td>AK</td>\n",
       "      <td>48</td>\n",
       "    </tr>\n",
       "    <tr>\n",
       "      <th>2</th>\n",
       "      <td>11351</td>\n",
       "      <td>11352</td>\n",
       "      <td>Hannah</td>\n",
       "      <td>2004</td>\n",
       "      <td>F</td>\n",
       "      <td>AK</td>\n",
       "      <td>46</td>\n",
       "    </tr>\n",
       "    <tr>\n",
       "      <th>3</th>\n",
       "      <td>11352</td>\n",
       "      <td>11353</td>\n",
       "      <td>Grace</td>\n",
       "      <td>2004</td>\n",
       "      <td>F</td>\n",
       "      <td>AK</td>\n",
       "      <td>44</td>\n",
       "    </tr>\n",
       "    <tr>\n",
       "      <th>4</th>\n",
       "      <td>11353</td>\n",
       "      <td>11354</td>\n",
       "      <td>Emily</td>\n",
       "      <td>2004</td>\n",
       "      <td>F</td>\n",
       "      <td>AK</td>\n",
       "      <td>41</td>\n",
       "    </tr>\n",
       "    <tr>\n",
       "      <th>5</th>\n",
       "      <td>11354</td>\n",
       "      <td>11355</td>\n",
       "      <td>Abigail</td>\n",
       "      <td>2004</td>\n",
       "      <td>F</td>\n",
       "      <td>AK</td>\n",
       "      <td>37</td>\n",
       "    </tr>\n",
       "    <tr>\n",
       "      <th>6</th>\n",
       "      <td>11355</td>\n",
       "      <td>11356</td>\n",
       "      <td>Olivia</td>\n",
       "      <td>2004</td>\n",
       "      <td>F</td>\n",
       "      <td>AK</td>\n",
       "      <td>33</td>\n",
       "    </tr>\n",
       "    <tr>\n",
       "      <th>7</th>\n",
       "      <td>11356</td>\n",
       "      <td>11357</td>\n",
       "      <td>Isabella</td>\n",
       "      <td>2004</td>\n",
       "      <td>F</td>\n",
       "      <td>AK</td>\n",
       "      <td>30</td>\n",
       "    </tr>\n",
       "    <tr>\n",
       "      <th>8</th>\n",
       "      <td>11357</td>\n",
       "      <td>11358</td>\n",
       "      <td>Alyssa</td>\n",
       "      <td>2004</td>\n",
       "      <td>F</td>\n",
       "      <td>AK</td>\n",
       "      <td>29</td>\n",
       "    </tr>\n",
       "    <tr>\n",
       "      <th>9</th>\n",
       "      <td>11358</td>\n",
       "      <td>11359</td>\n",
       "      <td>Sophia</td>\n",
       "      <td>2004</td>\n",
       "      <td>F</td>\n",
       "      <td>AK</td>\n",
       "      <td>28</td>\n",
       "    </tr>\n",
       "  </tbody>\n",
       "</table>\n",
       "</div>"
      ],
      "text/plain": [
       "   Unnamed: 0     Id      Name  Year Gender State  Count\n",
       "0       11349  11350      Emma  2004      F    AK     62\n",
       "1       11350  11351   Madison  2004      F    AK     48\n",
       "2       11351  11352    Hannah  2004      F    AK     46\n",
       "3       11352  11353     Grace  2004      F    AK     44\n",
       "4       11353  11354     Emily  2004      F    AK     41\n",
       "5       11354  11355   Abigail  2004      F    AK     37\n",
       "6       11355  11356    Olivia  2004      F    AK     33\n",
       "7       11356  11357  Isabella  2004      F    AK     30\n",
       "8       11357  11358    Alyssa  2004      F    AK     29\n",
       "9       11358  11359    Sophia  2004      F    AK     28"
      ]
     },
     "execution_count": 49,
     "metadata": {},
     "output_type": "execute_result"
    }
   ],
   "source": [
    "baby_names.head(10)"
   ]
  },
  {
   "cell_type": "markdown",
   "metadata": {},
   "source": [
    "### Step 5. Delete the column 'Unnamed: 0' and 'Id'"
   ]
  },
  {
   "cell_type": "code",
   "execution_count": 50,
   "metadata": {
    "collapsed": false
   },
   "outputs": [],
   "source": [
    "column_to_drop = ['Unnamed: 0','Id']\n",
    "baby_names.drop(column_to_drop, axis=1, inplace=True)"
   ]
  },
  {
   "cell_type": "code",
   "execution_count": 51,
   "metadata": {},
   "outputs": [
    {
     "data": {
      "text/html": [
       "<div>\n",
       "<style scoped>\n",
       "    .dataframe tbody tr th:only-of-type {\n",
       "        vertical-align: middle;\n",
       "    }\n",
       "\n",
       "    .dataframe tbody tr th {\n",
       "        vertical-align: top;\n",
       "    }\n",
       "\n",
       "    .dataframe thead th {\n",
       "        text-align: right;\n",
       "    }\n",
       "</style>\n",
       "<table border=\"1\" class=\"dataframe\">\n",
       "  <thead>\n",
       "    <tr style=\"text-align: right;\">\n",
       "      <th></th>\n",
       "      <th>Name</th>\n",
       "      <th>Year</th>\n",
       "      <th>Gender</th>\n",
       "      <th>State</th>\n",
       "      <th>Count</th>\n",
       "    </tr>\n",
       "  </thead>\n",
       "  <tbody>\n",
       "    <tr>\n",
       "      <th>868445</th>\n",
       "      <td>Ariadna</td>\n",
       "      <td>2010</td>\n",
       "      <td>F</td>\n",
       "      <td>TX</td>\n",
       "      <td>29</td>\n",
       "    </tr>\n",
       "    <tr>\n",
       "      <th>401520</th>\n",
       "      <td>Braydin</td>\n",
       "      <td>2009</td>\n",
       "      <td>M</td>\n",
       "      <td>LA</td>\n",
       "      <td>6</td>\n",
       "    </tr>\n",
       "    <tr>\n",
       "      <th>910487</th>\n",
       "      <td>Jamaal</td>\n",
       "      <td>2013</td>\n",
       "      <td>M</td>\n",
       "      <td>TX</td>\n",
       "      <td>6</td>\n",
       "    </tr>\n",
       "  </tbody>\n",
       "</table>\n",
       "</div>"
      ],
      "text/plain": [
       "           Name  Year Gender State  Count\n",
       "868445  Ariadna  2010      F    TX     29\n",
       "401520  Braydin  2009      M    LA      6\n",
       "910487   Jamaal  2013      M    TX      6"
      ]
     },
     "execution_count": 51,
     "metadata": {},
     "output_type": "execute_result"
    }
   ],
   "source": [
    "baby_names.sample(3)"
   ]
  },
  {
   "cell_type": "markdown",
   "metadata": {},
   "source": [
    "### Step 6. Is there more male or female names in the dataset?"
   ]
  },
  {
   "cell_type": "code",
   "execution_count": 52,
   "metadata": {},
   "outputs": [
    {
     "data": {
      "text/plain": [
       "F    558846\n",
       "M    457549\n",
       "Name: Gender, dtype: int64"
      ]
     },
     "execution_count": 52,
     "metadata": {},
     "output_type": "execute_result"
    }
   ],
   "source": [
    "baby_names[\"Gender\"].value_counts()"
   ]
  },
  {
   "cell_type": "markdown",
   "metadata": {},
   "source": [
    "### Step 7. Group the dataset by name and assign to names"
   ]
  },
  {
   "cell_type": "code",
   "execution_count": 69,
   "metadata": {},
   "outputs": [],
   "source": [
    "x = baby_names.drop('Year', axis=1)"
   ]
  },
  {
   "cell_type": "code",
   "execution_count": 70,
   "metadata": {},
   "outputs": [],
   "source": [
    "names = x.groupby('Name')"
   ]
  },
  {
   "cell_type": "markdown",
   "metadata": {},
   "source": [
    "### Step 8. How many different names exist in the dataset?"
   ]
  },
  {
   "cell_type": "code",
   "execution_count": 71,
   "metadata": {},
   "outputs": [
    {
     "data": {
      "text/plain": [
       "17632"
      ]
     },
     "execution_count": 71,
     "metadata": {},
     "output_type": "execute_result"
    }
   ],
   "source": [
    "len(baby_names['Name'].value_counts())"
   ]
  },
  {
   "cell_type": "markdown",
   "metadata": {},
   "source": [
    "### Step 9. What is the name with most occurrences?"
   ]
  },
  {
   "cell_type": "code",
   "execution_count": 75,
   "metadata": {
    "collapsed": false
   },
   "outputs": [
    {
     "ename": "KeyError",
     "evalue": "'Columns not found: False'",
     "output_type": "error",
     "traceback": [
      "\u001b[1;31m---------------------------------------------------------------------------\u001b[0m",
      "\u001b[1;31mKeyError\u001b[0m                                  Traceback (most recent call last)",
      "Cell \u001b[1;32mIn[75], line 1\u001b[0m\n\u001b[1;32m----> 1\u001b[0m max_occurrence_names \u001b[38;5;241m=\u001b[39m names[names[\u001b[38;5;124m'\u001b[39m\u001b[38;5;124mCount\u001b[39m\u001b[38;5;124m'\u001b[39m] \u001b[38;5;241m==\u001b[39m names[\u001b[38;5;124m'\u001b[39m\u001b[38;5;124mCount\u001b[39m\u001b[38;5;124m'\u001b[39m]\u001b[38;5;241m.\u001b[39mmax()]\n\u001b[0;32m      3\u001b[0m \u001b[38;5;28mprint\u001b[39m(max_occurrence_names)\n",
      "File \u001b[1;32md:\\anacondaa\\Lib\\site-packages\\pandas\\core\\groupby\\generic.py:1416\u001b[0m, in \u001b[0;36mDataFrameGroupBy.__getitem__\u001b[1;34m(self, key)\u001b[0m\n\u001b[0;32m   1407\u001b[0m \u001b[38;5;28;01mif\u001b[39;00m \u001b[38;5;28misinstance\u001b[39m(key, \u001b[38;5;28mtuple\u001b[39m) \u001b[38;5;129;01mand\u001b[39;00m \u001b[38;5;28mlen\u001b[39m(key) \u001b[38;5;241m>\u001b[39m \u001b[38;5;241m1\u001b[39m:\n\u001b[0;32m   1408\u001b[0m     \u001b[38;5;66;03m# if len == 1, then it becomes a SeriesGroupBy and this is actually\u001b[39;00m\n\u001b[0;32m   1409\u001b[0m     \u001b[38;5;66;03m# valid syntax, so don't raise warning\u001b[39;00m\n\u001b[0;32m   1410\u001b[0m     warnings\u001b[38;5;241m.\u001b[39mwarn(\n\u001b[0;32m   1411\u001b[0m         \u001b[38;5;124m\"\u001b[39m\u001b[38;5;124mIndexing with multiple keys (implicitly converted to a tuple \u001b[39m\u001b[38;5;124m\"\u001b[39m\n\u001b[0;32m   1412\u001b[0m         \u001b[38;5;124m\"\u001b[39m\u001b[38;5;124mof keys) will be deprecated, use a list instead.\u001b[39m\u001b[38;5;124m\"\u001b[39m,\n\u001b[0;32m   1413\u001b[0m         \u001b[38;5;167;01mFutureWarning\u001b[39;00m,\n\u001b[0;32m   1414\u001b[0m         stacklevel\u001b[38;5;241m=\u001b[39mfind_stack_level(),\n\u001b[0;32m   1415\u001b[0m     )\n\u001b[1;32m-> 1416\u001b[0m \u001b[38;5;28;01mreturn\u001b[39;00m \u001b[38;5;28msuper\u001b[39m()\u001b[38;5;241m.\u001b[39m\u001b[38;5;21m__getitem__\u001b[39m(key)\n",
      "File \u001b[1;32md:\\anacondaa\\Lib\\site-packages\\pandas\\core\\base.py:238\u001b[0m, in \u001b[0;36mSelectionMixin.__getitem__\u001b[1;34m(self, key)\u001b[0m\n\u001b[0;32m    236\u001b[0m     \u001b[38;5;28;01mif\u001b[39;00m \u001b[38;5;28mlen\u001b[39m(\u001b[38;5;28mself\u001b[39m\u001b[38;5;241m.\u001b[39mobj\u001b[38;5;241m.\u001b[39mcolumns\u001b[38;5;241m.\u001b[39mintersection(key)) \u001b[38;5;241m!=\u001b[39m \u001b[38;5;28mlen\u001b[39m(\u001b[38;5;28mset\u001b[39m(key)):\n\u001b[0;32m    237\u001b[0m         bad_keys \u001b[38;5;241m=\u001b[39m \u001b[38;5;28mlist\u001b[39m(\u001b[38;5;28mset\u001b[39m(key)\u001b[38;5;241m.\u001b[39mdifference(\u001b[38;5;28mself\u001b[39m\u001b[38;5;241m.\u001b[39mobj\u001b[38;5;241m.\u001b[39mcolumns))\n\u001b[1;32m--> 238\u001b[0m         \u001b[38;5;28;01mraise\u001b[39;00m \u001b[38;5;167;01mKeyError\u001b[39;00m(\u001b[38;5;124mf\u001b[39m\u001b[38;5;124m\"\u001b[39m\u001b[38;5;124mColumns not found: \u001b[39m\u001b[38;5;132;01m{\u001b[39;00m\u001b[38;5;28mstr\u001b[39m(bad_keys)[\u001b[38;5;241m1\u001b[39m:\u001b[38;5;241m-\u001b[39m\u001b[38;5;241m1\u001b[39m]\u001b[38;5;132;01m}\u001b[39;00m\u001b[38;5;124m\"\u001b[39m)\n\u001b[0;32m    239\u001b[0m     \u001b[38;5;28;01mreturn\u001b[39;00m \u001b[38;5;28mself\u001b[39m\u001b[38;5;241m.\u001b[39m_gotitem(\u001b[38;5;28mlist\u001b[39m(key), ndim\u001b[38;5;241m=\u001b[39m\u001b[38;5;241m2\u001b[39m)\n\u001b[0;32m    241\u001b[0m \u001b[38;5;28;01melif\u001b[39;00m \u001b[38;5;129;01mnot\u001b[39;00m \u001b[38;5;28mgetattr\u001b[39m(\u001b[38;5;28mself\u001b[39m, \u001b[38;5;124m\"\u001b[39m\u001b[38;5;124mas_index\u001b[39m\u001b[38;5;124m\"\u001b[39m, \u001b[38;5;28;01mFalse\u001b[39;00m):\n",
      "\u001b[1;31mKeyError\u001b[0m: 'Columns not found: False'"
     ]
    }
   ],
   "source": [
    "max_occurrence_names = names[names['Count'] == names['Count'].max()]\n",
    "\n",
    "print(max_occurrence_names)"
   ]
  },
  {
   "cell_type": "markdown",
   "metadata": {},
   "source": [
    "### Step 10. How many different names have the least occurrences?"
   ]
  },
  {
   "cell_type": "code",
   "execution_count": 61,
   "metadata": {},
   "outputs": [
    {
     "name": "stdout",
     "output_type": "stream",
     "text": [
      "There are 3682 different names with the least occurrences.\n"
     ]
    }
   ],
   "source": [
    "min_occurrence = baby_names['Name'].value_counts().min()\n",
    "\n",
    "num_names_with_least_occurrences = sum(baby_names['Name'].value_counts() == min_occurrence)\n",
    "\n",
    "print(f\"There are {num_names_with_least_occurrences} different names with the least occurrences.\")\n"
   ]
  },
  {
   "cell_type": "markdown",
   "metadata": {},
   "source": [
    "### Step 11. What is the median name occurrence?"
   ]
  },
  {
   "cell_type": "code",
   "execution_count": 62,
   "metadata": {},
   "outputs": [
    {
     "name": "stdout",
     "output_type": "stream",
     "text": [
      "The name(s) with the median occurrence is/are: Makayla, Maria, Mary, Michelle, Alexandra, Andrea, Aubrey, Aurora, Autumn, Bethany, Jillian, Julia, Leilani, Lydia, Rylee, Sara, Serenity, Vanessa, Jenna, Layla, Naomi, Rebecca, Alana, Ashlyn, Cadence, Jada, Jocelyn, Josephine, Katie, Keira, Maya, Angelina, Arianna, Ashley, Erin, Gracie, Isabelle, Kaylee, Lilly, Mariah, Molly, Alexandria, Ariana, Audrey, Clara, Jade, Zoe, Brooke, Ellie, Mia, Victoria, Willow, Alaina, Aliyah, Destiny, Isla, Mckenzie, Alexis, Allison, Cora, Kayla, Kylie, Lyla, Madelyn, Penelope, Reagan, Stella, Aaliyah, Claire, Kendall, Paige, Quinn, Trinity, Alice, Aubree, Kennedy, River, Sarah, Sofia, Taylor, Adrian, Brayden, Gage, Kai, Lance, Mark, Nolan, Shane, Spencer, Steven, Avery, Carson, Devon, Dominic, Henry, Patrick, Preston, Ryder, Scott, Trenton, Ashton, Bryce, Garrett, Jaden, Wesley, Keegan, Brian, Ezekiel, Jesse, Jonah, Kaleb, Landen, Max, Sawyer, Shawn, Tristen, Colin, Eric, Jeremy, Kayden, Leo, Richard, Rylan, Xavier, Ayden, Bentley, Bradley, Johnathan, Julian, Kaiden, Lincoln, Nathaniel, Skyler, Travis, Vincent, Asher, Edward, Jake, Trevor, Alex, Camden, Cole, Everett, Kevin, Maxwell, Miles, Adam, Cayden, Ezra, Malachi, Marcus, Riley, Sean, Silas, Easton, Finn, George, Hudson, Ian, Jasper, Marshall, Orion, Timothy, Alissa, Amiyah, Brandy, Carolina, Carolyn, Cassie, Cecilia, Christian, Daniela, Dasia, Deanna, Delaney, Eleanor, Emory, Esmeralda, Eva, Halie, Jailyn, Jalyn, Kallie, Karley, Kasey, Liberty, Logan, Macey, Phoebe, Regan, Rosa, Shannon, Taniyah, Tiana, Tiara, Annie, Britney, Camilla, Casey, Charity, Elise, Gianna, Hadley, Halle, Isabel, Jameria, Kailee, Karli, Kinley, Lola, Mckayla, Meghan, Mikalah, Miriam, Shamya, Tatum, Tessa, Ada, Addie, Ann, Bianca, Cassandra, Caylee, Dana, Destinee, Destini, Eden, Jaiden, Kaitlynn, Kaydence, Kaylen, Kaylyn, Kiera, Kiersten, Kiley, Kristen, Maddison, Nancy, Natalia, Patience, Samiya, Shayla, Tia, Wendy, Yasmin, Abbigail, Akira, Alanna, Alina, Ally, Ayana, Ayla, Brenda, Brittney, Bryanna, Cali, Charlee, Dallas, Deja, Gracelyn, Hallie, Hayleigh, Holly, Jaelyn, Juana, Kaliyah, Karma, Kenadie, Kyndall, Maci, Makaila, Marianna, Meagan, Shania, Sienna, Tamara, Tiffany, Zaniyah, Alison, Anaya, Ashlee, Ashleigh, Campbell, Cynthia, Danica, Dulce, Elisabeth, Heather, Jamiah, Karmen, Kira, Lindsay, Madeleine, Madelynn, Makiya, Maleah, Martha, Patricia, Ryan, Taliyah, Teagan, Violet, Whitney, Zariyah, Adelyn, Ali, Alyson, April, Arabella, Braylee, Camryn, Cara, Crimson, Eliza, Hanna, Kamiya, Karina, Kaylin, Keyonna, Kiara, Kristina, Kyndal, Lorelei, Mariana, Mckenna, Meredith, Ruth, Shaniya, Valerie, Zaniya, Zaria, Adyson, Amanda, Anabelle, Bristol, Carleigh, Charlie, Chyna, Ciara, Elaina, Erika, Farrah, Finley, Iris, Jamiya, Justice, Kate, Kirsten, Lexie, Marilyn, Mattie, Nyla, Parker, Rebekah, Rihanna, Rose, Valeria, Abbie, Alexia, Amari, Claudia, Emilee, Imani, Jacey, Jaida, Jamie, Jamya, Jaylee, Kaelyn, Kenley, Kyra, Malia, Melissa, Mila, Miley, Miranda, Nia, Rayleigh, Rylie, Savanna, Taraji, Tenley, Yaretzi, Aleah, Amani, Arielle, Azaria, Cameron, Elena, Eloise, Helen, Joy, Kamari, Kaylie, Kendra, Kinleigh, Madilynn, Madyson, Makiyah, Paislee, Phoenix, Raelynn, Rosalie, Sandra, Stephanie, Talia, Adelaide, Briella, Charley, Charli, Daisy, Fallon, Heaven, Hope, Jaycie, Jessie, Julie, Juliet, Kaleigh, Kimora, Kyla, Rileigh, Scarlet, Selah, Vera, Zuri, Annabella, Anniston, Anslee, Ariyah, Aspen, Azariah, Blakelyn, Briana, Brittany, Collins, Daleyza, Elsie, Erica, Frances, Jaylynn, Jazlyn, Journi, Kailey, Lailah, Madalynn, Mallie, Megan, Michaela, Millie, Mollie, Sierra, Whitley, Zion, Ahmad, Alec, Caiden, Demarcus, Deshawn, Dillan, Enrique, Grady, Greyson, Harley, Heath, Israel, Jamar, Jarrett, Javier, Jayson, Kamron, Keondre, Liam, Marlon, Pedro, Rashad, Ricardo, Shaun, Warren, Weston, Arthur, Asa, Billy, Braydon, Brenden, Byron, Devan, Dominick, Erick, Fernando, Graham, Ivan, Jacorey, Jude, Keshawn, Kolby, Micheal, Nathanael, Rafael, Roger, Ronnie, Albert, Atticus, Braylen, Brendon, Brent, Cortez, Damarion, Damion, Desmond, Dewayne, Frederick, Fredrick, Jacoby, Jaydon, Lawrence, Layton, Lukas, Nickolas, Peter, Philip, Randy, Ray, Ruben, Titus, Toby, Tommy, Tyree, Xzavier, Baylor, Beau, Blaine, Brannon, Brett, Darion, Gerardo, Gustavo, Hayes, Jarvis, Karson, Kendarius, Kristopher, Ladarius, Leonardo, Paxton, Quincy, Terrell, Turner, Abraham, Aydan, Clarence, Clinton, Colt, Dennis, Emerson, Jadarius, Jameson, Javon, Jaylan, Keon, Lewis, Martin, Mekhi, Nigel, Quentin, Roderick, Rodrigo, Tate, Tristian, Zayden, Casen, Demarion, Dorian, Douglas, Drew, Houston, Kemarion, Kylan, Manuel, Messiah, Omari, Reese, Sam, Santiago, Sergio, Tony, Zavion, Alijah, Clark, Cruz, Erik, Jamison, Jax, Jayce, Kamarion, Karsen, Keaton, Marvin, Miller, Morgan, Orlando, Prince, Ricky, Talon, Andy, Bobby, Branson, Brayan, Brayson, Brentley, Colten, Cornelius, Declan, Dillon, Frank, Gideon, Harper, Issac, Jadon, Jakobe, Jeffery, Josue, Keith, Kellen, Kelton, Knox, Marquis, Mitchell, Reece, Rodney, Russell, Skylar, Terry, Tristin, Wilson, Carmelo, Cristian, Darius, Elliot, Fisher, Hampton, Jagger, Jay, Jermaine, Johan, Kasen, Kelvin, Kristian, Maurice, Payton, Princeton, Quinton, Reed, Zachariah, Abram, Andres, Bo, Brock, Cory, Donovan, Jakob, Mack, Maverick, Maximus, Nehemiah, Oscar, Randall, Romeo, Simon, Trace, Andre, Brennan, Bruce, Cayson, Davion, Davis, Deandre, Franklin, Gary, Jalen, Kade, Kaison, Kyson, Legend, Malik, Oakley, Omar, Terrance, Trent, Zechariah, Alayna, Carley, Celeste, Gabriela, Janiya, Katlyn, Kenzie, Kyleigh, Lauryn, Micah, Raegan, Veronica, Angelica, Hailee, Jacqueline, Lexi, Zoie, Adison, Camille, Dixie, Jasmin, Jazmine, Joanna, Juliana, Kennedi, Makenna, Natalee, Selena, Sherlyn, Alondra, Aniyah, Caitlin, Cheyanne, Jakayla, Kelly, Lainey, Laken, Lila, Paisley, Ariel, Janiyah, Joselyn, Vivian, Adrianna, Ainsley, Alejandra, Briley, Carlee, Christina, Diamond, Diana, Giselle, Harmony, Hattie, Jamiyah, Jimena, Journey, Julianna, Karen, Laney, Miracle, Nicole, Allyson, Amber, Asia, Delilah, Gracelynn, Jayda, Kaylynn, Liliana, Mikayla, Sasha, Aria, Chelsea, Jaycee, Journee, Kara, Margaret, Tinley, Adelynn, Athena, Brynn, Carly, Carmen, Heidi, Jordan, Kali, Kamryn, Karsyn, Kelsey, Addilyn, Angela, Brielle, Bryleigh, Catherine, Dakota, Danielle, Esther, Hadleigh, June, Kimberly, Leslie, Melody, Saylor, Tinsley, Ximena, Adeline, Ana, Arya, Caitlyn, Elliott, Emmalyn, Izabella, Karlee, Kensley, Kimber, Curtis, Edgar, Jeffrey, Jonathon, Waylon, Braeden, Julio, Melvin, Oliver, Pablo, Raymond, Roberto, Troy, Zachery, Zackery, Darren, Griffin, Javion, Jon, Leland, Omarion, Tyson, Allen, Braiden, Damien, Donald, Elias, Francisco, Gregory, Jase, Johnathon, Phillip, Trey, Bradyn, Bryant, Dayton, Edwin, Harrison, Jaquan, Lawson, Layne, Ronald, Brodie, Emmanuel, Pierce, Reid, Triston, Beckett, Clay, Dustin, Jaxton, Jaylon, Judah, Zayne, Jorge, Karter, Larry, Mateo, Paul, Walker, Zaiden, Bently, Calvin, Danny, Emanuel, Gauge, Landyn, August, Bentlee, Cade, Cesar, Channing, Dean, Gael, Joel, Deacon, Hank, Kayson, Stephen, Aisha, Alia, Anne, Arlene, Arleth, Ayanna, Beatriz, Brissa, Cecelia, Charlize, Daphne, Donna, Irene, Kayley, Laci, Liana, Mariela, Myah, Noelia, Noelle, Nora, Rachael, Theresa, Unique, Viridiana, Xitlali, Yamilet, Ailyn, Aiyana, Amara, Aryana, Ayleen, Brianda, Briseida, Celina, Dafne, Elissa, Elyse, Ericka, Francesca, Geraldine, Haleigh, Haven, Hayley, Isis, Jewel, Macie, Maricela, Mireya, Norma, Priscila, Rayna, Reina, Shyanne, Silvia, Vianey, Yuridia, Aimee, Annette, Cierra, Fabiola, Galilea, Gina, Gladys, Jaedyn, Jayleen, Jenifer, Joslyn, Kaila, Kairi, Kaley, Karely, Leyla, Lillianna, Lillie, Lupita, Magdalena, Mara, Micaela, Mikaela, Naima, Nathalie, Neveah, Nizhoni, Nuvia, Precious, Raven, Romina, Rosalinda, Salma, Selene, Sylvia, Tabitha, Toni, Yoselyn, Aniya, Baylee, Breana, Brylee, Citlaly, Deborah, Ember, Ireland, Jaelynn, Jane, Jaquelin, Jaylene, Jocelynn, Jolie, Jordin, Jordynn, Kaiya, Karly, Kelsie, Lucero, Madalyn, Natali, Rowan, Stacy, Sydnee, Tayler, Tyra, Valery, Yarely, Abbey, Alani, Alexus, Alyna, Amelie, Amya, Analia, Annabel, Aracely, Ariadna, Bridget, Briseyda, Carina, Cherish, Cienna, Citlali, Dahlia, Estefania, Hadassah, Haylie, Jayde, Jazleen, Josie, Lilith, Lillyanna, Marisa, Marlie, Saige, Sidney, Soraya, Violeta, Virginia, Zuleyka, Adrienne, Aliah, Alisha, Anessa, Bailee, Dariana, Emilie, Emmy, Eve, Evelynn, Giada, Gisselle, Italia, Janae, Jazmyn, Kaitlin, Kendal, Kenia, Lacey, Leilah, Makena, Montserrat, Nathaly, Paula, Renata, Rosario, Thalia, Yasmine, Zariah, Abrielle, Adamari, Amira, Aubrie, Dylan, Heidy, Iliana, Jaylyn, Judith, Karissa, Kaya, Lindsey, Lylah, Lyric, Mariajose, Meadow, Miah, Notnamed, Sarina, Scarlette, Aiyanna, Alianna, Anabella, Antonella, Calista, Carla, Colette, Emmalee, Frida, Giovanna, Graciela, Grecia, Jacquelyn, Kenya, Keyla, Madisyn, Marlee, Marlene, Raquel, Rhiannon, Sarahi, Siena, Vivianna, Yazmin, Abigale, Abrianna, Adilene, Alena, Aubrielle, Barbara, Belen, Dominique, Giana, Isabell, Jazzlyn, Leighton, Mae, Marian, Mina, Monique, Paris, Ryann, Samara, Simone, Sloane, Zara, Addisyn, Aleena, Amiah, Anika, Anissa, Arely, Ari, Aryanna, Aurelia, Beatrice, Dalilah, Emely, Lea, Lilyanna, Maia, Maryjane, Mercedes, Natalya, Tegan, Yesenia, Angie, Annalee, Davina, Desiree, Everleigh, Holland, Kailyn, Kayleen, Kiana, Lesly, Luz, Mabel, Malaysia, Marie, Paulette, Pearl, Serena, Winter, Yuliana, Cristobal, Cristopher, Draven, Dylon, Elian, Gunner, Irving, Jaxson, Jerome, Kendrick, Kieran, Kody, Kole, Rolando, Adrien, Alexandro, Aron, Bennett, Braxton, Chandler, Freddy, Gunnar, Heriberto, Jahir, Jairo, Kyan, Mariano, Oswaldo, Solomon, Tomas, Tylor, Alessandro, Alexzander, Amir, Augustine, Bruno, Brycen, Guadalupe, Malakai, Malaki, Marcelo, Myles, Nathanial, Quintin, Rey, Reynaldo, Ryker, Ahmed, Ammon, Arjun, Armani, Aryan, Boston, Carlo, Dalton, Eliseo, Ibrahim, Josh, Julien, Keagan, Kellan, Matteo, Osmar, Reyes, Rudy, Tobias, Yurem, Cannon, Chad, Dario, Jovanny, Jovany, Justus, Kale, Kenny, Nixon, Steve, Wade, Brigham, Dax, Dexter, Giancarlo, Jerry, Jovani, Killian, Ramiro, Rodolfo, Rogelio, Beckham, Corey, Elisha, Gianni, Giovani, Humberto, Izayah, Jaxen, Jaziel, Kobe, Marc, Ramses, Slade, Sonny, Alvaro, Aydenn, Callen, Cason, Dane, Joe, Kameron, Kane, Maximo, Rocco, Rowen, Royce, Arian, Cain, Conor, Davian, Deegan, Efrain, Ellis, Enzo, Finnegan, Irvin, Isai, Jasiah, Karim, Luka, Markus, Moses, Nelson, Walter, Cohen, Cyrus, Demetrius, Duke, Gilberto, Jair, Jensen, Joey, Mikah, Nash, Neymar, Nikolai, Rhett, Vicente, Yael, Agustin, Arlo, Atlas, Cassius, Conrad, Cristiano, Dawson, Enoch, Hendrix, Junior, Lennox, Lionel, Lucian, Madden, Samson, Santino, Aarushi, Agnes, Aishwarya, Alaya, Alba, Aleeza, Amairany, Amayah, Ameera, Ameerah, Amirah, Anabell, Analiese, Anjelina, Ariane, Athziri, Aura, Aviana, Baylie, Betsaida, Brea, Bree, Breeanna, Breonna, Brinley, Candelaria, Cathryn, Chana, Daira, Dani, Dayrin, Denae, Elli, Emili, Emmi, Esme, Evangeline, Freya, Gimena, Glenda, Harlie, Isadora, Jael, Jamila, Janai, Jaya, Jayline, Jazlin, Jersey, Joleen, Jose, Jubilee, Judit, Juliza, Kacy, Kalie, Kareena, Kaylei, Keiry, Kelsea, Khloe, Kiani, Kiran, Kyley, Lacie, Larisa, Leela, Libby, Linette, Lizzet, Macayla, Madelin, Maiya, Makala, Mandi, Maricarmen, Marta, Maryanne, Marylin, Maryssa, Medha, Meilani, Mel, Melenie, Merissa, Mitzy, Miyah, Muskaan, Naiya, Navya, Nidhi, Niya, Niyah, Noemy, Nour, Octavia, Rian, Rio, Risa, Ryanne, Saanvi, Sakura, Samya, Samyra, Sandi, Sapphire, Serene, Shaelyn, Shanelle, Shoshana, Starla, Tayla, Tea, Triniti, Tru, Venus, Yelitza, Aaniyah, Alessa, Alida, Aline, Aminah, Analee, Anali, Analicia, Angelyna, Annabell, Arianne, Ariatna, Ariya, Audra, Avelina, Bibiana, Breeana, Brieanna, Caelyn, Cesia, Cosette, Darby, Darleen, Darya, Dasha, Desire, Deyanira, Elsy, Elysia, Emalie, Emilly, Emme, Evette, Francisca, Gardenia, Getsemani, Gisella, Harmonie, Henna, Itzia, Jaimie, Janell, Jemma, Joan, Jodi, Josalyn, Joscelyn, Joselyne, Kalena, Kalista, Kamea, Kaniya, Karizma, Kay, Kaylene, Keana, Kelsy, Kimberlyn, Laurie, Lilibeth, Lisseth, Liz, Lovely, Luca, Lucinda, Madelaine, Maite, Marcelina, Margaux, Marifer, Meena, Melonie, Michell, Mimi, Moira, Moncerrat, Naya, Neela, Nidia, Niki, Nola, Nyssa, Olive, Parris, Polina, Poppy, Prisha, Rayven, Rhiana, Rubie, Salem, Salina, Sammantha, Sanya, Shae, Shakira, Shanna, Sherlin, Shriya, Simona, Sneha, Sol, Susie, Sydni, Tallulah, Talya, Taytum, Viktoria, Winnie, Yaretzy, Yeimi, Yulianna, Yuvia, Abriana, Adamariz, Adylene, Ailin, Airam, Aleesha, Aleyda, Aleyna, Alyssamarie, Amaia, Ami, Anayah, Anela, Aniela, Ankita, Annalie, Anoushka, Aolani, Araya, Arieanna, Arlet, Asma, Aubry, Audree, Aylen, Billie, Bria, Brookelyn, Celene, Chevelle, Clarice, Daiana, Darlin, Destinie, Donya, Emeli, Emiko, Emiliana, Emmely, Eriana, Esbeidy, Estrellita, Evelina, Francheska, Genavieve, Giavanna, Gissele, Grayson, Gurleen, Ileen, Ilianna, Ishika, Janett, Janine, Jeannette, Jennessa, Jenni, Julietta, Kaelin, Kalissa, Katerine, Kathya, Kattie, Kemberly, Keyra, Kiyomi, Lacy, Leana, Leidy, Lilit, Lynda, Maisie, Makyla, Marcia, Mariaelena, Matilde, Mattea, Mercedez, Midori, Milly, Mirella, Myriam, Naidelyn, Nicolle, Ninel, Nubia, Opal, Penny, Persephone, Pia, Riana, Roberta, Roshni, Rosselyn, Saba, Sade, Saraya, Savina, Scout, Shanti, Sharlyn, Shylah, Skylee, Stacie, Tatiyana, Thania, Trinidad, Wendi, Yahira, Yamila, Zadie, Zaida, Zitlaly, Zofia, Zury, Alanis, Aleyah, Alinna, Ammy, Amrita, Andi, Ariadne, Arriana, Bayley, Bobbi, Brihanna, Cailey, Calli, Carli, Chanelle, Chantelle, Chase, Clarisse, Coco, Constance, Dallana, Danyelle, Deena, Delanie, Dyana, Eimy, Ela, Elayna, Elinor, Elora, Emelin, Eternity, Genevie, Hasini, Havana, Ilse, Isa, Izabela, Jacinda, Jahzara, Jaime, Jaina, Janel, Jelena, Jiya, Jocelynne, Jody, Joely, Joslynn, Joycelyn, Julieana, Julienne, Katherin, Kaylina, Keeley, Keilly, Keona, Kiya, Laela, Laylani, Leylani, Liani, Lillyan, Lizania, Lois, Malani, Maliya, Mariaguadalupe, Mariya, Marleny, Maryah, Mayleen, Mckinley, Meah, Merari, Nailea, Quetzalli, Raelyn, Raine, Reilly, Rena, Romy, Rosalind, Samari, Sanah, Sequoia, Shantal, Shelley, Siomara, Sonja, Susannah, Tamar, Varsha, Xenia, Yakelin, Yelena, Ysabel, Yudith, Yumalay, Zoee, Zyanya, Aila, Alinah, Alyvia, Amilia, Anahit, Analiz, Angelene, Angelli, Ania, Anja, Arionna, Berlyn, Bertha, Betzaida, Bryn, Camdyn, Cecily, Celest, Chelsie, Christie, Ciera, Colleen, Cordelia, Dalyla, Debbie, Delany, Della, Elana, Ellery, Elly, Elodie, Elva, Emeraude, Emerie, Emmalina, Estelle, Evy, Harmoni, Holley, Hollie, Huda, Illiana, Imogen, Inara, Isaura, Ivanka, Izabell, Izzabella, Jacquelyne, Jahaira, Jailah, Jannah, Jaselle, Jaslyne, Jasmyne, Jazzlynn, Jessenia, Jia, Joi, Jorden, Jorja, Jules, Kamilla, Kamya, Kaori, Keanna, Kenadi, Lani, Liah, Lizett, Maddie, Mahika, Malea, Maribella, Marilynn, Marion, Maryn, Meliza, Miabella, Mikaila, Minnie, Monzerrat, Nakayla, Nariah, Natally, Nila, Nyomi, Rae, Rain, Rayann, Rayne, Richelle, Rosalina, Roslyn, Seanna, Sedona, Shaylynn, Siri, Sunshine, Suraya, Symphony, Tahlia, Taya, Treasure, Veda, Yenifer, Yoanna, Aaralyn, Adaline, Ailene, Akshara, Allysson, Alona, Alysa, Amyah, Anastacia, Angelena, Annasophia, Ashlin, Aubri, Austyn, Avalyn, Ayumi, Bernadette, Blessing, Brissia, Brittanya, Calliope, Ciana, Dayla, Eesha, Emmerson, Emmie, Emmily, Enya, Evalina, Fatimah, Fayth, Gaby, Ilyana, Irelynn, Isobel, Jadelyn, Jalynn, Jaretzy, Jayleene, Jennah, Jessika, Justina, Kadyn, Kalei, Kameryn, Katheryne, Kaydee, Keilah, Kellie, Kelsi, Kendyl, Khadija, Khalia, Klara, Leigha, Lela, Lili, Lulu, Lyndsey, Mai, Maisy, Malinda, Maribelle, Marjorie, Marli, Mazzy, Melodie, Michele, Monika, Nala, Nayelly, Neida, Nikole, Nishka, Noel, Rina, Sailor, Seleste, Shianne, Sianna, Symone, Tanisha, Temperance, Terra, Vallerie, Yocelin, Zaara, Zahira, Zaniah, Zarah, Acacia, Adina, Ailey, Aleeah, Alexie, Alexsandra, Alycia, Alynna, Amariah, Anay, Anyssa, Arianah, Aries, Arisbeth, Arissa, Ashanti, Ashely, Ashleen, Atziri, Ayda, Ayelen, Bobbie, Brandi, Breanne, Briceida, Brooklynne, Cameryn, Celena, Christal, Cloe, Dezirae, Eloisa, Elvia, Elvira, Emersyn, Emmeline, Evany, Georgiana, Graciella, Guiliana, Hartley, Hellen, Hilda, Honor, Isabellamarie, Jackelin, Jaila, Jalaya, Janna, Jarely, Jaydee, Jayne, Jessalyn, Jolina, Jozlyn, Kacie, Kaeli, Kamiyah, Katelin, Khloie, Kimberlee, Laniya, Laylanie, Leeanna, Leen, Leiana, Leora, Leyah, Liyah, Lyanna, Maily, Maliha, Marlena, Maura, Maylee, Melanee, Melanny, Meleny, Mirabelle, Monserrath, Naomie, Naveah, Neriah, Niah, Nico, Novalee, Ocean, Ophelia, Rayanna, Reem, Rilee, Rishika, Rosabella, Roselynn, Roya, Ryley, Sabella, Samia, Sanjana, Shelly, Sherry, Sia, Sincere, Skylah, Vanity, Veronika, Yunuen, Zariya, Aadya, Abbigale, Abigayle, Adalia, Adara, Aliannah, Alysha, Amarie, Ambar, Anai, Analeigh, Analiyah, Angelia, Annaleah, Annalia, Aolanis, Arwen, Avarie, Ayari, Berkeley, Brighton, Brithany, Caylie, Charlette, Chelsy, Cheryl, Consuelo, Divine, Ellia, Emeline, Heavenly, Ianna, Ida, Indiana, Jailynn, Jaylinn, Jazmyne, Jenevieve, Jennie, Jesslyn, Joann, Joselynn, Julyssa, Kaira, Kamyla, Keely, Keilana, Khloee, Krystel, Lilli, Mackenna, Madelyne, Marguerite, Marlo, Marwa, Maycee, Melony, Melyssa, Metzli, Mikaella, Mileena, Mileydi, Mindy, Peighton, Portia, Raylynn, Reya, Rilyn, Ryah, Sanaya, Sania, Sarahy, Shyann, Siara, Sophya, Starr, Tala, Tammy, Thea, Vivianne, Zulema, Abriella, Adalee, Akari, Alora, Amora, Anamaria, Anevay, Anisha, Aranza, Ayah, Ayesha, Beautiful, Betzy, Beyonce, Bridgett, Britany, Calie, Callista, Candace, Charis, Christa, Collette, Daliah, Dara, Darina, Dayna, Deisy, Delila, Dina, Emalee, Eowyn, Florence, Gianella, Gigi, Gisell, Gretchen, Harnoor, Haydee, Ilana, Iman, Ira, Iyla, Jalissa, Janney, Johannah, Juanita, Juliett, Kaela, Kaiah, Katheryn, Kitzia, Kyrie, Leiah, Lesli, Leslye, Magdalene, Makaela, Marin, Marla, Mihika, Millicent, Ofelia, Olyvia, Pricila, Queenie, Remington, Rochelle, Rosalia, Rylin, Sama, Saydee, Shaina, Shana, Simran, Taelynn, Tatianna, Tatyana, Taylin, Ursula, Vaishnavi, Vanya, Vittoria, Yumi, Yuri, Zella, Ziva, Aaleyah, Addalyn, Aleigha, Alizay, Alyana, Alyse, Amor, Ara, Arina, Ariyanna, Asiya, Aveline, Aven, Avigail, Azaleah, Brook, Calla, Carsyn, Casandra, Catarina, Chantal, Darlyn, Eliyah, Emaan, Emmah, Emmalynn, Everlee, Everley, Gracyn, Haily, Ily, Inaya, Irlanda, Italy, Iyana, Iyanna, Jaleah, Jannat, Japji, Jeannie, Jocelin, Joceline, Josephina, Kaleia, Kennia, Kensie, Keziah, Khadijah, Kinsey, Krisha, Lamar, Lilyan, Malak, Marbella, Mariella, Marisela, Mildred, Minerva, Naia, Nirvana, Noella, Odette, Orianna, Rachelle, Rayah, Reet, Rosalynn, Royal, Savana, Siyona, Sofi, Solange, Suzette, Taniya, Violetta, Yohana, Zayla, Aahana, Aaliya, Addelyn, Aime, Ainara, Aleksandra, Alyah, Amarah, Angelic, Angely, Bernice, Bethel, Bianka, Brie, Caleigh, Calissa, Caliyah, Carmela, Carmella, Colbie, Daenerys, Daila, Danya, Debora, Echo, Edie, Eris, Essence, Freyja, Gillian, Giulianna, Grettel, Hafsa, Inessa, Iona, Ishani, Jacklyn, Jacquelin, Jill, Kaci, Kenzi, Lavinia, Makaylah, Maricruz, Martina, Maureen, Misha, Nava, Neve, Oona, Pauline, Pilar, Romi, Rosalee, Rosy, Serina, Siya, Theodora, Vada, Violett, Ysabella, Zaylah, Ab, Abhay, Adriano, Adryan, Amado, Amare, Anmol, Arion, Armen, Athan, Ayaan, Bishop, Bradford, Bradly, Bryon, Cecil, Chaz, Cy, Darrion, Denis, Dino, Earl, Elder, Eliel, Elio, Erasmo, Froylan, Gerard, Harman, Haydn, Henri, Ilan, Isreal, Issa, Jadyn, Jarod, Jaydan, Jaysen, Jeanpierre, Jerardo, Jeremias, Jerimiah, Juliocesar, Justyn, Juventino, Keyshawn, King, Koby, Kristofer, Kush, Lachlan, Luigi, Makaio, Maksim, Marcanthony, Mateen, Maximilliano, Michel, Montgomery, Naim, Natan, Natanael, Nate, Neftali, Osiris, Parth, Rami, Remi, Rony, Salvatore, Shiv, Sohan, Ted, Tino, Tyce, Ubaldo, Ulices, Vishal, Vishnu, Zahid, Zaire, Aarush, Adarsh, Adithya, Akhil, Ammar, Arden, Augustin, Basil, Boris, Brooklyn, Caeden, Calum, Charly, Chauncey, Cullen, Deanthony, Demetri, Denver, Desean, Donnie, Dwight, Ean, Elgin, Faustino, Fausto, Fletcher, Garett, Garrison, Geovani, Gianmarco, Hadi, Hakeem, Isak, Jacky, Jamarion, Jeancarlo, Jim, Jr, Juandiego, Karsten, Kerry, Kohen, Krishna, Kyree, Lennon, Leroy, Lucius, Manny, Massimo, Neal, Nile, Porfirio, Rayden, Raymon, Ren, Rishabh, Romario, Ryen, Sarkis, Savion, Shant, Shayne, Sullivan, Surya, Tanay, Tejas, Teodoro, Tigran, Travon, Tye, Vivek, Willem, Zahir, Zavier, Zephyr, Abhiram, Armon, Arnoldo, Arron, Artemio, Aston, Case, Clifton, Clyde, Daven, Davonte, Derik, Destin, Dev, Dmitri, Dontae, Donte, Edmond, Eliott, Elton, Ephraim, Esequiel, Esteven, Feliciano, Gene, Geronimo, Greg, Hamzah, Jackie, Jaleel, Javen, Jessi, Jiovanni, Jonny, Joseantonio, Joshue, Jovon, Juaquin, Kaelan, Karan, Karlo, Lazarus, Lonnie, Manu, Mathieu, Maximino, Myron, Naythan, Pascal, Ravi, Rishab, Rohit, Roni, Tiger, Titan, Trever, Vernon, Zeus, Abisai, Adael, Alain, Aman, Amin, Amogh, Amrit, Andrez, Aneesh, Antwon, Bret, Canyon, Chayton, Cian, Clint, Corban, Damarcus, Danniel, Deion, Demitri, Devlin, Diesel, Donavin, Eamon, Elyas, Emery, Eoin, Etienne, Evin, Gadiel, Gaven, Giorgio, Haden, Hakop, Harlan, Hasan, Heber, Humza, Ishmael, Jasen, Jayvion, Jeovany, Jessiah, Jimmie, Josias, Juliano, Jun, Kain, Kanoa, Kymani, Langston, Lyle, Maddux, Makoa, Marquise, Michaelangelo, Mikey, Morris, Mynor, Nahum, Nomar, Palmer, Parsa, Perry, Phineas, Piero, Rayhan, Rithvik, Shaurya, Slater, Sylvester, Syrus, Takumi, Tayshawn, Trayvon, Ulyses, Vedant, Youssef, Zayd, Zev, Aaditya, Adair, Ajani, Andru, Anuj, Arath, Aris, Arvin, Atharva, Caelan, Clifford, Constantine, Curren, Dallin, Darrius, Dave, Demari, Denny, Erickson, Gabino, Gamaliel, Jacques, Jerson, Joao, Juelz, Karlos, Kenyon, Kenzo, Khaled, Kyren, Lenin, Lev, Lucky, Marshawn, Maxton, Micaiah, Nicholai, Nikola, Omer, Raghav, Renato, Ryu, Sachin, Sammuel, Sheldon, Sid, Silvestre, Tai, Teegan, Tevita, Thatcher, Tosh, Trevin, Viktor, Vinh, Wiley, Yobani, Zuriel, Aaiden, Aayush, Abelardo, Ameer, Anders, Andersen, Arav, Armand, Bowen, Broden, Canaan, Darrin, Daylin, Domenick, Edgardo, Ethyn, Fabio, Finnley, Ford, Forest, Fox, Harlem, Jadiel, Jaykob, Jordi, Kirk, Lars, Lester, Lizandro, Luiz, Marcoantonio, Mihir, Nolen, Reggie, Rome, Ronit, Sahib, Skye, Stuart, Taha, Thaddeus, Tim, Tom, Wilbert, Williams, Zakary, Adian, Adiel, Alen, Alexsander, Arley, Arnold, Artur, Arush, Ash, Azriel, Baltazar, Barron, Benaiah, Brenton, Brogan, Brysen, Carmine, Chasen, Cisco, Cosmo, Crew, Deagan, Dezmond, Edwyn, Eitan, Emmet, Enoc, Ervin, Exavier, Flynn, Glen, Graysen, Hayk, Haziel, Ibraheem, Izik, Jaedon, Jaidon, Jasiel, Jayven, Jenson, Jeremih, Jeriah, Jessejames, Johannes, Joseangel, Joshuah, Juanjose, Kahlil, Kamran, Kamren, Kenton, Kyden, Kyron, Leopold, Linkin, Maddex, Marcell, Marcellus, Marques, Mikhail, Niccolo, Nicolai, Oren, Osman, Pavel, Rayshawn, Richie, Rider, Roan, Shamar, Shia, Shrey, Teo, Trevon, Yamil, Aamir, Abdulaziz, Abiel, Akash, Alekzander, Alton, Amadeus, Anibal, Atharv, Aziel, Bernard, Blair, Brantley, Cayleb, Dale, Dashawn, Domenic, Dyland, Eason, Edan, Edson, Eshan, Flavio, Gannon, Gibson, Gil, Hamilton, Hanson, Henrik, Hiroshi, Jabari, Jaciel, Jad, Jareth, Jarrod, Jeancarlos, Jhonny, Jin, Jionni, Joell, Josemaria, Kaedyn, Kaine, Karol, Khristian, Leopoldo, Levon, Lior, Lloyd, Mac, Maison, Norberto, Olivier, Om, Rajon, Reymundo, Saeed, Shea, Shreyas, Stefano, Stephon, Sutton, Valentine, Varun, Wilfredo, Wolfgang, Yadiel, Zakai, Zayan, Ziggy, Arjan, Arnulfo, Arsen, Ayman, Beck, Brad, Bryden, Cael, Caesar, Christofer, Cillian, Colter, Darnell, Daylen, Deklan, Deon, Eliam, Francesco, Giuseppe, Gus, Haiden, Icker, Jamil, Jamir, Jancarlos, Jaxsen, Johnson, Josemanuel, Kaidyn, Karthik, Kayne, Korey, Kye, Kyran, Lamont, Lazaro, Lochlan, Luisangel, Lyam, Makhi, Malikai, Mars, Matthieu, Menachem, Musa, Osbaldo, Quintus, Ramsey, Rehan, Sameer, Shepard, Stellan, Tayden, Terence, Theron, Torin, Valen, Wilmer, Zac, Aadi, Agastya, Aksel, Amaru, Arie, Ashwin, Axton, Ayush, Conan, Daryl, Davon, Dimitri, Ender, Fabrizio, Gavyn, Graeme, Greysen, Hawk, Herbert, Hussein, Huxley, Imran, Ismail, Jalil, Jaythan, Jaziah, Jeronimo, Kadin, Kavin, Keshav, Khang, Konnor, Konrad, Kris, Kurt, Leeland, Leobardo, Maceo, Marius, Monroe, Nehemias, Nery, Noble, Ozzie, Quinten, Reef, Rylen, Salomon, Samarth, Seven, Siddhant, Sir, Sire, Theodor, Ved, Vito, Zen, Abdulrahman, Adler, Advay, Alessio, Alexandre, Alexavier, Aramis, Aric, Asael, Atom, Benji, Brandt, Caius, Christiano, Darryl, Davit, Decker, Donavan, Edric, Ekam, Eliah, Eloy, Faisal, Gaige, Jaxxon, Jethro, Kase, Keane, Kolten, Legacy, Mehtab, Mohamad, Neev, Oziel, Pax, Pierson, Robbie, Ryatt, Selim, Stetson, Sulaiman, Trystan, Vidal, Wylie, Yousif, Zach, Zaden, Alma, Catalina, Daniella, Denisse, Edith, Emilia, Fernanda, Gloria, Greta, Johanna, Kassandra, Lena, Linda, Litzy, Lorena, Madisen, Sarai, Tania, Tori, Trista, Eileen, Felicity, Hana, Helena, Isabela, Kayleigh, Lesley, Lucille, Maribel, Maritza, Melany, Jaidyn, Kristin, Lilia, Marina, Rubi, Yareli, Adalyn, Averie, Elsa, Esperanza, Juliette, Lilian, Lluvia, Nataly, Norah, Ryleigh, Sonia, Aileen, Alessandra, Areli, Brisa, Carissa, Chanel, Ellen, Gwendolyn, Gwyneth, Janelle, Jaqueline, Jaylin, Kadence, Karime, Kathleen, Larissa, Lia, Linnea, Myla, Presley, Taryn, Yadira, Yaritza, Asha, Azul, Callie, Cristina, Dayanara, Kenna, Lizeth, Aliana, Audrina, Aylin, Corinne, Gia, Haylee, Paola, Perla, Skyla, Aubriana, Blake, Elianna, Jazlynn, Kamila, Kassidy, Noemi, Sloan, Allie, Amalia, Cheyenne, Clementine, Crystal, Danika, Elin, Elisa, Estrella, Etta, Jazmin, Lilianna, Mallory, Nova, Paloma, Shiloh, Teresa, Viviana, Yamileth, Amia, Courtney, Jayden, Leia, Leticia, Maeve, Magnolia, Mira, Rilynn, Tess, Abby, Angel, Ariah, Aubriella, Belle, Cambria, Jayla, Lana, Lilyana, Boden, Cale, Camron, Dangelo, Darian, Derrick, Felix, Keenan, Marek, Octavio, Sage, Aldo, Braylon, Eddie, Ewan, Isaias, Isiah, Kaeden, Kian, Maximilian, Porter, Augustus, Davin, Ezequiel, Guillermo, Rhys, Seamus, Sterling, Talan, Uriah, Jimmy, Kingston, Mathew, Milo, Salvador, Soren, Adriel, Alfonso, Alfredo, Chris, Ernesto, Julius, Louis, Mathias, Darey, Mohamed, Santana, Tobin, Brecken, Bridger, Damon, Duncan, Kash, Leonel, Yandel, Hugo, Ramon, Bodhi, Foster, Sylas, Theo, Crosby, Daxton, Esteban, Ismael, Kolton, Leonidas, Mohammed, Moises, Raiden, Saul, Uriel, Westin, Aden, Adonis, Anderson, Callum, Colby, Dariel, Harvey, Misael, Otis, Valentino, Van, Vance, Christine, Renee, Tara, Brenna, India, Julissa, Kylee, Maggie, Bella, Monica, Nyasia, Sanai, Tianna, Anya, Hazel, Georgia, Lilliana, Riya, Saniya, Summer, Annika, Ivy, Julianne, Annalise, Kathryn, Lucia, Luna, Nadia, Nayeli, Nylah, Tatiana, Ariella, Haley, Londyn, Makenzie, Amina, Cataleya, Jennifer, Jessica, Brody, Jaylen, Kaden, Rohan, Todd, Ty, Jace, Jonas, Francis, Levi, Marcos, Peyton, Tanner, Vincenzo, Damian, Harry, Jaxon, Mario, Yariel, Kauan, Krish, Roman, Zane, Grant, Chace, Chance, Marcello, Iker, Nikolas, Seth, Xander, Axel, Muhammad, Tucker, Abel, Archer, Cody, Holden, Leon, Matias, Alexa, Gabriella, Lillian, Leah, Madeline, Nina, Sabrina, Evelyn, Lucy, Sadie, Adriana, Alyssa, Ashly, Savannah, Melanie, Brianna, Eliana, Jasmine, Piper, Lauren, Valentina, Jordyn, Reginald, Donnell, Kyle, Nicolas, Theodore, Devin, Josiah, Alejandro, Kenneth, Caden, Damari, Miguel, Wyatt, Bryan, Gavin, Landon, Victor, Carlos, Juan, Tristan, Amy, Cassidy, Katelyn, Faith, Caroline, Charlotte, Amelia, Katherine, Laila, Mackenzie, Rachel, Sydney, Nevaeh, Gabrielle, Scarlett, Alan, Brendan, Dante, Luis, Jesus, Collin, Antonio, Colton, Nasir, Bryson, Giovanni, Alecia, Alexi, Alexzandria, Alize, Anais, Anyah, Belinda, Carol, Celia, Darlene, Diya, Estefani, Georgina, Haileigh, Imari, Itzel, Jackeline, Johana, Kailani, Kaleah, Katlin, Leeann, Lissette, Lorelai, Mandy, Marianne, Mariyah, Melinda, Naila, Oriana, Randi, Samarah, Samiyah, Silvana, Sky, Sonya, Yarelis, Ailani, Averi, Deasia, Dejah, Destany, Elaine, Elina, Elliana, Emelia, Evelin, Gabriel, Hilary, Hunter, Ileana, Ingrid, Jakyra, Jamia, Jana, Janice, Jenesis, Kathy, Katya, Kaylani, Kayle, Kelis, Kya, Lianna, Melania, Mikaylah, Myra, Robyn, Rocio, Roxana, Sheyla, Soleil, Sydnie, Yulissa, Adela, Aida, Alayah, Allyssa, Alysia, Anaiya, Annaliese, Annamarie, Anneliese, Daisha, Gisele, Giulia, Harlee, Hillary, Izabelle, Jalia, Jianna, Joanne, Kalia, Kamaria, Kamilah, Kaniyah, Katy, Kyana, Kyanna, Laurel, Livia, Loren, Luana, Maliyah, Milagros, Milena, Miya, Nicolette, Odalis, Priya, Raina, Roxanne, Sandy, Suri, Yessica, Alessia, Aliza, Anita, Berenice, Cailyn, Caydence, Christianna, Daniyah, Eryn, Geneva, Ginger, Jalisa, Janyah, Jayna, Jazlene, Joyce, Kacey, Karlie, Katalina, Kimaya, Kinsley, Lynn, Matilda, Maylin, Montana, Nelly, Noelani, Rhea, Sabina, Saniah, Sumayah, Suzanne, Tierra, Wynter, Yadhira, Zakiyah, Zharia, Adamaris, Amaiya, Astrid, Aya, Briannah, Caitlynn, Charlene, Cristal, Diane, Elyssa, Hailie, Ivanna, Jaela, Janie, Jasleen, Jasmyn, Kalani, Kalli, Kamaya, Kylah, Leandra, Lidia, Melisa, Monserrat, Nailah, Roxanna, Samaria, Shay, Stefanie, Tamiyah, Yahaira, Yanelis, Abigael, Alliyah, Araceli, Ashtyn, Audriana, Brianne, Bridgette, Bryana, Clare, Dalia, Dalila, Danae, Darcy, Desirae, Dorothy, Elia, Hadassa, Jaclyn, Joelle, Lariah, Lisandra, Liv, Luisa, Sharon, Sheila, Tamiya, Tanya, Yolanda, Akeelah, Braelynn, Chantel, Chaya, Chelsey, Devyn, Emmaleigh, Evie, Jaeda, Jaylani, Kaidence, Katerina, Katrina, Kori, Krista, Maliah, Maxine, Mayra, Melani, Milana, Milania, Raniya, Tamya, Tyanna, Tyler, Yara, Alayla, Alisa, Alli, Aniah, Britton, Cayla, Caylin, Celine, Charleigh, Honesty, Izabel, Janylah, Joselin, Jurnee, Keilani, Kirra, Londynn, Marcella, Maryann, Naisha, Paityn, Payten, Reginae, Rhianna, Rylynn, Xiomara, Aliyana, Amaria, Armoni, Avani, Avril, Brynleigh, Daria, Franchesca, Janaya, Jazelle, Josslyn, Kalea, Katia, Keily, Kynlee, Leanna, Margarita, Noor, Nyah, Raleigh, Reyna, Selina, Sofie, Stacey, Susan, Taleah, Taliah, Tyana, Willa, Yaneli, Anaiah, Capri, Dayanna, Elizaveta, Emelyn, Emmaline, Jadore, Juniper, Lourdes, Margot, Renesmee, Seraphina, Shaylee, Ansleigh, Ariela, Audrianna, Carlota, Chiara, Egypt, Ekaterina, Emoni, Kailynn, Keila, Kynleigh, Leena, Leilany, Malayah, Mylah, Sahasra, Samaya, Samirah, Sephora, Violette, Yasmeen, Zainab, Andon, Blaise, Brooks, Coleman, Cordell, Deondre, Devante, Dyllan, Efren, Freddie, Hans, Howard, Jamel, Jarius, Jaron, Jomar, Kent, Khamani, Merrick, Rico, Shemar, Antony, Benny, Braedon, Darwin, Dmarion, Duane, Edison, Elvin, Frankie, Geoffrey, Gonzalo, Hamza, Hezekiah, Jadin, Jahiem, Jamarcus, Jashawn, Laurence, Luc, Markel, Pranav, Randolph, Reinaldo, Rickey, Sami, Tyquan, Tyreke, Zyon, Adyn, Arnav, Barrett, Broderick, Cedrick, Danilo, Daunte, Don, Eliezer, Emil, Fredy, Jai, Jameel, Jariel, Jarrell, Javaris, Javontae, Javonte, Jaycob, Johnnie, Kalel, Malakhi, Malique, Marko, Nestor, Paolo, Pierre, Thiago, Trae, Tre, Trevion, Ulises, Yaniel, Ace, Achilles, Adin, Amos, Carmello, Franklyn, Jahari, Javari, Jayvon, Kamden, Keller, Kentrell, Marley, Marquez, Matthias, Nikhil, Niko, Paulo, Sanjay, Simeon, Tavares, Yonathan, Yovani, Abner, Colson, Dandre, Demarco, Fred, Geovanny, German, Guy, Hassan, Johann, Jowell, Karl, Keelan, Landan, Matheus, Mikel, Octavius, Ross, Schneider, Tiago, Vince, Winston, Yosef, Zephaniah, Aditya, Aedan, Alonso, Bernardo, Dereon, Giancarlos, Hugh, Jacobo, Jahmari, Jamarian, Jan, Jeshua, Milton, Mykel, Nick, Osvaldo, Reuben, Semaj, Tristyn, Vladimir, Will, Yousef, Blaze, Bode, Breon, Carlton, Cristofer, Eder, Eduard, Elvis, Gino, Jacori, Jahmir, Javien, Jedidiah, Jordon, Kemari, Kory, Maxx, Obed, Rodrick, Stone, Valentin, Aaden, Ahmari, Amar, Braylin, Dash, Demario, Devontae, Eddy, Eugene, Geovanni, Jacarri, Jakai, Jakhi, Jencarlos, Moshe, Nikita, Rashawn, Stefan, Tyrone, Zaid, Zyion, Alek, Aleksander, Aydin, Jayvian, Jeriel, Khamari, Kylen, Landry, Mikael, Nikko, Tariq, Aayden, Aiyden, Anton, Ares, Avi, Damani, Devonte, Emmitt, Ernest, Ever, Jahleel, Jelani, Jordy, Keion, Kingsley, Konner, Marvens, Noe, Raheem, Rene, Yahya, Zaylen, Zayn, Alistair, Camren, Gatlin, Jaceon, Kamdyn, Onyx, Tavaris, Vihaan, Amaris, Damaris, Emani, Jakeria, Kianna, Kourtney, Laisha, Melina, Moriah, Neha, Tina, Antonia, Ariyana, Flor, Ivey, Jamaria, Jamyah, Kamille, Mason, Robin, Samira, Sariyah, Shamiya, Tykeria, Zykia, Aliya, Julieta, Kalynn, Lilah, Mariam, Priscilla, Roselyn, Shanya, Yesica, Abagail, Bayleigh, Candice, Carrington, Eboni, Kaia, Karis, Karleigh, Katharine, Nya, Shreya, Tyasia, Alaysia, Aminata, Anyla, Baleigh, Carys, Cori, Josselyn, Kaylah, Laniyah, Laylah, Myasia, Shayna, Valencia, Yazmine, Aditi, Amiracle, Anjali, Carrie, Christiana, Ellison, Gemma, Luciana, Rosemary, Trenity, Trinitee, Amyra, Jamaya, Janyla, Kalyn, Kloe, Noa, Zykeria, Alasia, America, Anahi, Aniston, Carlie, Dior, Kamora, Kayli, Lina, Lisa, Nariyah, Shaniyah, Zahra, Annaleigh, Aubreigh, Jenny, Kaelynn, Leona, Mercy, Rebeca, Aanya, Coraline, Giuliana, Jakiyah, Paisleigh, Presleigh, Brookelynn, Jessa, Journei, Justyce, Tahiry, Alfred, Daveon, Deshaun, Garry, Jalin, Keandre, Rashaad, Tremaine, Alden, Daquan, Deontae, Dontavious, Jamon, Javeon, Kason, Khalid, Martez, Quantavious, Raphael, Samir, Travion, Amarion, Elmer, Harris, Immanuel, Joaquin, Judson, Kareem, Reyli, Ronaldo, Treveon, Benton, Deonte, Emmett, Felipe, Jamarious, Jamauri, Keonte, Ryland, Tavion, Wayne, Ben, Gordon, Izaiah, Jaquez, Jaydin, Rishi, Treyvon, Tyshawn, Aidyn, Briggs, Darrell, Deshun, Dion, Jeramiah, Lathan, Ridge, Yusuf, Giovanny, Harold, Leonard, Mike, Tylan, Zayvion, Branden, Carl, Coby, Darien, Jacari, Jamaal, Jaquavious, Jefferson, Mayson, Raul, Stanley, Xavi, Adan, Antwan, Brantlee, Brice, Kaysen, Lee, Marcel, Yahir, Abdullah, Anson, Armando, Callan, Milan, Carsen, Collier, Dilan, Forrest, Khai, Reyansh, Shepherd, Taj, Ashlynn, Mari, Maile, Nanea, Genesis, Zoey, Addison, Mahealani, Mya, Shelby, Tehani, Natalie, Sophie, Amaya, Emi, Hilinai, Kaitlyn, Jackson, Keola, Makana, Pookela, Alika, Kawika, Brady, Derek, Jett, Maddox, Ryden, Laakea, Zander, Kanai, Kyler, Nainoa, Addyson, Annabelle, Karla, Braelyn, Fatima, Genevieve, Anastasia, Kinlee, Vivienne, Berkley, Fiona, Laura, Jaylah, Eduardo, Carver, Hector, Korbin, Johnny, Breanna, Brynlee, Macy, Alivia, Hayden, Madilyn, Mylie, London, Brooklynn, Camila, Anna, Taylee, Sebastian, Clayton, Hyrum, Tayson, Jared, Dominik, Benson, Aidan, Mccoy, Ronan, Alexandrea, Ashia, Ivonne, Karyme, Madysen, Maren, Nakiya, Oliwia, Ria, Rita, Sheridan, Stefania, Taniah, Yvette, Citlalli, Felicia, Jeanette, Justine, Klaudia, Lamya, Trisha, Weronika, Aislinn, Janya, Keara, Sally, Zaira, Adia, Angeles, Antoinette, Aubrianna, Jori, Julisa, Magaly, Meaghan, Sahana, Syeda, Alisson, Analise, Damya, Dania, Eleni, Ivette, Janette, Jania, Layan, Lilyann, Makenzi, Margo, Sariah, Shirley, Susana, Zaina, Annelise, Faye, Jayana, Nathalia, Rory, Yarel, Zoya, Avah, Beatrix, Betsy, Daniya, Harlow, Ivana, Janet, Jolene, Louisa, Manha, Shaila, Angeline, Janiah, Katarina, Lanie, Lara, Lizette, Princess, Blakely, Brynley, Jaslene, Kavya, Mylee, Raya, Wren, Adley, Alannah, Izel, Janessa, Lillyana, Lorraine, Maja, Marleigh, Arantza, Gwenyth, Karolina, Marlowe, Nalani, Shanaya, Stevie, Sylvie, Cedric, Ignacio, Kalen, Kejuan, Luciano, Marshaun, Martell, Rahul, Ralph, Akshay, Avion, Mahmoud, Tayshaun, Terrion, Ulysses, Yaseen, Braedyn, Dionte, Eliot, Gianluca, Kurtis, Lashawn, Marquan, Mustafa, Piotr, Raymundo, Rex, Santos, Aayan, Benicio, Dawid, Eryk, Jaren, Josef, Juanpablo, Kegan, Landin, Latrell, Maksymilian, Maximillian, Norman, Roland, Yash, Dejuan, Derion, Derrion, Dontrell, Ethen, Jakari, Jarell, Kesean, Laith, Lamarion, Tomasz, Andreas, Antoni, Bartosz, Dajuan, Dashaun, Ishaan, Kalvin, Lucca, Lukasz, Miguelangel, Unknown, Anish, Austen, Dwayne, Jamere, Kooper, Nathen, Allan, Deven, Izaak, Javian, Markell, Maxim, Michal, Ronin, Rudra, Ameen, Craig, Denzel, Tripp, Urijah, Zyaire, Ahmir, Apollo, Armaan, Bilal, Camilo, Cormac, Faris, Gionni, Jaycion, Magnus, Rayyan, Shaan, Vivaan, Arturo, Bryer, Edmund, Isaak, Saif, Vaughn, Clarissa, Elle, Marisol, Regina, Danna, Angelique, Dayana, Kari, Lillyann, Adele, Adelina, Brynna, Hadlee, Lyra, Raylee, Avalynn, Estella, Jovie, Leila, Natasha, Rosie, Alvin, Garret, Jamari, Trenten, Brennen, Briar, Gerald, Neil, Ryne, Terrence, Alberto, Malcolm, Mauricio, Alonzo, Mahlon, Nevin, Memphis, Brennon, Emilio, Korbyn, Lyndon, Drayden, Jaeden, Bronson, Koen, Corbyn, Maximiliano, Khalil, Zeke, Coen, Major, Cindy, Katelynn, Adalynn, Breckyn, Alicia, Gentry, Azalea, Zackary, Fabian, Marco, Emiliano, Lorenzo, Ansley, Marissa, Henley, Kenleigh, Roy, Bailey, Raylen, Kashton, Jeanne, Krystal, Demi, Ebony, Shelbi, Amiya, Dajah, Jamyra, Markayla, Chasity, Baileigh, Shyla, Harleigh, Kennadi, Jacelyn, Glenn, Demond, Jacolby, Tahj, Corbin, Kylon, Tyren, Tyron, Beaux, Tyrell, Brant, Mohammad, Antoine, Coy, Gabe, Kullen, Daylon, Raylan, Tylen, Willie, Delia, Rayssa, Ananya, Mariaclara, Niamh, Mariaeduarda, Calleigh, Gwen, Isha, Louise, Maryam, Jean, Guilherme, Jamal, Shamus, Zack, Franco, Sebastien, Rayan, Conner, Cash, Joniel, Lucien, Sanaa, Kierra, Malaya, Saniyah, Yoselin, Breasia, Stephany, Name, Milani, Carter, Eldana, Jaliyah, Drake, Abdul, Lane, Leandro, Nazir, Caron, Tavon, Zain, Ruby, Hailey, Braden, Jeremiah, Justin, Aaron, Cloey, Destiney, Jena, Daija, Denise, Eman, Dream, Lizbeth, Savanah, Alanah, Kora, Nahla, Ellianna, Kensington, Maram, Remy, Ayva, Tamia, Jawad, Keyon, Laron, Dakoda, Leyton, Carlito, Derick, Jovan, Syed, Abhinav, Malek, Aarav, Masen, Nicklas, Odin, Adnan, Cal, Castiel, Hussain, Makai, Najma, Ilhan, Nawal, Muna, Sahra, Siham, Britta, Evalynn, Avalon, Sundus, Hanan, Harriet, Rahma, Safa, Vienna, Yusra, Ayan, Evalyn, Iqra, Ivory, Mumtaz, Munira, Ramona, Abdullahi, Anas, Bjorn, Otto, Mahad, Leif, Yasir, Abdulahi, Angelo, Zakaria, Louie, Truman, Kierstin, Kierstyn, Pamela, Kerrigan, Stormy, Deangelo, Daron, Treyton, Jacobi, Kannon, Chevy, Jakyla, Swayze, Kanye, Jatavious, Kadarius, Jaquarius, Diego, Martavious, Jonathan, Nicholas, Nathan, Bonnie, Dynasty, Jala, Joana, Lori, Yaquelin, Christy, Cinthia, Demetria, Mahogany, Marlen, Nakiyah, Paulina, Vanesa, Blanca, Tanasia, Cooper, Iyonna, Keasia, Aziyah, Chastelyn, Honesti, Jaziyah, Promise, Avianna, Zamiyah, Addilynn, Anylah, Zendaya, Raekwon, Tyrese, Tyshaun, Kenan, Stewart, Xavion, Jaheim, Daylan, Banks, Jermiah, Jesiah, Yair, Blayden, Zymir, Brently, Gray, Grey, Zamir, Jaceyon, Samantha, Charles, David, Brandon, Isaiah, Pooja, Sana, Shivani, Devora, Faiga, Tzipora, Aviva, Basya, Divya, Aarya, Anabel, Faigy, Sima, Asiyah, Abril, Hinda, Meira, Rivkah, Sanvi, Zahara, Khushi, Mahi, Sora, Nayla, Perel, Shira, Ester, Tova, Brocha, Jaslyn, Raizy, Aaradhya, Gittel, Gitty, Haniya, Jordana, Meera, Avraham, Filip, Sholom, Tymir, Yechiel, Aryeh, Ibn, Shalom, Ansh, Gian, Johnpaul, Lenny, Neel, Sahil, Ahron, Akiva, Naftoli, Yasin, Simcha, Zahmir, Efraim, Idris, Shaul, Shraga, Naftali, Nosson, Shivam, Uri, Boruch, Emir, Asad, Jasir, Soham, Yisrael, Baruch, Darsh, Shiven, Abdiel, Niam, Gilbert, Bethzy, Marely, Adolfo, Eli, Adama, Aneesa, Angelie, Ani, Aoife, Avital, Batsheva, Blimie, Danasia, Esha, Esty, Frimet, Jadah, Jaileen, Jesenia, Jolin, Malika, Maranda, Mykayla, Sunny, Tasneem, Tenzin, Xin, Aissatou, Amna, Becky, Deirdre, Doris, Ema, Francine, Henny, Idy, Kadiatou, Kasandra, Kimberley, Maha, Mariel, Mika, Nayely, Penina, Roizy, Salome, Saoirse, Shaniah, Shantel, Siarra, Vicki, Aidel, Anijah, Batya, Betty, Brigitte, Cate, Ciarra, Coral, Fatou, Karin, Kiarra, Kimani, Kristy, Marializ, Nadine, Perl, Queen, Rachell, Rifka, Rifky, Ruchy, Ryanna, Sharlene, Winni, Xaria, Yu, Yvonne, Zelda, Aicha, Fanta, Goldie, Ines, Jackelyn, Jadalynn, Kezia, Mayah, Nafisa, Odelia, Reanna, Simi, Suhani, Suki, Susanna, Wiktoria, Aine, Alea, Amerie, Avigayil, Bintou, Brigid, Connie, Daniel, Empress, Evan, Fraida, Freida, Henchy, Janay, Laiba, Malina, Michela, Mushka, Olga, Rania, Skylynn, Andie, Cayleigh, Elianny, Eshal, Flora, Jailene, Keren, Malaika, Malena, Nikki, Sabine, Stefany, Tanvi, Tzirel, Yajaira, Yana, Zeldy, Alishba, Ayelet, Cailin, Chanie, Frady, Frieda, Halima, Jadalyn, Jenelle, Viola, Yessenia, Atara, Eleanora, Eshaal, Keilyn, Melia, Ruchel, Samiah, Shevy, Toba, Tracy, Zora, Arianny, Arisha, Awa, Aysha, Brucha, Cattleya, Cleo, Emmanuelle, Liyana, Marielle, Matty, Nichole, Nilah, Tasnim, Vivien, Zahava, Ayat, Elif, Hendy, Ita, Jasmina, Lucianna, Nabiha, Nicoletta, Tzivia, Yitta, Yuna, Aniylah, Darla, Dua, Orly, Petra, Queena, Rosalyn, Sumaiya, Sumaya, Tehila, Trany, Zola, Abdoulaye, Amaury, Angus, Antwone, Boubacar, Brandan, Deniz, Dereck, Edin, Farhan, Iverson, Jadan, Jayshawn, Jeter, Kadeem, Keanu, Mahdi, Ousmane, Ramel, Rasheed, Tafari, Aharon, Alter, Amadou, Amit, Bernie, Binyomin, Darin, Duvid, Ishan, Jamell, Jerell, Jovanni, Karon, Keven, Naeem, Nana, Nesanel, Patryk, Quinlan, Shlomie, Umar, Zalman, Amrom, Andrei, Binyamin, Clive, Haris, Jarred, Kevon, Krystian, Mateusz, Nachman, Pasquale, Quadir, Robinson, Shamir, Tahir, Vasilios, Yechezkel, Avrum, Gerson, Jameer, Jashua, Jeffry, Jerrell, Joziah, Kamar, Kiernan, Mahamadou, Ronny, Stavros, Yonatan, Abdoul, Abe, Aboubacar, Akeem, Benedict, Brandyn, Claudio, Dimitrios, Elan, Gershon, Hillel, Kemar, Kofi, Mattias, Oskar, Saleh, Shayan, Yitzchak, Yoav, Bayron, Ciaran, Dhruv, Enmanuel, Jonatan, Jostin, Lebron, Meilech, Mouhamed, Netanel, Oisin, Rogan, Youssouf, Adyan, Ajay, Alpha, Arman, Benzion, Colden, Jahsiah, Jamier, Kacper, Sammy, Stephan, Chayce, Jakub, Linus, Naftula, Nuchem, Shayaan, Thierno, Timur, Yanuel, Yousuf, Zakariya, Cairo, Daniyal, Dashiell, Ezriel, Fishel, Graydon, Hashim, Kamil, Meyer, Siddharth, Yehudah, Yeshua, Yidel, Arham, Azaan, Elazar, Haroon, Jahlil, Kimi, Naseem, Subhan, Ahnaf, Bastian, Bentzion, Domenico, Karas, Niall, Rocky, Yonah, Brionna, Malayna, Catrina, Cortney, Gracey, Leann, Shawna, Cianna, Hawa, Kendyll, Makiah, Myleigh, Addalynn, Adelle, Adilyn, Loralei, Adilynn, Cambree, Kyrah, Raniyah, Rhylee, Vayda, Anisa, Eisley, Khaleesi, Laina, Abdirahman, Mitchel, Storm, Jullian, Donta, Kayleb, Coleton, Taven, Kael, Treshawn, Marty, Brantly, Maddix, Wallace, Kaisen, Jacie, Preslee, Jaci, Jentry, Pyper, Rowdy, Heston, Ruger, Hagen, Bryar, Cameran, Kristine, Lexis, Lizzie, Rosanna, Barbie, Kirstin, Rianna, Verna, Mea, Grayce, Siani, Skyy, Lexus, Everly, Payson, Sahara, Kinslee, Nadir, Namir, Symir, Tamir, Jahsir, Marlin, Quamir, Tymere, Zyair, Barry, Hanif, Mehki, Haneef, Zakir, Finnian, Quran, Zaki, Rahmir, Syncere, Saleem, Enos, Isaac, Rivers, Drayton, Robert, Alyssia, Allisson, Keylee, Kloey, Zaylee, Journie, Kenzlee, Jamarius, Annalisa, Brylie, Cathy, Deana, Dezarae, Deziree, Elexis, Halley, Idalia, Illeana, Jazzmine, Jeslyn, Kaily, Karisa, Kassie, Kaytlin, Kelley, Kim, Kiyah, Landree, Landri, Lisbet, Liza, Maira, Malerie, Marlyn, Mayrin, Myrka, Saira, Samanta, Sanjuanita, Tamyra, Thaily, Tytiana, Valarie, Yamilex, Yaneth, Alazae, Alazay, Analyssa, Aralyn, Audry, Austin, Cady, Chesney, Daijah, Dawn, Genisis, Jamileth, Jannet, Jazzmin, Jovanna, Kadynce, Kandice, Karoline, Katlynn, Kenedy, Keyanna, Leanne, Lora, Milla, Mona, Naudia, Nereida, Racheal, Stefani, Suzanna, Tera, Teresita, Tonya, Vannesa, Yanet, Adria, Aislyn, Alizabeth, Amie, Andria, Arleen, Ashli, Aysia, Chastity, Elektra, Gissell, Jaclynn, Jacy, Jadeyn, Jolynn, Josefina, Kaileigh, Kalyssa, Kamry, Katerin, Kaytlyn, Keyana, Kilee, Kyli, Lakyn, Leonor, Lisset, Lizet, Mattison, Misty, Nydia, Sayra, Sicily, Zia, Addysen, Aleida, Allysa, Alya, Amberlynn, Anayeli, Atiana, Blaire, Briseis, Chassidy, Christen, Cinthya, Codi, Constanza, Estephanie, Glory, Graci, Hannia, Imelda, Jacee, Jadelynn, Jennyfer, Jizelle, Judy, Kambree, Karisma, Kathia, Keelie, Krislyn, Landrie, Larkin, Leilene, Lisette, Loretta, Loryn, Nhi, Pricilla, Saleen, Sinai, Soledad, Vy, Zayra, Aide, Anh, Arrianna, Ashlynne, Autum, Azalia, Azeneth, Breann, Brooklin, Cailee, Clarisa, Cydney, Dennise, Elda, Haidyn, Jayleigh, Jaylie, Jlynn, Joshlyn, Keyli, Kristiana, Leyna, Mariafernanda, Marly, Myranda, Naydelin, Saray, Yanely, Yulisa, Aaliah, Adaya, Aleeya, Aleya, Allana, Analeah, Anette, Delylah, Honey, Jaidah, Jazlyne, Karrington, Kaylan, Kaylea, Kodi, Krysta, Layna, Magali, Makaylee, Makinley, Mckenzi, Nadya, Nellie, Nevaeha, Nohemi, Vianca, Zaylie, Ahtziri, Alaysha, Alizon, Arlett, Bethanie, Beverly, Catelyn, Desteny, Genessis, Idaly, Jacklynn, Janelly, Kailah, Kambri, Kyndra, Laynee, Leylah, Mallorie, Rylea, Stormie, Yanira, Aiza, Aja, Alexys, Anaiyah, Arlyn, Bliss, Candy, Charisma, Dulcemaria, Elyana, Emberly, Emmarie, Estela, Jorley, Kambry, Kenadee, Kynlie, Liya, Mazie, Milca, Nallely, Roxy, Skarlett, Yzabella, Aadhya, Adalina, Adaly, Aly, Amberlee, Amberlyn, Angelyn, Anistyn, Aribella, Averee, Berklee, Brinlee, Briza, Clover, Dailyn, Darianna, Dora, Emrie, Hollyn, Jayme, Jocelyne, Kinsleigh, Kinsler, Kinzlee, Kyara, Kyliee, Leeah, Makynlee, Maycie, Preslie, Roxie, Taelyn, Yanelly, Yatziri, Aleen, Alliana, Alyza, Artemis, Avalee, Bentleigh, Brilee, Cree, Daliyah, Emorie, Fabiana, Gretel, Jariah, Kahlan, Kristal, Laya, Mailen, Marleen, Odalys, Raelee, Xitlaly, Yisel, Zayda, Abree, Aisley, Alaiyah, Alayza, Amal, Amery, Amri, Anapaula, Anvi, Avni, Berlin, Brailey, Brenlee, Embry, Evyn, Faithlynn, Haya, Jacelynn, Jaelah, Jenicka, Josey, Kaely, Kaliah, Karmyn, Kenzleigh, Korina, Lexy, Lotus, Merida, Paizley, Reign, Rosemarie, Yaiza, Zarina, Andrick, Anselmo, Ciro, Delfino, Devion, Devonta, Dusty, Edmundo, Eriberto, Erwin, Eusebio, Fermin, Fidencio, Fransisco, Hagan, Jacobe, Jathan, Joeangel, Ken, Keylan, Mickey, Braedan, Bryton, Cadyn, Giovany, Greco, Hogan, Iziah, Javan, Jayro, Jeff, Jevon, Jonpaul, Klayton, Paden, Payden, Roque, Tevin, Wilber, Bladimir, Dalen, Darrien, Dedrick, Denton, Dyson, Fabricio, Florentino, Geovany, Isaiha, Jaelon, Leeroy, Tryston, Xavian, Zeth, Corben, Dadrian, Dagoberto, Daren, Darrian, Elijiah, Iram, Kalob, Kalub, Kevyn, Price, Ransom, Rosendo, Zarek, Amador, Blane, Braylan, Coltyn, Criss, Gibran, Hilario, Jaidan, Jericho, Joeanthony, Kelby, Marcelino, Rigo, Sedrick, Truett, Westen, Westley, Anjel, Avian, Canon, Dameon, Demian, Eian, Jamichael, Jarek, Jarren, Jaydyn, Job, Kace, Kaydon, Lex, Lino, Said, Tadeo, Taylen, Trysten, Valente, Andrik, Baldemar, Blaize, Braelon, Caedmon, Ceasar, Coltin, Davien, Eliud, Esai, Izrael, Jacorian, Jairus, Kaeson, Kavion, Kipton, Lamarcus, Truitt, Ulisses, Weldon, Westyn, Zade, Zaine, Braxtyn, Brylan, Casyn, Conley, Esau, Esdras, Ezrah, Herman, Isac, Izaac, Jayse, Kacen, Kallen, Kollin, Macen, Raylon, Rick, Taylon, Anakin, Brazos, Burhanuddin, Denim, Dresden, Fenix, Izael, Jacinto, Jaydenn, Layden, Lian, Long, Veer, Alaric, Bodie, Caysen, Eladio, Ethaniel, Fischer, Jayveon, Jayvin, Jones, Judd, Masyn, Pete, Raziel, Steele, Xaiden, Xavien, Adonai, Ander, Axle, Baron, Dez, Ezio, Gavino, Kolt, Minh, Ozzy, Ranger, Rush, Shlok, Texas, Townes, Uzziah, Kamree, Kaycee, Tylee, Cambrie, Kambria, Kayzlee, Paizlee, Skylie, Kanyon, Bracken, Grayden, Kimball, Ledger, Beckam, Stryder, Crue, Daxon, Kysen, Rafe, Cache, Eunice, Farah, Kiyan, Luke, Anthony, Joseph, Thomas, John, Joshua, Andrew, Saron, Vadim, Vitaliy, Dmitriy, Ruvim, Andrey, Koda, Artem, Dayne, Cashton, Chloe, Lily, Elijah, Jack, Jason, Connor, Owen, Ethan, Christopher\n"
     ]
    }
   ],
   "source": [
    "median_occurrence = baby_names['Count'].median()\n",
    "median_names = baby_names[baby_names['Count'] == median_occurrence]['Name'].unique()\n",
    "\n",
    "print(f\"The name(s) with the median occurrence is/are: {', '.join(median_names)}\")\n"
   ]
  },
  {
   "cell_type": "markdown",
   "metadata": {},
   "source": [
    "### Step 12. What is the standard deviation of names?"
   ]
  },
  {
   "cell_type": "code",
   "execution_count": 63,
   "metadata": {
    "collapsed": false
   },
   "outputs": [
    {
     "name": "stdout",
     "output_type": "stream",
     "text": [
      "The standard deviation of name occurrences is: 97.39734648625934\n"
     ]
    }
   ],
   "source": [
    "std_deviation_names = baby_names['Count'].std()\n",
    "print(f\"The standard deviation of name occurrences is: {std_deviation_names}\")\n"
   ]
  },
  {
   "cell_type": "markdown",
   "metadata": {},
   "source": [
    "### Step 13. Get a summary with the mean, min, max, std and quartiles."
   ]
  },
  {
   "cell_type": "code",
   "execution_count": 64,
   "metadata": {
    "collapsed": false
   },
   "outputs": [
    {
     "data": {
      "text/html": [
       "<div>\n",
       "<style scoped>\n",
       "    .dataframe tbody tr th:only-of-type {\n",
       "        vertical-align: middle;\n",
       "    }\n",
       "\n",
       "    .dataframe tbody tr th {\n",
       "        vertical-align: top;\n",
       "    }\n",
       "\n",
       "    .dataframe thead tr th {\n",
       "        text-align: left;\n",
       "    }\n",
       "\n",
       "    .dataframe thead tr:last-of-type th {\n",
       "        text-align: right;\n",
       "    }\n",
       "</style>\n",
       "<table border=\"1\" class=\"dataframe\">\n",
       "  <thead>\n",
       "    <tr>\n",
       "      <th></th>\n",
       "      <th colspan=\"8\" halign=\"left\">Year</th>\n",
       "      <th colspan=\"8\" halign=\"left\">Count</th>\n",
       "    </tr>\n",
       "    <tr>\n",
       "      <th></th>\n",
       "      <th>count</th>\n",
       "      <th>mean</th>\n",
       "      <th>std</th>\n",
       "      <th>min</th>\n",
       "      <th>25%</th>\n",
       "      <th>50%</th>\n",
       "      <th>75%</th>\n",
       "      <th>max</th>\n",
       "      <th>count</th>\n",
       "      <th>mean</th>\n",
       "      <th>std</th>\n",
       "      <th>min</th>\n",
       "      <th>25%</th>\n",
       "      <th>50%</th>\n",
       "      <th>75%</th>\n",
       "      <th>max</th>\n",
       "    </tr>\n",
       "    <tr>\n",
       "      <th>Name</th>\n",
       "      <th></th>\n",
       "      <th></th>\n",
       "      <th></th>\n",
       "      <th></th>\n",
       "      <th></th>\n",
       "      <th></th>\n",
       "      <th></th>\n",
       "      <th></th>\n",
       "      <th></th>\n",
       "      <th></th>\n",
       "      <th></th>\n",
       "      <th></th>\n",
       "      <th></th>\n",
       "      <th></th>\n",
       "      <th></th>\n",
       "      <th></th>\n",
       "    </tr>\n",
       "  </thead>\n",
       "  <tbody>\n",
       "    <tr>\n",
       "      <th>Aaban</th>\n",
       "      <td>2.0</td>\n",
       "      <td>2013.500000</td>\n",
       "      <td>0.707107</td>\n",
       "      <td>2013.0</td>\n",
       "      <td>2013.25</td>\n",
       "      <td>2013.5</td>\n",
       "      <td>2013.75</td>\n",
       "      <td>2014.0</td>\n",
       "      <td>2.0</td>\n",
       "      <td>6.000000</td>\n",
       "      <td>0.000000</td>\n",
       "      <td>6.0</td>\n",
       "      <td>6.00</td>\n",
       "      <td>6.0</td>\n",
       "      <td>6.00</td>\n",
       "      <td>6.0</td>\n",
       "    </tr>\n",
       "    <tr>\n",
       "      <th>Aadan</th>\n",
       "      <td>4.0</td>\n",
       "      <td>2009.750000</td>\n",
       "      <td>2.872281</td>\n",
       "      <td>2008.0</td>\n",
       "      <td>2008.00</td>\n",
       "      <td>2008.5</td>\n",
       "      <td>2010.25</td>\n",
       "      <td>2014.0</td>\n",
       "      <td>4.0</td>\n",
       "      <td>5.750000</td>\n",
       "      <td>0.957427</td>\n",
       "      <td>5.0</td>\n",
       "      <td>5.00</td>\n",
       "      <td>5.5</td>\n",
       "      <td>6.25</td>\n",
       "      <td>7.0</td>\n",
       "    </tr>\n",
       "    <tr>\n",
       "      <th>Aadarsh</th>\n",
       "      <td>1.0</td>\n",
       "      <td>2009.000000</td>\n",
       "      <td>NaN</td>\n",
       "      <td>2009.0</td>\n",
       "      <td>2009.00</td>\n",
       "      <td>2009.0</td>\n",
       "      <td>2009.00</td>\n",
       "      <td>2009.0</td>\n",
       "      <td>1.0</td>\n",
       "      <td>5.000000</td>\n",
       "      <td>NaN</td>\n",
       "      <td>5.0</td>\n",
       "      <td>5.00</td>\n",
       "      <td>5.0</td>\n",
       "      <td>5.00</td>\n",
       "      <td>5.0</td>\n",
       "    </tr>\n",
       "    <tr>\n",
       "      <th>Aaden</th>\n",
       "      <td>196.0</td>\n",
       "      <td>2010.015306</td>\n",
       "      <td>2.044322</td>\n",
       "      <td>2005.0</td>\n",
       "      <td>2008.00</td>\n",
       "      <td>2010.0</td>\n",
       "      <td>2011.00</td>\n",
       "      <td>2014.0</td>\n",
       "      <td>196.0</td>\n",
       "      <td>17.479592</td>\n",
       "      <td>21.154974</td>\n",
       "      <td>5.0</td>\n",
       "      <td>6.00</td>\n",
       "      <td>10.0</td>\n",
       "      <td>20.00</td>\n",
       "      <td>158.0</td>\n",
       "    </tr>\n",
       "    <tr>\n",
       "      <th>Aadhav</th>\n",
       "      <td>1.0</td>\n",
       "      <td>2014.000000</td>\n",
       "      <td>NaN</td>\n",
       "      <td>2014.0</td>\n",
       "      <td>2014.00</td>\n",
       "      <td>2014.0</td>\n",
       "      <td>2014.00</td>\n",
       "      <td>2014.0</td>\n",
       "      <td>1.0</td>\n",
       "      <td>6.000000</td>\n",
       "      <td>NaN</td>\n",
       "      <td>6.0</td>\n",
       "      <td>6.00</td>\n",
       "      <td>6.0</td>\n",
       "      <td>6.00</td>\n",
       "      <td>6.0</td>\n",
       "    </tr>\n",
       "    <tr>\n",
       "      <th>...</th>\n",
       "      <td>...</td>\n",
       "      <td>...</td>\n",
       "      <td>...</td>\n",
       "      <td>...</td>\n",
       "      <td>...</td>\n",
       "      <td>...</td>\n",
       "      <td>...</td>\n",
       "      <td>...</td>\n",
       "      <td>...</td>\n",
       "      <td>...</td>\n",
       "      <td>...</td>\n",
       "      <td>...</td>\n",
       "      <td>...</td>\n",
       "      <td>...</td>\n",
       "      <td>...</td>\n",
       "      <td>...</td>\n",
       "    </tr>\n",
       "    <tr>\n",
       "      <th>Zyra</th>\n",
       "      <td>7.0</td>\n",
       "      <td>2012.142857</td>\n",
       "      <td>2.115701</td>\n",
       "      <td>2008.0</td>\n",
       "      <td>2011.50</td>\n",
       "      <td>2013.0</td>\n",
       "      <td>2013.50</td>\n",
       "      <td>2014.0</td>\n",
       "      <td>7.0</td>\n",
       "      <td>6.000000</td>\n",
       "      <td>1.154701</td>\n",
       "      <td>5.0</td>\n",
       "      <td>5.00</td>\n",
       "      <td>6.0</td>\n",
       "      <td>6.50</td>\n",
       "      <td>8.0</td>\n",
       "    </tr>\n",
       "    <tr>\n",
       "      <th>Zyrah</th>\n",
       "      <td>2.0</td>\n",
       "      <td>2012.000000</td>\n",
       "      <td>1.414214</td>\n",
       "      <td>2011.0</td>\n",
       "      <td>2011.50</td>\n",
       "      <td>2012.0</td>\n",
       "      <td>2012.50</td>\n",
       "      <td>2013.0</td>\n",
       "      <td>2.0</td>\n",
       "      <td>5.500000</td>\n",
       "      <td>0.707107</td>\n",
       "      <td>5.0</td>\n",
       "      <td>5.25</td>\n",
       "      <td>5.5</td>\n",
       "      <td>5.75</td>\n",
       "      <td>6.0</td>\n",
       "    </tr>\n",
       "    <tr>\n",
       "      <th>Zyren</th>\n",
       "      <td>1.0</td>\n",
       "      <td>2013.000000</td>\n",
       "      <td>NaN</td>\n",
       "      <td>2013.0</td>\n",
       "      <td>2013.00</td>\n",
       "      <td>2013.0</td>\n",
       "      <td>2013.00</td>\n",
       "      <td>2013.0</td>\n",
       "      <td>1.0</td>\n",
       "      <td>6.000000</td>\n",
       "      <td>NaN</td>\n",
       "      <td>6.0</td>\n",
       "      <td>6.00</td>\n",
       "      <td>6.0</td>\n",
       "      <td>6.00</td>\n",
       "      <td>6.0</td>\n",
       "    </tr>\n",
       "    <tr>\n",
       "      <th>Zyria</th>\n",
       "      <td>10.0</td>\n",
       "      <td>2008.900000</td>\n",
       "      <td>2.685351</td>\n",
       "      <td>2005.0</td>\n",
       "      <td>2007.25</td>\n",
       "      <td>2008.0</td>\n",
       "      <td>2010.50</td>\n",
       "      <td>2014.0</td>\n",
       "      <td>10.0</td>\n",
       "      <td>5.900000</td>\n",
       "      <td>0.737865</td>\n",
       "      <td>5.0</td>\n",
       "      <td>5.25</td>\n",
       "      <td>6.0</td>\n",
       "      <td>6.00</td>\n",
       "      <td>7.0</td>\n",
       "    </tr>\n",
       "    <tr>\n",
       "      <th>Zyriah</th>\n",
       "      <td>9.0</td>\n",
       "      <td>2009.666667</td>\n",
       "      <td>2.915476</td>\n",
       "      <td>2006.0</td>\n",
       "      <td>2007.00</td>\n",
       "      <td>2009.0</td>\n",
       "      <td>2012.00</td>\n",
       "      <td>2014.0</td>\n",
       "      <td>9.0</td>\n",
       "      <td>6.444444</td>\n",
       "      <td>1.666667</td>\n",
       "      <td>5.0</td>\n",
       "      <td>5.00</td>\n",
       "      <td>6.0</td>\n",
       "      <td>7.00</td>\n",
       "      <td>10.0</td>\n",
       "    </tr>\n",
       "  </tbody>\n",
       "</table>\n",
       "<p>17632 rows × 16 columns</p>\n",
       "</div>"
      ],
      "text/plain": [
       "          Year                                                           \\\n",
       "         count         mean       std     min      25%     50%      75%   \n",
       "Name                                                                      \n",
       "Aaban      2.0  2013.500000  0.707107  2013.0  2013.25  2013.5  2013.75   \n",
       "Aadan      4.0  2009.750000  2.872281  2008.0  2008.00  2008.5  2010.25   \n",
       "Aadarsh    1.0  2009.000000       NaN  2009.0  2009.00  2009.0  2009.00   \n",
       "Aaden    196.0  2010.015306  2.044322  2005.0  2008.00  2010.0  2011.00   \n",
       "Aadhav     1.0  2014.000000       NaN  2014.0  2014.00  2014.0  2014.00   \n",
       "...        ...          ...       ...     ...      ...     ...      ...   \n",
       "Zyra       7.0  2012.142857  2.115701  2008.0  2011.50  2013.0  2013.50   \n",
       "Zyrah      2.0  2012.000000  1.414214  2011.0  2011.50  2012.0  2012.50   \n",
       "Zyren      1.0  2013.000000       NaN  2013.0  2013.00  2013.0  2013.00   \n",
       "Zyria     10.0  2008.900000  2.685351  2005.0  2007.25  2008.0  2010.50   \n",
       "Zyriah     9.0  2009.666667  2.915476  2006.0  2007.00  2009.0  2012.00   \n",
       "\n",
       "                 Count                                                       \n",
       "            max  count       mean        std  min   25%   50%    75%    max  \n",
       "Name                                                                         \n",
       "Aaban    2014.0    2.0   6.000000   0.000000  6.0  6.00   6.0   6.00    6.0  \n",
       "Aadan    2014.0    4.0   5.750000   0.957427  5.0  5.00   5.5   6.25    7.0  \n",
       "Aadarsh  2009.0    1.0   5.000000        NaN  5.0  5.00   5.0   5.00    5.0  \n",
       "Aaden    2014.0  196.0  17.479592  21.154974  5.0  6.00  10.0  20.00  158.0  \n",
       "Aadhav   2014.0    1.0   6.000000        NaN  6.0  6.00   6.0   6.00    6.0  \n",
       "...         ...    ...        ...        ...  ...   ...   ...    ...    ...  \n",
       "Zyra     2014.0    7.0   6.000000   1.154701  5.0  5.00   6.0   6.50    8.0  \n",
       "Zyrah    2013.0    2.0   5.500000   0.707107  5.0  5.25   5.5   5.75    6.0  \n",
       "Zyren    2013.0    1.0   6.000000        NaN  6.0  6.00   6.0   6.00    6.0  \n",
       "Zyria    2014.0   10.0   5.900000   0.737865  5.0  5.25   6.0   6.00    7.0  \n",
       "Zyriah   2014.0    9.0   6.444444   1.666667  5.0  5.00   6.0   7.00   10.0  \n",
       "\n",
       "[17632 rows x 16 columns]"
      ]
     },
     "execution_count": 64,
     "metadata": {},
     "output_type": "execute_result"
    }
   ],
   "source": [
    "names.describe()"
   ]
  }
 ],
 "metadata": {
  "anaconda-cloud": {},
  "kernelspec": {
   "display_name": "Python 3",
   "language": "python",
   "name": "python3"
  },
  "language_info": {
   "codemirror_mode": {
    "name": "ipython",
    "version": 3
   },
   "file_extension": ".py",
   "mimetype": "text/x-python",
   "name": "python",
   "nbconvert_exporter": "python",
   "pygments_lexer": "ipython3",
   "version": "3.11.4"
  }
 },
 "nbformat": 4,
 "nbformat_minor": 0
}
